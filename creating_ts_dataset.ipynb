{
  "cells": [
    {
      "cell_type": "markdown",
      "metadata": {
        "id": "view-in-github",
        "colab_type": "text"
      },
      "source": [
        "<a href=\"https://colab.research.google.com/github/dylanoco/basketball-classification-dribbling/blob/master/creating_ts_dataset.ipynb\" target=\"_parent\"><img src=\"https://colab.research.google.com/assets/colab-badge.svg\" alt=\"Open In Colab\"/></a>"
      ]
    },
    {
      "cell_type": "markdown",
      "source": [
        "##Running Libraries"
      ],
      "metadata": {
        "id": "WYVACTYBnWFQ"
      }
    },
    {
      "cell_type": "code",
      "source": [
        "from google.colab import drive\n",
        "drive.mount('/content/drive')"
      ],
      "metadata": {
        "id": "W-98lb39ucDS",
        "colab": {
          "base_uri": "https://localhost:8080/"
        },
        "outputId": "117552c9-ac43-4125-b918-7bb9a6d3b68b"
      },
      "execution_count": null,
      "outputs": [
        {
          "output_type": "stream",
          "name": "stdout",
          "text": [
            "Drive already mounted at /content/drive; to attempt to forcibly remount, call drive.mount(\"/content/drive\", force_remount=True).\n"
          ]
        }
      ]
    },
    {
      "cell_type": "code",
      "source": [
        "\n",
        "import pandas as pd\n",
        "import numpy as np\n",
        "from sklearn.preprocessing import MinMaxScaler\n",
        "import glob\n",
        "from sktime.datasets import write_ndarray_to_tsfile\n",
        "from sklearn.model_selection import train_test_split\n",
        "import os\n",
        "import math\n",
        "import random\n",
        "import tensorflow as tf"
      ],
      "metadata": {
        "id": "fa_fb3onnVnL"
      },
      "execution_count": null,
      "outputs": []
    },
    {
      "cell_type": "code",
      "source": [
        "!pip install --upgrade sktime"
      ],
      "metadata": {
        "id": "8sQN7sxpnfPq",
        "colab": {
          "base_uri": "https://localhost:8080/"
        },
        "outputId": "c88f3594-e588-4113-e7d0-4b9108c3a65e"
      },
      "execution_count": null,
      "outputs": [
        {
          "output_type": "stream",
          "name": "stdout",
          "text": [
            "Requirement already satisfied: sktime in /usr/local/lib/python3.10/dist-packages (0.29.0)\n",
            "Requirement already satisfied: numpy<1.27,>=1.21 in /usr/local/lib/python3.10/dist-packages (from sktime) (1.25.2)\n",
            "Requirement already satisfied: packaging in /usr/local/lib/python3.10/dist-packages (from sktime) (24.0)\n",
            "Requirement already satisfied: pandas<2.3.0,>=1.1 in /usr/local/lib/python3.10/dist-packages (from sktime) (2.0.3)\n",
            "Requirement already satisfied: scikit-base<0.8.0,>=0.6.1 in /usr/local/lib/python3.10/dist-packages (from sktime) (0.7.7)\n",
            "Requirement already satisfied: scikit-learn<1.5.0,>=0.24 in /usr/local/lib/python3.10/dist-packages (from sktime) (1.2.2)\n",
            "Requirement already satisfied: scipy<2.0.0,>=1.2 in /usr/local/lib/python3.10/dist-packages (from sktime) (1.11.4)\n",
            "Requirement already satisfied: python-dateutil>=2.8.2 in /usr/local/lib/python3.10/dist-packages (from pandas<2.3.0,>=1.1->sktime) (2.8.2)\n",
            "Requirement already satisfied: pytz>=2020.1 in /usr/local/lib/python3.10/dist-packages (from pandas<2.3.0,>=1.1->sktime) (2023.4)\n",
            "Requirement already satisfied: tzdata>=2022.1 in /usr/local/lib/python3.10/dist-packages (from pandas<2.3.0,>=1.1->sktime) (2024.1)\n",
            "Requirement already satisfied: joblib>=1.1.1 in /usr/local/lib/python3.10/dist-packages (from scikit-learn<1.5.0,>=0.24->sktime) (1.4.2)\n",
            "Requirement already satisfied: threadpoolctl>=2.0.0 in /usr/local/lib/python3.10/dist-packages (from scikit-learn<1.5.0,>=0.24->sktime) (3.5.0)\n",
            "Requirement already satisfied: six>=1.5 in /usr/local/lib/python3.10/dist-packages (from python-dateutil>=2.8.2->pandas<2.3.0,>=1.1->sktime) (1.16.0)\n"
          ]
        }
      ]
    },
    {
      "cell_type": "markdown",
      "metadata": {
        "id": "OCtwsGyB6Y5b"
      },
      "source": [
        "## The Process of Creating a Dataset\n",
        "\n",
        "I will be using dummy data I created by moving my arm around for twelve seconds.\n",
        "This will be used to help me convert the CSV file recieved into a compatable .ts file type to be used for training.\n",
        "Once I have done this for the Accelerometer, Gyroscope and then finally both of them combined, I will proceed to create the actual training and testing dataset for the models."
      ]
    },
    {
      "cell_type": "code",
      "execution_count": null,
      "metadata": {
        "id": "AAv4MSIo1GYJ",
        "colab": {
          "base_uri": "https://localhost:8080/",
          "height": 321
        },
        "outputId": "64b7982b-e6f8-45dc-a20f-3f645f2e7560"
      },
      "outputs": [
        {
          "output_type": "error",
          "ename": "FileNotFoundError",
          "evalue": "[Errno 2] No such file or directory: '/content/drive/MyDrive/Development_Project/dummy_data/Accelerometer.csv'",
          "traceback": [
            "\u001b[0;31m---------------------------------------------------------------------------\u001b[0m",
            "\u001b[0;31mFileNotFoundError\u001b[0m                         Traceback (most recent call last)",
            "\u001b[0;32m<ipython-input-4-36c7d9811bf0>\u001b[0m in \u001b[0;36m<cell line: 2>\u001b[0;34m()\u001b[0m\n\u001b[1;32m      1\u001b[0m \u001b[0;31m# Converting CSV into a DataFrame for manipulation\u001b[0m\u001b[0;34m\u001b[0m\u001b[0;34m\u001b[0m\u001b[0m\n\u001b[0;32m----> 2\u001b[0;31m \u001b[0mdf_accel_data\u001b[0m \u001b[0;34m=\u001b[0m \u001b[0mpd\u001b[0m\u001b[0;34m.\u001b[0m\u001b[0mread_csv\u001b[0m\u001b[0;34m(\u001b[0m\u001b[0;34m'/content/drive/MyDrive/Development_Project/dummy_data/Accelerometer.csv'\u001b[0m\u001b[0;34m)\u001b[0m\u001b[0;34m\u001b[0m\u001b[0;34m\u001b[0m\u001b[0m\n\u001b[0m\u001b[1;32m      3\u001b[0m \u001b[0;31m#df_gyro_data = pd.read_csv('/content/drive/MyDrive/Development_Project/dummy_data/Gyroscope.csv')\u001b[0m\u001b[0;34m\u001b[0m\u001b[0;34m\u001b[0m\u001b[0m\n",
            "\u001b[0;32m/usr/local/lib/python3.10/dist-packages/pandas/io/parsers/readers.py\u001b[0m in \u001b[0;36mread_csv\u001b[0;34m(filepath_or_buffer, sep, delimiter, header, names, index_col, usecols, dtype, engine, converters, true_values, false_values, skipinitialspace, skiprows, skipfooter, nrows, na_values, keep_default_na, na_filter, verbose, skip_blank_lines, parse_dates, infer_datetime_format, keep_date_col, date_parser, date_format, dayfirst, cache_dates, iterator, chunksize, compression, thousands, decimal, lineterminator, quotechar, quoting, doublequote, escapechar, comment, encoding, encoding_errors, dialect, on_bad_lines, delim_whitespace, low_memory, memory_map, float_precision, storage_options, dtype_backend)\u001b[0m\n\u001b[1;32m    910\u001b[0m     \u001b[0mkwds\u001b[0m\u001b[0;34m.\u001b[0m\u001b[0mupdate\u001b[0m\u001b[0;34m(\u001b[0m\u001b[0mkwds_defaults\u001b[0m\u001b[0;34m)\u001b[0m\u001b[0;34m\u001b[0m\u001b[0;34m\u001b[0m\u001b[0m\n\u001b[1;32m    911\u001b[0m \u001b[0;34m\u001b[0m\u001b[0m\n\u001b[0;32m--> 912\u001b[0;31m     \u001b[0;32mreturn\u001b[0m \u001b[0m_read\u001b[0m\u001b[0;34m(\u001b[0m\u001b[0mfilepath_or_buffer\u001b[0m\u001b[0;34m,\u001b[0m \u001b[0mkwds\u001b[0m\u001b[0;34m)\u001b[0m\u001b[0;34m\u001b[0m\u001b[0;34m\u001b[0m\u001b[0m\n\u001b[0m\u001b[1;32m    913\u001b[0m \u001b[0;34m\u001b[0m\u001b[0m\n\u001b[1;32m    914\u001b[0m \u001b[0;34m\u001b[0m\u001b[0m\n",
            "\u001b[0;32m/usr/local/lib/python3.10/dist-packages/pandas/io/parsers/readers.py\u001b[0m in \u001b[0;36m_read\u001b[0;34m(filepath_or_buffer, kwds)\u001b[0m\n\u001b[1;32m    575\u001b[0m \u001b[0;34m\u001b[0m\u001b[0m\n\u001b[1;32m    576\u001b[0m     \u001b[0;31m# Create the parser.\u001b[0m\u001b[0;34m\u001b[0m\u001b[0;34m\u001b[0m\u001b[0m\n\u001b[0;32m--> 577\u001b[0;31m     \u001b[0mparser\u001b[0m \u001b[0;34m=\u001b[0m \u001b[0mTextFileReader\u001b[0m\u001b[0;34m(\u001b[0m\u001b[0mfilepath_or_buffer\u001b[0m\u001b[0;34m,\u001b[0m \u001b[0;34m**\u001b[0m\u001b[0mkwds\u001b[0m\u001b[0;34m)\u001b[0m\u001b[0;34m\u001b[0m\u001b[0;34m\u001b[0m\u001b[0m\n\u001b[0m\u001b[1;32m    578\u001b[0m \u001b[0;34m\u001b[0m\u001b[0m\n\u001b[1;32m    579\u001b[0m     \u001b[0;32mif\u001b[0m \u001b[0mchunksize\u001b[0m \u001b[0;32mor\u001b[0m \u001b[0miterator\u001b[0m\u001b[0;34m:\u001b[0m\u001b[0;34m\u001b[0m\u001b[0;34m\u001b[0m\u001b[0m\n",
            "\u001b[0;32m/usr/local/lib/python3.10/dist-packages/pandas/io/parsers/readers.py\u001b[0m in \u001b[0;36m__init__\u001b[0;34m(self, f, engine, **kwds)\u001b[0m\n\u001b[1;32m   1405\u001b[0m \u001b[0;34m\u001b[0m\u001b[0m\n\u001b[1;32m   1406\u001b[0m         \u001b[0mself\u001b[0m\u001b[0;34m.\u001b[0m\u001b[0mhandles\u001b[0m\u001b[0;34m:\u001b[0m \u001b[0mIOHandles\u001b[0m \u001b[0;34m|\u001b[0m \u001b[0;32mNone\u001b[0m \u001b[0;34m=\u001b[0m \u001b[0;32mNone\u001b[0m\u001b[0;34m\u001b[0m\u001b[0;34m\u001b[0m\u001b[0m\n\u001b[0;32m-> 1407\u001b[0;31m         \u001b[0mself\u001b[0m\u001b[0;34m.\u001b[0m\u001b[0m_engine\u001b[0m \u001b[0;34m=\u001b[0m \u001b[0mself\u001b[0m\u001b[0;34m.\u001b[0m\u001b[0m_make_engine\u001b[0m\u001b[0;34m(\u001b[0m\u001b[0mf\u001b[0m\u001b[0;34m,\u001b[0m \u001b[0mself\u001b[0m\u001b[0;34m.\u001b[0m\u001b[0mengine\u001b[0m\u001b[0;34m)\u001b[0m\u001b[0;34m\u001b[0m\u001b[0;34m\u001b[0m\u001b[0m\n\u001b[0m\u001b[1;32m   1408\u001b[0m \u001b[0;34m\u001b[0m\u001b[0m\n\u001b[1;32m   1409\u001b[0m     \u001b[0;32mdef\u001b[0m \u001b[0mclose\u001b[0m\u001b[0;34m(\u001b[0m\u001b[0mself\u001b[0m\u001b[0;34m)\u001b[0m \u001b[0;34m->\u001b[0m \u001b[0;32mNone\u001b[0m\u001b[0;34m:\u001b[0m\u001b[0;34m\u001b[0m\u001b[0;34m\u001b[0m\u001b[0m\n",
            "\u001b[0;32m/usr/local/lib/python3.10/dist-packages/pandas/io/parsers/readers.py\u001b[0m in \u001b[0;36m_make_engine\u001b[0;34m(self, f, engine)\u001b[0m\n\u001b[1;32m   1659\u001b[0m                 \u001b[0;32mif\u001b[0m \u001b[0;34m\"b\"\u001b[0m \u001b[0;32mnot\u001b[0m \u001b[0;32min\u001b[0m \u001b[0mmode\u001b[0m\u001b[0;34m:\u001b[0m\u001b[0;34m\u001b[0m\u001b[0;34m\u001b[0m\u001b[0m\n\u001b[1;32m   1660\u001b[0m                     \u001b[0mmode\u001b[0m \u001b[0;34m+=\u001b[0m \u001b[0;34m\"b\"\u001b[0m\u001b[0;34m\u001b[0m\u001b[0;34m\u001b[0m\u001b[0m\n\u001b[0;32m-> 1661\u001b[0;31m             self.handles = get_handle(\n\u001b[0m\u001b[1;32m   1662\u001b[0m                 \u001b[0mf\u001b[0m\u001b[0;34m,\u001b[0m\u001b[0;34m\u001b[0m\u001b[0;34m\u001b[0m\u001b[0m\n\u001b[1;32m   1663\u001b[0m                 \u001b[0mmode\u001b[0m\u001b[0;34m,\u001b[0m\u001b[0;34m\u001b[0m\u001b[0;34m\u001b[0m\u001b[0m\n",
            "\u001b[0;32m/usr/local/lib/python3.10/dist-packages/pandas/io/common.py\u001b[0m in \u001b[0;36mget_handle\u001b[0;34m(path_or_buf, mode, encoding, compression, memory_map, is_text, errors, storage_options)\u001b[0m\n\u001b[1;32m    857\u001b[0m         \u001b[0;32mif\u001b[0m \u001b[0mioargs\u001b[0m\u001b[0;34m.\u001b[0m\u001b[0mencoding\u001b[0m \u001b[0;32mand\u001b[0m \u001b[0;34m\"b\"\u001b[0m \u001b[0;32mnot\u001b[0m \u001b[0;32min\u001b[0m \u001b[0mioargs\u001b[0m\u001b[0;34m.\u001b[0m\u001b[0mmode\u001b[0m\u001b[0;34m:\u001b[0m\u001b[0;34m\u001b[0m\u001b[0;34m\u001b[0m\u001b[0m\n\u001b[1;32m    858\u001b[0m             \u001b[0;31m# Encoding\u001b[0m\u001b[0;34m\u001b[0m\u001b[0;34m\u001b[0m\u001b[0m\n\u001b[0;32m--> 859\u001b[0;31m             handle = open(\n\u001b[0m\u001b[1;32m    860\u001b[0m                 \u001b[0mhandle\u001b[0m\u001b[0;34m,\u001b[0m\u001b[0;34m\u001b[0m\u001b[0;34m\u001b[0m\u001b[0m\n\u001b[1;32m    861\u001b[0m                 \u001b[0mioargs\u001b[0m\u001b[0;34m.\u001b[0m\u001b[0mmode\u001b[0m\u001b[0;34m,\u001b[0m\u001b[0;34m\u001b[0m\u001b[0;34m\u001b[0m\u001b[0m\n",
            "\u001b[0;31mFileNotFoundError\u001b[0m: [Errno 2] No such file or directory: '/content/drive/MyDrive/Development_Project/dummy_data/Accelerometer.csv'"
          ]
        }
      ],
      "source": [
        "# Converting CSV into a DataFrame for manipulation\n",
        "df_accel_data = pd.read_csv('/content/drive/MyDrive/Development_Project/dummy_data/Accelerometer.csv')\n",
        "#df_gyro_data = pd.read_csv('/content/drive/MyDrive/Development_Project/dummy_data/Gyroscope.csv')"
      ]
    },
    {
      "cell_type": "code",
      "source": [
        "#Resampling the Seconds\n",
        "df_accel_data['seconds_elapsed'] = pd.to_datetime(df_accel_data['seconds_elapsed'], unit='s')\n",
        "\n",
        "df_accel_data.set_index('seconds_elapsed', inplace=True)\n",
        "\n",
        "df_resampled = df_accel_data.resample('S').mean()\n",
        "\n",
        "df_resampled.reset_index(inplace=True)\n",
        "\n",
        "df_resampled['seconds_elapsed'] = df_resampled['seconds_elapsed'].astype(int) / 1e6\n",
        "\n",
        "# Print the resampled DataFrame\n",
        "print(df_resampled)\n"
      ],
      "metadata": {
        "id": "h1oNnZsyPlxa"
      },
      "execution_count": null,
      "outputs": []
    },
    {
      "cell_type": "markdown",
      "source": [
        "## Dropping Columns\n",
        "\n",
        "Now, I must drop the necessary columns so that I only remain with; z,y and x."
      ],
      "metadata": {
        "id": "1s6Pg_FPIcT9"
      }
    },
    {
      "cell_type": "code",
      "source": [
        "df_accel_data = df_accel_data.drop(columns=['time','seconds_elapsed'])"
      ],
      "metadata": {
        "id": "XKu6dNeFcZAT"
      },
      "execution_count": null,
      "outputs": []
    },
    {
      "cell_type": "code",
      "source": [
        "df_resampled = df_resampled.drop(columns=['time','seconds_elapsed'])"
      ],
      "metadata": {
        "id": "xetiX3pSP_kW"
      },
      "execution_count": null,
      "outputs": []
    },
    {
      "cell_type": "markdown",
      "metadata": {
        "id": "u0FoZZENBq_A"
      },
      "source": [
        "## Normalisation; MinMax()\n",
        "\n",
        "I will apply Normalisation to this data. This will help with consistency in the future and aid in combatting biases the model may develop during training."
      ]
    },
    {
      "cell_type": "code",
      "execution_count": null,
      "metadata": {
        "id": "5PbTUUdSB-y6"
      },
      "outputs": [],
      "source": [
        "scaler = MinMaxScaler()\n",
        "\n",
        "# Selecting the axes, scaling them with MinMaxScaler\n",
        "df_resampled[['z', 'y', 'x']] = scaler.fit_transform(df_resampled[['z', 'y', 'x']])"
      ]
    },
    {
      "cell_type": "markdown",
      "metadata": {
        "id": "P1lWDqfMEoFm"
      },
      "source": [
        "## Establishing the labels (Y)\n",
        "\n",
        "Of course, each instance needs a label for the Classification models to be able to identify the movement performed."
      ]
    },
    {
      "cell_type": "code",
      "execution_count": null,
      "metadata": {
        "id": "3hBXHWJSE0K-"
      },
      "outputs": [],
      "source": [
        "label = 'test_1'"
      ]
    },
    {
      "cell_type": "markdown",
      "metadata": {
        "id": "rmqflxEmE4Ja"
      },
      "source": [
        "## Exporting the data\n",
        "\n",
        "Finally, we want to be able to export this data into a suitable format. I have decided to use the .ts format from SKTime.\n",
        "\n",
        "A Time-Series file requires data in the format, specified in the documentation;\n",
        "\"The dataset in a 3d ndarray to be written as a ts file which must be of the structure specified in the documentation examples/loading_data.ipynb. (n_instances, n_columns, n_timepoints)\"\n",
        "\n",
        "As a result, I need to transpose the data so that the rows and columns are essentially flipped; 3 rows, n columns (n being the amount of timepoints, the 'rows' in this case are the columns z,y and x.)\n",
        "\n",
        "Then, once inserted into the array, the shape will match the format required\n",
        "\n",
        "*   (1 instance, 3 rows, n columns)\n",
        "*   \"(n_instances, n_columns, n_timepoints)\"\n"
      ]
    },
    {
      "cell_type": "code",
      "source": [
        "df_resampled = np.transpose(df_resampled)"
      ],
      "metadata": {
        "id": "k50N8gyXQK0L"
      },
      "execution_count": null,
      "outputs": []
    },
    {
      "cell_type": "code",
      "execution_count": null,
      "metadata": {
        "id": "-6RjmsDBFBkd"
      },
      "outputs": [],
      "source": [
        "\n",
        "\n",
        "\n",
        "\n",
        "X = []\n",
        "y = []\n",
        "X.append(df_resampled)\n",
        "y.append(label)\n",
        "X = np.asarray(X)\n",
        "y = np.asarray(y)\n",
        "sy = set(y)\n",
        "\n",
        "file_path = '/content/drive/MyDrive/Development_Project/'\n",
        "write_ndarray_to_tsfile(data = X, path = file_path, problem_name='sample_data', class_label=sy,class_value_list=y)"
      ]
    },
    {
      "cell_type": "markdown",
      "source": [
        "## Allowing for more than one instance.\n",
        "\n",
        "Now that we can successfully create one instance of a movement, insert it into a dataset and create that dataset, we now need to make it capable of iterating through numerous instances.\n",
        "\n",
        "This will consist of creating a loop, iterating through a folder of CSV files, preprocessing each one of them and appending it into the list.\n",
        "\n",
        "Once completed, we then convert that list into a numpy Array to then be packed away as a Time-Series dataset !"
      ],
      "metadata": {
        "id": "eEvG3v2WS5FQ"
      }
    },
    {
      "cell_type": "code",
      "source": [
        "import os\n",
        "import random"
      ],
      "metadata": {
        "id": "AQFMmJDyV_nt"
      },
      "execution_count": null,
      "outputs": []
    },
    {
      "cell_type": "code",
      "source": [
        "X = []\n",
        "y = []"
      ],
      "metadata": {
        "id": "CPNpjP0FW74J"
      },
      "execution_count": null,
      "outputs": []
    },
    {
      "cell_type": "code",
      "source": [
        "\n",
        "path = '/content/drive/MyDrive/Development_Project/dummy_data/'\n",
        "files = os.listdir(path)\n",
        "for file in files:\n",
        "\n",
        "  df_accel_data = pd.read_csv(path+file)\n",
        "  df_accel_data['seconds_elapsed'] = pd.to_datetime(df_accel_data['seconds_elapsed'], unit='s')\n",
        "  df_accel_data.set_index('seconds_elapsed', inplace=True)\n",
        "  df_resampled = df_accel_data.resample('S').mean()\n",
        "  df_resampled.reset_index(inplace=True)\n",
        "  df_resampled['seconds_elapsed'] = df_resampled['seconds_elapsed'].astype(int) / 1e6\n",
        "\n",
        "  df_resampled = df_resampled.drop(columns=['time','seconds_elapsed'])\n",
        "\n",
        "  scaler = MinMaxScaler()\n",
        "  # Selecting the axes, scaling them with MinMaxScaler\n",
        "  df_resampled[['z', 'y', 'x']] = scaler.fit_transform(df_resampled[['z', 'y', 'x']])\n",
        "\n",
        "  df_resampled = np.transpose(df_resampled)\n",
        "\n",
        "  X.append(df_resampled)\n",
        "  y.append(label + str(random.randint(0,5)))\n",
        "\n",
        "X = np.asarray(X)\n",
        "y = np.asarray(y)\n",
        "sy = set(y)\n",
        "\n",
        "file_path = '/content/drive/MyDrive/Development_Project/'\n",
        "write_ndarray_to_tsfile(data = X, path = file_path, problem_name='sample_data', class_label=sy,class_value_list=y)\n",
        "\n",
        "\n",
        "\n"
      ],
      "metadata": {
        "id": "U7pFZz41TdlF"
      },
      "execution_count": null,
      "outputs": []
    },
    {
      "cell_type": "markdown",
      "source": [
        "## End Result\n",
        "\n",
        "We now have an ndarray with a shape of (4,3,13); 4 Instances (I had 4 CSV Files in one folder), 3 Columns (X,Y, and Z) and 13 Timepoints (Recorded at 12 seconds but the 0th second is included).\n",
        "\n",
        "We can now record as many instances as we want, insert it into a folder of our choice and generate a time-series dataset.\n",
        "## Part 2\n",
        "However, not only are we going to record individual datasets (one for accelerometer and another for gyroscope), we also need to combine the two.\n",
        "\n",
        "As a result, we need to;\n",
        "* Be able to iterate through folders\n",
        "* differentiate between Accelerometer and Gyroscope csv files\n",
        "* rename the columns and combine the two dataframes together to count as one instance!\n",
        "\n"
      ],
      "metadata": {
        "id": "0kp_AijKaiA_"
      }
    },
    {
      "cell_type": "code",
      "source": [
        "import glob\n",
        "dir_path = '/content/drive/MyDrive/Development_Project/dummy_data/'\n",
        "files = os.listdir(path)\n",
        "\n",
        "X = []\n",
        "y = []\n",
        "\n",
        "for root,files,dir in os.walk(dir_path): #This allows us to walk through the folder that has more folders(instances)\n",
        "  for name in files: #Gets the name of the folders\n",
        "    path = os.path.join(dir_path,name)\n",
        "    folder_files = os.listdir(path)\n",
        "    count = 0\n",
        "    df_list = []\n",
        "    for file in folder_files: #Grabs the individual names of the files within that folder\n",
        "      file_name = file.split(\".\") #Allows us to split the name of the file from the file type extension\n",
        "      #Standard Preprocessing from earlier\n",
        "      df_accel_data = pd.read_csv(os.path.join(path,file))\n",
        "      df_accel_data['seconds_elapsed'] = pd.to_datetime(df_accel_data['seconds_elapsed'], unit='s')\n",
        "      df_accel_data.set_index('seconds_elapsed', inplace=True)\n",
        "      df_resampled = df_accel_data.resample('S').mean()\n",
        "      df_resampled.reset_index(inplace=True)\n",
        "      df_resampled['seconds_elapsed'] = df_resampled['seconds_elapsed'].astype(int) / 1e6\n",
        "      df_resampled = df_resampled.drop(columns=['time','seconds_elapsed'])\n",
        "      #By using .split(), we can get the name of the file and rename the columns as neccessary.\n",
        "      if(file_name[0] == \"Accelerometer\"):\n",
        "        df_resampled.rename(columns={\"z\":\"accel_z\", \"y\": \"accel_y\", \"x\": \"accel_x\"},inplace=True)\n",
        "        print(df_resampled.columns)\n",
        "        scaler = MinMaxScaler()\n",
        "        # Selecting the RENAMED axes\n",
        "        df_resampled[['accel_z', 'accel_y', 'accel_x']] = scaler.fit_transform(df_resampled[['accel_z', 'accel_y', 'accel_x']])\n",
        "      else: #Same process for Gyroscope\n",
        "        df_resampled.rename(columns={\"z\": \"gyro_z\", \"y\": \"gyro_y\", \"x\": \"gyro_x\"},inplace=True)\n",
        "        print(df_resampled.columns)\n",
        "        scaler = MinMaxScaler()\n",
        "        df_resampled[['gyro_z', 'gyro_y', 'gyro_x']] = scaler.fit_transform(df_resampled[['gyro_z', 'gyro_y', 'gyro_x']])\n",
        "\n",
        "      df_list.append(df_resampled)\n",
        "      count += 1\n",
        "\n",
        "    df_total = pd.concat(df_list, axis=1, join='inner')\n",
        "    df_total = np.transpose(df_total)\n",
        "    X.append(df_total)\n",
        "    y.append(label + str(random.randint(0,10)))\n",
        "\n",
        "X = np.asarray(X)\n",
        "y = np.asarray(y)\n",
        "sy = set(y)\n",
        "\n",
        "file_path = '/content/drive/MyDrive/Development_Project/'\n",
        "write_ndarray_to_tsfile(data = X, path = file_path, problem_name='sample_data_combined', class_label=sy,class_value_list=y)"
      ],
      "metadata": {
        "id": "xXsP0EepsG_j"
      },
      "execution_count": null,
      "outputs": []
    },
    {
      "cell_type": "markdown",
      "source": [],
      "metadata": {
        "id": "jGSQlsd1gl8M"
      }
    },
    {
      "cell_type": "markdown",
      "source": [
        "## 2 Second Instances\n",
        "\n",
        "My goal here is to be able to collect 2 second instances (roughly the time it takes to perform a dribble move) from one set of data so that I can get more accurate results of the movement being performed than taking 10 seconds (for example) of data which includes me performing the move multiple times.\n",
        "\n",
        "If we were to do this, Resampling no longer becomes necessary. This is because resampling includes taking the mean average of the occurences within that single second that was recorded. If we are taking 2 second instances, we wat those 2 seconds to be as precise as possible. As a result, we remove the resampling process."
      ],
      "metadata": {
        "id": "dG5yM1KEgoef"
      }
    },
    {
      "cell_type": "markdown",
      "source": [
        "## First Attempt\n",
        "\n",
        "Issue: Due to instances of different lengths, we cannot continue the final conversion of turning X into an Array."
      ],
      "metadata": {
        "id": "NOJ46yhhwfeQ"
      }
    },
    {
      "cell_type": "code",
      "source": [
        "\n",
        "dir_path = '/content/drive/MyDrive/Development_Project/dummy_data/'\n",
        "files = os.listdir(dir_path)\n",
        "\n",
        "X = []\n",
        "y = []\n",
        "df_accel_total = []\n",
        "df_gyro_total = []\n",
        "\n",
        "for root,files,dir in os.walk(dir_path): #This allows us to walk through the folder that has more folders(instances)\n",
        "  for name in files: #Gets the name of the folders\n",
        "    path = os.path.join(dir_path,name)\n",
        "    folder_files = os.listdir(path)\n",
        "    for file in folder_files: #Grabs the individual names of the files within that folder\n",
        "      file_name = file.split(\".\") #Allows us to split the name of the file from the file type extension\n",
        "      counter_split = 2\n",
        "      index_holder = 0;\n",
        "      print(file_name[0])\n",
        "      #Standard Preprocessing from earlier\n",
        "      df_accel_data = pd.read_csv(os.path.join(path,file))\n",
        "      for index,row in df_accel_data.iterrows():\n",
        "        if(math.floor(row['seconds_elapsed']) == counter_split ):\n",
        "          df_temp = df_accel_data.iloc[index_holder:index,:]\n",
        "          index_holder = index\n",
        "          counter_split += 2\n",
        "\n",
        "          df_temp = df_temp.drop(columns=['time','seconds_elapsed'])\n",
        "          #By using .split(), we can get the name of the file and rename the columns as neccessary.\n",
        "          if(file_name[0] == \"Accelerometer\"):\n",
        "            df_temp.rename(columns={\"z\":\"accel_z\", \"y\": \"accel_y\", \"x\": \"accel_x\"},inplace=True)\n",
        "            print(df_temp)\n",
        "            scaler = MinMaxScaler()\n",
        "            # Selecting the RENAMED axes\n",
        "            df_temp[['accel_z', 'accel_y', 'accel_x']] = scaler.fit_transform(df_temp[['accel_z', 'accel_y', 'accel_x']])\n",
        "            df_accel_total.append(df_temp)\n",
        "          else: #Same process for Gyroscope\n",
        "            df_temp.rename(columns={\"z\": \"gyro_z\", \"y\": \"gyro_y\", \"x\": \"gyro_x\"},inplace=True)\n",
        "            print(df_temp)\n",
        "            scaler = MinMaxScaler()\n",
        "            df_temp[['gyro_z', 'gyro_y', 'gyro_x']] = scaler.fit_transform(df_temp[['gyro_z', 'gyro_y', 'gyro_x']])\n",
        "            df_gyro_total.append(df_temp)\n",
        "\n",
        "\n",
        "\n",
        "index = 0\n",
        "for item in df_accel_total:\n",
        "  df_list = []\n",
        "  df_list.append(df_accel_total[index])\n",
        "  df_list.append(df_gyro_total[index])\n",
        "  df_total = pd.concat(df_list, axis=1, join='inner')\n",
        "  df_total = np.transpose(df_total)\n",
        "  X.append(df_total)\n",
        "  y.append(label + str(random.randint(0,10)))\n",
        "  index += 1\n",
        "\n",
        "X = np.asarray(X)\n",
        "y = np.asarray(y)\n",
        "sy = set(y)\n",
        "\n",
        "file_path = '/content/drive/MyDrive/Development_Project/'\n",
        "write_ndarray_to_tsfile(data = X, path = file_path, problem_name='sample_data_combined', class_label=sy,class_value_list=y)"
      ],
      "metadata": {
        "id": "4MnA5A6DglVV"
      },
      "execution_count": null,
      "outputs": []
    },
    {
      "cell_type": "code",
      "source": [
        "X"
      ],
      "metadata": {
        "id": "yYItNr0Yu2qS"
      },
      "execution_count": null,
      "outputs": []
    },
    {
      "cell_type": "markdown",
      "source": [
        "##Second Attempt\n",
        "\n",
        "Many changes were added in order to combat the previous error:\n",
        "\n",
        "\n",
        "*   Implemented a function to find the optimal amount of chunks to create each dataframe; combats the length issue.\n",
        "*   Used a function which splits the original dataframe into smaller dataframes, with sizes being the same as the chunks specified. If the chunk size of the split dataframe does not match the optimal chunk size, it gets excluded.\n",
        "*   I put these in a function that which both the Accelerometer and Gyroscope can have their own dataset,\n",
        "\n"
      ],
      "metadata": {
        "id": "ozvuPJn0wptO"
      }
    },
    {
      "cell_type": "code",
      "source": [
        "def split_dataframe(df, chunk_size = 10000):\n",
        "    chunks = list()\n",
        "    num_chunks = len(df) // chunk_size + 1\n",
        "    for i in range(num_chunks):\n",
        "      if(len(df[i*chunk_size:(i+1)*chunk_size]) != chunk_size ): #if the length is different, exclude it from the dataset.\n",
        "        #print((len(df[i*chunk_size:(i+1)*chunk_size])))\n",
        "        pass\n",
        "      else:\n",
        "        chunks.append(df[i*chunk_size:(i+1)*chunk_size])\n",
        "    #print(num_chunks)\n",
        "    return chunks\n",
        "\n",
        "def find_chunks(df): # Finds the optimal amount of chunks for each dataset,\n",
        "# to ensure that the lengths are the same.\n",
        "  sum = 0\n",
        "  counter = 0\n",
        "  counter_split = 2\n",
        "  index_holder = 0\n",
        "  for index,row in df.iterrows():\n",
        "    if(round(row['seconds_elapsed']) == counter_split ):\n",
        "      sum += len(df.iloc[index_holder:index,:])\n",
        "      index_holder = index\n",
        "      counter_split += 2\n",
        "      counter += 1\n",
        "  chunk_amount = round(sum / counter)\n",
        "\n",
        "  return chunk_amount\n",
        "\n",
        "def create_dataset(df,label,ds_type):\n",
        "  X = []\n",
        "  y = []\n",
        "  chunk = find_chunks(df)\n",
        "  df_chunk = split_dataframe(df, chunk_size=chunk)\n",
        "  for dfs in df_chunk:\n",
        "    #print(len(df))\n",
        "    dfs = dfs.drop(columns=['time','seconds_elapsed'])\n",
        "    #print(dfs)\n",
        "    dfs = np.transpose(dfs)\n",
        "    X.append(dfs)\n",
        "    y.append(label)\n",
        "  X = np.asarray(X)\n",
        "  y = np.asarray(y)\n",
        "  sy = set(y)\n",
        "  # for a in X:\n",
        "  #   print(len(a))\n",
        "\n",
        "  file_path = '/content/drive/MyDrive/Development_Project/'\n",
        "  write_ndarray_to_tsfile(data = X, path = file_path, problem_name=label + ds_type, class_label=sy,class_value_list=y)\n",
        "  print(\"dataset created. \" + ds_type)"
      ],
      "metadata": {
        "id": "tUwO69ZJzACQ"
      },
      "execution_count": null,
      "outputs": []
    },
    {
      "cell_type": "markdown",
      "source": [
        "# collapse"
      ],
      "metadata": {
        "id": "bIk7Nyr2ptrv"
      }
    },
    {
      "cell_type": "code",
      "source": [
        "\n",
        "import glob\n",
        "import numpy\n",
        "dir_path = '/content/drive/MyDrive/Development_Project/dummy_data/'\n",
        "files = os.listdir(dir_path)\n",
        "for root,files,dir in os.walk(dir_path): #This allows us to walk through the folder that has more folders(instances)\n",
        "  for dribble_move in files: #Gets the name of the folders\n",
        "    label = (dribble_move.split(\"_\"))[0]\n",
        "    print(label)\n",
        "    path = os.path.join(dir_path,name)\n",
        "    folder_files = os.listdir(path)\n",
        "    count = 0\n",
        "    ds_type = \"Both\"\n",
        "    df_list = []\n",
        "\n",
        "    #if i want to do rawdata > movement > typeof\n",
        "\n",
        "    for file in folder_files: #Grabs the individual names of the files within that folder\n",
        "      file_name = file.split(\".\") #Allows us to split the name of the file from the file type extension\n",
        "      #Standard Preprocessing from earlier\n",
        "      df_resampled = pd.read_csv(os.path.join(path,file))\n",
        "      #By using .split(), we can get the name of the file and rename the columns as neccessary.\n",
        "      if(file_name[0] == \"Accelerometer\"):\n",
        "        ds_type = \"accel\"\n",
        "        df_resampled.rename(columns={\"z\":\"accel_z\", \"y\": \"accel_y\", \"x\": \"accel_x\"},inplace=True)\n",
        "        scaler = MinMaxScaler()\n",
        "        # Selecting the RENAMED axes\n",
        "        df_resampled[['accel_z', 'accel_y', 'accel_x']] = scaler.fit_transform(df_resampled[['accel_z', 'accel_y', 'accel_x']])\n",
        "        create_dataset(df_resampled,label,ds_type)\n",
        "      else:#Same process for Gyroscope\n",
        "        ds_type = \"gyro\"\n",
        "        #df_resampled = df_resampled.drop(columns=['time','seconds_elapsed'])\n",
        "        df_resampled.rename(columns={\"z\": \"gyro_z\", \"y\": \"gyro_y\", \"x\": \"gyro_x\"},inplace=True)\n",
        "        scaler = MinMaxScaler()\n",
        "        df_resampled[['gyro_z', 'gyro_y', 'gyro_x']] = scaler.fit_transform(df_resampled[['gyro_z', 'gyro_y', 'gyro_x']])\n",
        "        create_dataset(df_resampled,label,ds_type)\n",
        "\n",
        "      if(file_name[0] == \"Gyroscope\"):\n",
        "        df_resampled = df_resampled.drop(columns=['time','seconds_elapsed'])\n",
        "        df_list.append(df_resampled)\n",
        "      else:\n",
        "        df_list.append(df_resampled)\n",
        "      count += 1\n",
        "\n",
        "\n",
        "\n",
        "\n",
        "    df_total = pd.concat(df_list, axis=1, join='inner')\n",
        "    create_dataset(df_total,label,\"Both\")\n",
        "\n",
        "\n",
        "\n",
        "    # chunk = find_chunks(df_total)\n",
        "    # df_chunk = split_dataframe(df_total, chunk_size=chunk)\n",
        "\n",
        "    # for df in df_chunk:\n",
        "    #   #print(len(df))\n",
        "    #   df= df.drop(columns=['time','seconds_elapsed'])\n",
        "    #   df = np.transpose(df)\n",
        "    #   X.append(df)\n",
        "    #   y.append(label + str(random.randint(0,10)))\n",
        "\n",
        "# X = np.asarray(X)\n",
        "# y = np.asarray(y)\n",
        "# sy = set(y)\n",
        "\n",
        "# file_path = '/content/drive/MyDrive/Development_Project/'\n",
        "# write_ndarray_to_tsfile(data = X, path = file_path, problem_name='sample_data_combined', class_label=sy,class_value_list=y)"
      ],
      "metadata": {
        "id": "BvvOj_kAwofG"
      },
      "execution_count": null,
      "outputs": []
    },
    {
      "cell_type": "markdown",
      "source": [
        "#Finale: Dataset Creation\n"
      ],
      "metadata": {
        "id": "PoIYn4DXpwhY"
      }
    },
    {
      "cell_type": "code",
      "source": [
        "\n",
        "def split_dataframe(df, chunk_size = 10000):\n",
        "    chunks = list()\n",
        "    num_chunks = len(df) // chunk_size + 1\n",
        "    for i in range(num_chunks):\n",
        "      if(len(df[i*chunk_size:(i+1)*chunk_size]) != chunk_size ): #if the length is different, exclude it from the dataset.\n",
        "        #print((len(df[i*chunk_size:(i+1)*chunk_size])))\n",
        "        pass\n",
        "      else:\n",
        "        chunks.append(df[i*chunk_size:(i+1)*chunk_size])\n",
        "    #print(num_chunks)\n",
        "    return chunks\n",
        "\n",
        "def find_chunks(df): # Finds the optimal amount of chunks for each dataset,\n",
        "# to ensure that the lengths are the same.\n",
        "  sum = 0\n",
        "  counter = 0\n",
        "  counter_split = 2\n",
        "  index_holder = 0\n",
        "  #print(df.columns)\n",
        "  for index,row in df.iterrows():\n",
        "    if(round(row['seconds_elapsed']) == counter_split ):\n",
        "      sum += len(df.iloc[index_holder:index,:])\n",
        "      index_holder = index\n",
        "      counter_split += 2\n",
        "      counter += 1\n",
        "  chunk_amount = round(sum / counter)\n",
        "  return chunk_amount\n",
        "def generate_overlapping_instances(sensor_data, window_size, overlap ):\n",
        "    instances = []\n",
        "    start_index = 0\n",
        "    while start_index + window_size <= len(sensor_data):\n",
        "        instance = sensor_data[start_index: start_index + window_size]\n",
        "        instances.append(instance)\n",
        "        start_index += overlap\n",
        "    return instances\n",
        "\n",
        "def create_dataset(df,label,ds_type):\n",
        "  #chunk = find_chunks(df)\n",
        "  #df_chunk = split_dataframe(df, chunk_size=5)\n",
        "  df_chunk = generate_overlapping_instances(df,5,2)\n",
        "  for dfs in df_chunk:\n",
        "    #print(len(df))\n",
        "    dfs = dfs.drop(columns=['time','seconds_elapsed'])\n",
        "    #print(dfs)\n",
        "    #print(ds_type)\n",
        "    if(ds_type == \"Accelerometer\"):\n",
        "      X_accel.append(dfs)\n",
        "      y_accel.append(label)\n",
        "    elif(ds_type == \"Gyroscope\"):\n",
        "      X_gyro.append(dfs)\n",
        "      y_gyro.append(label)\n",
        "    else:\n",
        "      X_both.append(dfs)\n",
        "      y_both.append(label)\n",
        "\n",
        "def create_combined_dataset(X, y,dt_type):\n",
        "  if(dt_type == \"Both\"):\n",
        "    print(\"ttttt\")\n",
        "    combined_df_both = pd.concat(X, axis=0)\n",
        "    global_min = combined_df_both[['accel_z', 'accel_y', 'accel_x','gyro_z', 'gyro_y', 'gyro_x']].min()\n",
        "    global_max = combined_df_both[['accel_z', 'accel_y', 'accel_x','gyro_z', 'gyro_y', 'gyro_x']].max()\n",
        "    print(global_min)\n",
        "    print(global_max)\n",
        "  for df in X:\n",
        "    df = np.transpose(df)\n",
        "  Xz = np.asarray(X)\n",
        "  #print(X.shape)\n",
        "  yz = np.asarray(y)\n",
        "  sy = set(yz)\n",
        "  # for a in X:\n",
        "  #   print(len(a))\n",
        "\n",
        "\n",
        "  try:\n",
        "    file_path = '/content/drive/MyDrive/Development_Project/' + \"basketball_dataset/\"\n",
        "  except:\n",
        "    os.mkdir(label)\n",
        "    file_path = '/content/drive/MyDrive/Development_Project/' + \"basketball_dataset/\"\n",
        "  write_ndarray_to_tsfile(data = Xz, path = file_path, problem_name=\"basketball_dataset\" + dt_type, class_label=sy,class_value_list=yz)\n",
        "  print(\"dataset created. \" + dt_type)\n",
        "\n",
        "\n",
        "\n",
        "\n",
        "\n",
        "\n",
        "\n",
        "\n",
        "\n",
        "\n",
        "\n",
        "import glob\n",
        "import numpy\n",
        "\n",
        "X_accel = []\n",
        "y_accel = []\n",
        "\n",
        "X_gyro = []\n",
        "y_gyro = []\n",
        "\n",
        "X_both = []\n",
        "y_both = []\n",
        "\n",
        "\n",
        "dir_path = '/content/drive/MyDrive/Development_Project/actual_data/'\n",
        "files = os.listdir(dir_path)\n",
        "for dribble_move in files: #Gets the name of the folders\n",
        "  label = (dribble_move.split(\"_\"))[0]\n",
        "  print(label)\n",
        "  path = os.path.join(dir_path,label)\n",
        "  folder_files = os.listdir(path)\n",
        "  ds_type = \"Both\"\n",
        "  df_list = []\n",
        "  temp_df_list = []\n",
        "  accel_list = []\n",
        "  gyro_list = []\n",
        "  count = 0\n",
        "  #if i want to do rawdata > movement > typeof\n",
        "  for movement_folder in folder_files:\n",
        "    print(movement_folder)\n",
        "    move_path = os.path.join(path,movement_folder)\n",
        "    mvementf_dir = os.listdir(move_path)\n",
        "    #print(mvementf_dir)\n",
        "    for file in mvementf_dir: #Grabs the individual names of the files within that folder\n",
        "      file_name = file.split(\".\") #Allows us to split the name of the file from the file type extension\n",
        "      #print(file_name)\n",
        "      #Standard Preprocessing from earlier\n",
        "      df_resampled = pd.read_csv(os.path.join(move_path,file))\n",
        "      #By using .split(), we can get the name of the file and rename the columns as neccessary.\n",
        "      if(file_name[0] == \"Accelerometer\"):\n",
        "        ds_type = \"accel\"\n",
        "        df_resampled.rename(columns={\"z\":\"accel_z\", \"y\": \"accel_y\", \"x\": \"accel_x\"},inplace=True)\n",
        "        # scaler = MinMaxScaler()\n",
        "        # Selecting the RENAMED axes\n",
        "        # df_resampled[['accel_z', 'accel_y', 'accel_x']] = scaler.fit_transform(df_resampled[['accel_z', 'accel_y', 'accel_x']])\n",
        "        if count == 1:\n",
        "          print(\"hit\")\n",
        "          #df_resampled = df_resampled.drop(columns=['time','seconds_elapsed'])\n",
        "        accel_list.append(df_resampled)\n",
        "      else:#Same process for Gyroscope\n",
        "        ds_type = \"gyro\"\n",
        "        #df_resampled = df_resampled.drop(columns=['time','seconds_elapsed'])\n",
        "        df_resampled.rename(columns={\"z\": \"gyro_z\", \"y\": \"gyro_y\", \"x\": \"gyro_x\"},inplace=True)\n",
        "        # scaler = MinMaxScaler()\n",
        "        # df_resampled[['gyro_z', 'gyro_y', 'gyro_x']] = scaler.fit_transform(df_resampled[['gyro_z', 'gyro_y', 'gyro_x']])\n",
        "        if count == 1:\n",
        "          print(\"hit\")\n",
        "          #df_resampled = df_resampled.drop(columns=['time','seconds_elapsed'])\n",
        "        gyro_list.append(df_resampled)\n",
        "      if(file_name[0] == \"Gyroscope\"):\n",
        "        df_resampled = df_resampled.drop(columns=['time','seconds_elapsed'])\n",
        "        df_list.append(df_resampled)\n",
        "      else:\n",
        "        df_list.append(df_resampled)\n",
        "    count += 1\n",
        "\n",
        "  if(len(accel_list) > 1):\n",
        "    print(\"true\")\n",
        "    temp_df_concat_accel = pd.concat([accel_list[0],accel_list[1]])\n",
        "    create_dataset(temp_df_concat_accel,label,\"Accelerometer\")\n",
        "    temp_df_concat_gyro = pd.concat([gyro_list[0],gyro_list[1]])\n",
        "    create_dataset(temp_df_concat_gyro,label,\"Gyroscope\")\n",
        "    temp_df_list.append(temp_df_concat_accel)\n",
        "    temp_df_concat_gyro = temp_df_concat_gyro.drop(columns=['time','seconds_elapsed'])\n",
        "    temp_df_list.append(temp_df_concat_gyro)\n",
        "\n",
        "    df_total = pd.concat([temp_df_list[0].reset_index(drop=True),temp_df_list[1].reset_index(drop=True)],axis=1,join='inner')\n",
        "    create_dataset(df_total,label,\"Both\")\n",
        "  else:\n",
        "\n",
        "    create_dataset(accel_list[0],label,\"Accelerometer\")\n",
        "    create_dataset(gyro_list[0],label,\"Gyroscope\")\n",
        "    df_total2 = pd.concat([df_list[0], df_list[1]],axis=1,join='inner')\n",
        "    create_dataset(df_total2,label,\"Both\")\n",
        "\n",
        "create_combined_dataset(X_accel, y_accel,\"Accelerometer\")\n",
        "\n",
        "create_combined_dataset(X_gyro, y_gyro,\"Gyroscope\")\n",
        "\n",
        "create_combined_dataset(X_both, y_both,\"Both\")\n",
        "\n"
      ],
      "metadata": {
        "id": "Fvcew41Dhzvc"
      },
      "execution_count": null,
      "outputs": []
    },
    {
      "cell_type": "markdown",
      "source": [
        "#Refined Dataset Creation"
      ],
      "metadata": {
        "id": "is3Hax5iA1nH"
      }
    },
    {
      "cell_type": "code",
      "source": [
        "\n",
        "def split_dataframe(df, chunk_size = 10000):\n",
        "    chunks = list()\n",
        "    num_chunks = len(df) // chunk_size + 1\n",
        "    for i in range(num_chunks):\n",
        "      if(len(df[i*chunk_size:(i+1)*chunk_size]) != chunk_size ): #if the length is different, exclude it from the dataset.\n",
        "        #print((len(df[i*chunk_size:(i+1)*chunk_size])))\n",
        "        pass\n",
        "      else:\n",
        "        chunks.append(df[i*chunk_size:(i+1)*chunk_size])\n",
        "    #print(num_chunks)\n",
        "    return chunks\n",
        "\n",
        "def find_chunks(df): # Finds the optimal amount of chunks for each dataset,\n",
        "# to ensure that the lengths are the same.\n",
        "  sum = 0\n",
        "  counter = 0\n",
        "  onetwentySeconds_Count = 120\n",
        "  sixtySeconds_Count = 60\n",
        "  thirtySeconds_Count = 30\n",
        "  sixtySeconds = False\n",
        "  thirtySeconds = False\n",
        "  #print(df.columns)\n",
        "  for index,row in df.iterrows():\n",
        "    if(round(row['seconds_elapsed']) == sixtySeconds_Count ):\n",
        "      df = df.iloc[0:index]\n",
        "      sixtySeconds = True\n",
        "  if (sixtySeconds == False ):\n",
        "    for index,row in df.iterrows():\n",
        "      if(round(row['seconds_elapsed']) == thirtySeconds_Count ):\n",
        "        df = df.iloc[0:index]\n",
        "        thirtySeconds = True\n",
        "  if (sixtySeconds == False & thirtySeconds == False):\n",
        "    for index,row in df.iterrows():\n",
        "      if(round(row['seconds_elapsed']) == onetwentySeconds_Count ):\n",
        "        df = df.iloc[0:index]\n",
        "\n",
        "  return df\n",
        "def generate_overlapping_instances(sensor_data, window_size, overlap ):\n",
        "    sensor_data = sensor_data.T.drop_duplicates().T\n",
        "    instances = []\n",
        "    start_index = 0\n",
        "    while start_index + window_size <= len(sensor_data):\n",
        "        instance = sensor_data[start_index: start_index + window_size]\n",
        "        instances.append(instance)\n",
        "        start_index += overlap\n",
        "    return instances\n",
        "\n",
        "def create_dataset(df,label,ds_type):\n",
        "  #chunk = find_chunks(df)\n",
        "  #df_chunk = split_dataframe(df, chunk_size=5)\n",
        "  df['label'] = label\n",
        "  # cols = df.columns.tolist()  # Get the list of all columns\n",
        "  # cols.append(cols.pop(cols.index('label')))  # Move 'label' to the end of the list\n",
        "  # df = df[cols]  # Reassign the DataFrame with columns reordered\n",
        "  df_chunk = generate_overlapping_instances(df,50,10)\n",
        "  for dfs in df_chunk:\n",
        "    #print(len(df))\n",
        "    dfs = dfs.drop(columns=['time','seconds_elapsed'])\n",
        "\n",
        "    #print(dfs)\n",
        "    #print(ds_type)\n",
        "    if(ds_type == \"Accelerometer\"):\n",
        "      X_accel.append(dfs)\n",
        "      y_accel.append(label)\n",
        "    elif(ds_type == \"Gyroscope\"):\n",
        "      X_gyro.append(dfs)\n",
        "      y_gyro.append(label)\n",
        "    else:\n",
        "      X_both.append(dfs)\n",
        "      y_both.append(label)\n",
        "\n",
        "def create_combined_dataset(X, y,dt_type):\n",
        "  if(dt_type == \"Both\"):\n",
        "    print(\"ttttt\")\n",
        "    combined_df_both = pd.concat(X, ignore_index=True)\n",
        "    #combined_df_both = combined_df_both.T.drop_duplicates().T\n",
        "    global_min = combined_df_both[['accel_z', 'accel_y', 'accel_x','gyro_z', 'gyro_y', 'gyro_x']].min()\n",
        "    global_max = combined_df_both[['accel_z', 'accel_y', 'accel_x','gyro_z', 'gyro_y', 'gyro_x']].max()\n",
        "    print(global_min)\n",
        "    print(global_max)\n",
        "    combined_df_both.to_csv('/content/drive/MyDrive/Development_Project/basketball_dataset/combined_sensor_data.csv', index=False)\n",
        "    print(combined_df_both)\n",
        "    print(\"dataset created. \" + dt_type)\n",
        "\n",
        "\n",
        "  # try:\n",
        "  #   file_path = '/content/drive/MyDrive/Development_Project/' + \"basketball_dataset/\"\n",
        "  # except:\n",
        "  #   os.mkdir(label)\n",
        "  #   file_path = '/content/drive/MyDrive/Development_Project/' + \"basketball_dataset/\"\n",
        "  # df.to_csv(data = X, path = file_path, problem_name=\"basketball_dataset\" + dt_type, class_label=sy,class_value_list=yz)\n",
        "  # print(\"dataset created. \" + dt_type)\n",
        "\n",
        "\n",
        "\n",
        "\n",
        "\n",
        "\n",
        "\n",
        "\n",
        "\n",
        "\n",
        "\n",
        "import glob\n",
        "import numpy\n",
        "\n",
        "X_accel = []\n",
        "y_accel = []\n",
        "\n",
        "X_gyro = []\n",
        "y_gyro = []\n",
        "\n",
        "X_both = []\n",
        "y_both = []\n",
        "\n",
        "\n",
        "dir_path = '/content/drive/MyDrive/Development_Project/actual_data/'\n",
        "files = os.listdir(dir_path)\n",
        "for dribble_move in files:\n",
        "  label = (dribble_move.split(\"_\"))[0]\n",
        "  print(label)\n",
        "  path = os.path.join(dir_path,label)\n",
        "  folder_files = os.listdir(path)\n",
        "  ds_type = \"Both\"\n",
        "  df_list = []\n",
        "  temp_df_list = []\n",
        "  accel_list = []\n",
        "  gyro_list = []\n",
        "  count = 0\n",
        "  for movement_folder in folder_files:\n",
        "    print(movement_folder)\n",
        "    move_path = os.path.join(path,movement_folder)\n",
        "    mvementf_dir = os.listdir(move_path)\n",
        "    for file in mvementf_dir:\n",
        "      file_name = file.split(\".\")\n",
        "      df_resampled = pd.read_csv(os.path.join(move_path,file))\n",
        "      df_resampled = find_chunks(df_resampled)\n",
        "      if(file_name[0] == \"Accelerometer\"):\n",
        "        ds_type = \"accel\"\n",
        "        df_resampled.rename(columns={\"z\":\"accel_z\", \"y\": \"accel_y\", \"x\": \"accel_x\"},inplace=True)\n",
        "        if count == 1:\n",
        "          print(\"hit\")\n",
        "        accel_list.append(df_resampled)\n",
        "      else:\n",
        "        ds_type = \"gyro\"\n",
        "        df_resampled.rename(columns={\"z\": \"gyro_z\", \"y\": \"gyro_y\", \"x\": \"gyro_x\"},inplace=True)\n",
        "        if count == 1:\n",
        "          print(\"hit\")\n",
        "        gyro_list.append(df_resampled)\n",
        "      if(file_name[0] == \"Gyroscope\"):\n",
        "        df_resampled = df_resampled.drop(columns=['time','seconds_elapsed'])\n",
        "        df_list.append(df_resampled)\n",
        "      else:\n",
        "        df_list.append(df_resampled)\n",
        "    count += 1\n",
        "\n",
        "  if(len(accel_list) > 1):\n",
        "    print(\"true\")\n",
        "    temp_df_concat_accel = pd.concat([accel_list[0],accel_list[1]])\n",
        "    create_dataset(temp_df_concat_accel,label,\"Accelerometer\")\n",
        "    temp_df_concat_gyro = pd.concat([gyro_list[0],gyro_list[1]])\n",
        "    create_dataset(temp_df_concat_gyro,label,\"Gyroscope\")\n",
        "    temp_df_list.append(temp_df_concat_accel)\n",
        "    temp_df_concat_gyro = temp_df_concat_gyro.drop(columns=['time','seconds_elapsed'])\n",
        "    temp_df_list.append(temp_df_concat_gyro)\n",
        "\n",
        "    df_total = pd.concat([temp_df_list[0].reset_index(drop=True),temp_df_list[1].reset_index(drop=True)],axis=1,join='inner')\n",
        "    create_dataset(df_total,label,\"Both\")\n",
        "  else:\n",
        "    create_dataset(accel_list[0],label,\"Accelerometer\")\n",
        "    create_dataset(gyro_list[0],label,\"Gyroscope\")\n",
        "    df_total2 = pd.concat([df_list[0], df_list[1]],axis=1,join='inner')\n",
        "    create_dataset(df_total2,label,\"Both\")\n",
        "\n",
        "create_combined_dataset(X_gyro, y_gyro,\"Gyroscope\")\n",
        "\n",
        "create_combined_dataset(X_both, y_both,\"Both\")\n",
        "\n"
      ],
      "metadata": {
        "id": "6cAibBaqUezL",
        "colab": {
          "base_uri": "https://localhost:8080/"
        },
        "outputId": "82cc5129-e5e3-43b1-a9ae-2e5b4f943445"
      },
      "execution_count": null,
      "outputs": [
        {
          "output_type": "stream",
          "name": "stdout",
          "text": [
            "InAndOut\n",
            "InAndOut_1-2024-04-11_11-25-26\n",
            "InAndOut_2-2024-04-11_11-28-04\n",
            "hit\n",
            "hit\n",
            "true\n",
            "BetweenTheLegs\n",
            "BetweenTheLegs_L2R_2-2024-04-11_11-39-13\n",
            "BetweenTheLegs_R2L_2-2024-04-11_11-34-46\n",
            "hit\n",
            "hit\n",
            "BetweenTheLegs_R2L_1-2024-04-11_11-33-14\n",
            "BetweenTheLegs_L2R_1-2024-04-11_11-36-59\n",
            "true\n",
            "Crossover\n",
            "Crossover_1-2024-04-11_11-21-36\n",
            "Crossover_2-2024-04-11_11-23-30\n",
            "hit\n",
            "hit\n",
            "true\n",
            "ttttt\n",
            "accel_z   -21.304453\n",
            "accel_y   -23.849566\n",
            "accel_x   -21.127747\n",
            "gyro_z      -4.67877\n",
            "gyro_y    -11.007257\n",
            "gyro_x     -4.260556\n",
            "dtype: object\n",
            "accel_z    37.121326\n",
            "accel_y    29.395119\n",
            "accel_x     65.76091\n",
            "gyro_z      4.815909\n",
            "gyro_y     10.980227\n",
            "gyro_x      4.677013\n",
            "dtype: object\n",
            "        accel_z   accel_y   accel_x      label    gyro_z    gyro_y    gyro_x\n",
            "0      0.083263  -0.30172  0.354778   InAndOut -0.368504 -0.125915 -0.004047\n",
            "1      0.084017 -0.616024  0.398057   InAndOut -0.403324 -0.095982  0.025275\n",
            "2     -0.162138 -0.585026  1.073648   InAndOut  -0.43631  0.013974  0.045433\n",
            "3     -0.280225   0.90065 -0.916205   InAndOut  -0.42898   0.28703  0.137063\n",
            "4      0.022497  0.292246 -0.910594   InAndOut -0.448528  0.704251  0.254349\n",
            "...         ...       ...       ...        ...       ...       ...       ...\n",
            "73445  -0.43272 -0.061218  2.540927  Crossover    0.5313 -1.940184  -0.56421\n",
            "73446 -1.181622 -0.208479  1.885486  Crossover   0.39019  -2.36046  -0.70532\n",
            "73447 -0.997542 -0.359295  1.256759  Crossover  0.340099 -1.879709 -0.744416\n",
            "73448  0.086447 -0.807429  1.362171  Crossover  0.302836 -1.046489 -0.575817\n",
            "73449  0.857783 -0.896015  1.730442  Crossover  0.203265 -0.416686  -0.33086\n",
            "\n",
            "[73450 rows x 7 columns]\n",
            "dataset created. Both\n"
          ]
        }
      ]
    },
    {
      "cell_type": "code",
      "source": [
        "print(df_list[2])"
      ],
      "metadata": {
        "id": "wrde3zVjxDuu"
      },
      "execution_count": null,
      "outputs": []
    },
    {
      "cell_type": "markdown",
      "source": [],
      "metadata": {
        "id": "tbqkAbNkFkbg"
      }
    },
    {
      "cell_type": "markdown",
      "source": [
        "#Magneto Dataset Creation\n"
      ],
      "metadata": {
        "id": "-19BZKb0qwmJ"
      }
    },
    {
      "cell_type": "code",
      "source": [
        "\n",
        "def split_dataframe(df, chunk_size = 10000):\n",
        "    chunks = list()\n",
        "    num_chunks = len(df) // chunk_size + 1\n",
        "    for i in range(num_chunks):\n",
        "      if(len(df[i*chunk_size:(i+1)*chunk_size]) != chunk_size ): #if the length is different, exclude it from the dataset.\n",
        "        #print((len(df[i*chunk_size:(i+1)*chunk_size])))\n",
        "        pass\n",
        "      else:\n",
        "        chunks.append(df[i*chunk_size:(i+1)*chunk_size])\n",
        "    #print(num_chunks)\n",
        "    return chunks\n",
        "\n",
        "def find_chunks(df): # Finds the optimal amount of chunks for each dataset,\n",
        "# to ensure that the lengths are the same.\n",
        "  sum = 0\n",
        "  counter = 0\n",
        "  onetwentySeconds_Count = 120\n",
        "  sixtySeconds_Count = 60\n",
        "  thirtySeconds_Count = 30\n",
        "  sixtySeconds = False\n",
        "  thirtySeconds = False\n",
        "  #print(df.columns)\n",
        "  for index,row in df.iterrows():\n",
        "    if(round(row['seconds_elapsed']) == sixtySeconds_Count ):\n",
        "      df = df.iloc[0:index]\n",
        "      sixtySeconds = True\n",
        "  if (sixtySeconds == False ):\n",
        "    for index,row in df.iterrows():\n",
        "      if(round(row['seconds_elapsed']) == thirtySeconds_Count ):\n",
        "        df = df.iloc[0:index]\n",
        "        thirtySeconds = True\n",
        "  if (sixtySeconds == False & thirtySeconds == False):\n",
        "    for index,row in df.iterrows():\n",
        "      if(round(row['seconds_elapsed']) == onetwentySeconds_Count ):\n",
        "        df = df.iloc[0:index]\n",
        "\n",
        "  return df\n",
        "def generate_overlapping_instances(sensor_data, window_size, overlap ):\n",
        "    sensor_data = sensor_data.T.drop_duplicates().T\n",
        "    instances = []\n",
        "    start_index = 0\n",
        "    while start_index + window_size <= len(sensor_data):\n",
        "        instance = sensor_data[start_index: start_index + window_size]\n",
        "        instances.append(instance)\n",
        "        start_index += overlap\n",
        "    return instances\n",
        "\n",
        "def create_dataset(df,label,ds_type):\n",
        "  #chunk = find_chunks(df)\n",
        "  #df_chunk = split_dataframe(df, chunk_size=5)\n",
        "  df['label'] = label\n",
        "  # cols = df.columns.tolist()  # Get the list of all columns\n",
        "  # cols.append(cols.pop(cols.index('label')))  # Move 'label' to the end of the list\n",
        "  # df = df[cols]  # Reassign the DataFrame with columns reordered\n",
        "  df_chunk = generate_overlapping_instances(df,50,10)\n",
        "  for dfs in df_chunk:\n",
        "    #print(len(df))\n",
        "    dfs = dfs.drop(columns=['time','seconds_elapsed'])\n",
        "\n",
        "    #print(dfs)\n",
        "    #print(ds_type)\n",
        "    if(ds_type == \"Accelerometer\"):\n",
        "      X_accel.append(dfs)\n",
        "      y_accel.append(label)\n",
        "    elif(ds_type == \"Gyroscope\"):\n",
        "      X_gyro.append(dfs)\n",
        "      y_gyro.append(label)\n",
        "    else:\n",
        "      X_both.append(dfs)\n",
        "      y_both.append(label)\n",
        "\n",
        "def create_combined_dataset(X, y,dt_type):\n",
        "  if(dt_type == \"Both\"):\n",
        "    print(\"ttttt\")\n",
        "    combined_df_both = pd.concat(X, ignore_index=True)\n",
        "    if(dt_type == \"Both\"):\n",
        "      combined_df_both = combined_df_both.drop(columns=['qz','qx','qy','qw'])\n",
        "    #combined_df_both = combined_df_both.T.drop_duplicates().T\n",
        "    global_min = combined_df_both[['roll','pitch','yaw','accel_z', 'accel_y', 'accel_x','gyro_z', 'gyro_y', 'gyro_x']].min()\n",
        "    global_max = combined_df_both[['roll','pitch','yaw','accel_z', 'accel_y', 'accel_x','gyro_z', 'gyro_y', 'gyro_x']].max()\n",
        "    print(global_min)\n",
        "    print(global_max)\n",
        "    combined_df_both.to_csv('/content/drive/MyDrive/Development_Project/basketball_dataset/filename.csv', index=False)\n",
        "    print(combined_df_both)\n",
        "    print(\"dataset created. \" + dt_type)\n",
        "\n",
        "\n",
        "  # try:\n",
        "  #   file_path = '/content/drive/MyDrive/Development_Project/' + \"basketball_dataset/\"\n",
        "  # except:\n",
        "  #   os.mkdir(label)\n",
        "  #   file_path = '/content/drive/MyDrive/Development_Project/' + \"basketball_dataset/\"\n",
        "  # df.to_csv(data = X, path = file_path, problem_name=\"basketball_dataset\" + dt_type, class_label=sy,class_value_list=yz)\n",
        "  # print(\"dataset created. \" + dt_type)\n",
        "\n",
        "\n",
        "\n",
        "\n",
        "\n",
        "\n",
        "\n",
        "\n",
        "\n",
        "\n",
        "\n",
        "import glob\n",
        "import numpy\n",
        "\n",
        "X_accel = []\n",
        "y_accel = []\n",
        "\n",
        "X_gyro = []\n",
        "y_gyro = []\n",
        "\n",
        "X_both = []\n",
        "y_both = []\n",
        "\n",
        "\n",
        "dir_path = '/content/drive/MyDrive/Development_Project/actual_data/'\n",
        "files = os.listdir(dir_path)\n",
        "for dribble_move in files:\n",
        "  label = (dribble_move.split(\"_\"))[0]\n",
        "  print(label)\n",
        "  path = os.path.join(dir_path,label)\n",
        "  folder_files = os.listdir(path)\n",
        "  ds_type = \"Both\"\n",
        "  df_list = []\n",
        "  temp_df_list = []\n",
        "  accel_list = []\n",
        "  gyro_list = []\n",
        "  orient_list = []\n",
        "  count = 0\n",
        "  for movement_folder in folder_files:\n",
        "    print(movement_folder)\n",
        "    move_path = os.path.join(path,movement_folder)\n",
        "    mvementf_dir = os.listdir(move_path)\n",
        "    for file in mvementf_dir:\n",
        "      file_name = file.split(\".\")\n",
        "      df_resampled = pd.read_csv(os.path.join(move_path,file))\n",
        "      df_resampled = find_chunks(df_resampled)\n",
        "      if(file_name[0] == \"Accelerometer\"):\n",
        "        ds_type = \"accel\"\n",
        "        df_resampled.rename(columns={\"z\":\"accel_z\", \"y\": \"accel_y\", \"x\": \"accel_x\"},inplace=True)\n",
        "        if count == 1:\n",
        "          print(\"hit\")\n",
        "        accel_list.append(df_resampled)\n",
        "      elif(file_name[0] == \"Gyroscope\"):\n",
        "        ds_type = \"gyro\"\n",
        "        df_resampled.rename(columns={\"z\": \"gyro_z\", \"y\": \"gyro_y\", \"x\": \"gyro_x\"},inplace=True)\n",
        "        if count == 1:\n",
        "          print(\"hit\")\n",
        "        gyro_list.append(df_resampled)\n",
        "      elif(file_name[0] == \"Orientation\"):\n",
        "        ds_type = \"Orientation\"\n",
        "        df_resampled = df_resampled.drop(columns=['time','seconds_elapsed'])\n",
        "        if count == 1:\n",
        "          print(\"hit\")\n",
        "        orient_list.append(df_resampled)\n",
        "      if(file_name[0] == \"Gyroscope\"):\n",
        "        df_resampled = df_resampled.drop(columns=['time','seconds_elapsed'])\n",
        "        df_list.append(df_resampled)\n",
        "      else:\n",
        "        df_list.append(df_resampled)\n",
        "    count += 1\n",
        "\n",
        "  if(len(accel_list) > 1):\n",
        "    print(\"true\")\n",
        "    temp_df_concat_accel = pd.concat([accel_list[0],accel_list[1]])\n",
        "    create_dataset(temp_df_concat_accel,label,\"Accelerometer\")\n",
        "    temp_df_concat_gyro = pd.concat([gyro_list[0],gyro_list[1]])\n",
        "    create_dataset(temp_df_concat_gyro,label,\"Gyroscope\")\n",
        "    temp_df_list.append(temp_df_concat_accel)\n",
        "    temp_df_concat_gyro = temp_df_concat_gyro.drop(columns=['time','seconds_elapsed'])\n",
        "    temp_df_list.append(temp_df_concat_gyro)\n",
        "    temp_df_list.append(orient_list[0])\n",
        "\n",
        "    df_total = pd.concat([temp_df_list[0].reset_index(drop=True),temp_df_list[1].reset_index(drop=True),temp_df_list[2].reset_index(drop=True)],axis=1,join='inner')\n",
        "    create_dataset(df_total,label,\"Both\")\n",
        "  else:\n",
        "\n",
        "    create_dataset(accel_list[0],label,\"Accelerometer\")\n",
        "    create_dataset(gyro_list[0],label,\"Gyroscope\")\n",
        "    #create_dataset(orient_list[0],label,\"Orientation\")\n",
        "    df_total2 = pd.concat([df_list[0], df_list[1], df_list[2]],axis=1,join='inner')\n",
        "    create_dataset(df_total2,label,\"Both\")\n",
        "\n",
        "create_combined_dataset(X_gyro, y_gyro,\"Gyroscope\")\n",
        "\n",
        "create_combined_dataset(X_both, y_both,\"Both\")\n",
        "\n"
      ],
      "metadata": {
        "id": "fTsCk6_6qvu3",
        "colab": {
          "base_uri": "https://localhost:8080/"
        },
        "outputId": "8b27abd1-1d63-421b-9e7c-c20dbc17cddc"
      },
      "execution_count": null,
      "outputs": [
        {
          "output_type": "stream",
          "name": "stdout",
          "text": [
            "InAndOut\n",
            "INANDOUT-2024-04-11_19-25-35\n",
            "Crossover\n",
            "Crossover-2024-04-11_19-30-04\n",
            "BetweenTheLegs\n",
            "BTL_1\n",
            "ttttt\n",
            "roll        -3.13633\n",
            "pitch      -1.566624\n",
            "yaw         -3.14106\n",
            "accel_z     -9.44902\n",
            "accel_y    -3.913817\n",
            "accel_x   -10.164671\n",
            "gyro_z     -2.691549\n",
            "gyro_y     -7.153308\n",
            "gyro_x     -5.161124\n",
            "dtype: object\n",
            "roll        3.120764\n",
            "pitch       0.203578\n",
            "yaw         3.139682\n",
            "accel_z    10.563529\n",
            "accel_y     9.405301\n",
            "accel_x     17.97434\n",
            "gyro_z      4.557436\n",
            "gyro_y      7.936896\n",
            "gyro_x      5.525352\n",
            "dtype: object\n",
            "         gyro_z    gyro_y    gyro_x      roll     pitch       yaw   accel_z  \\\n",
            "0      0.101938  0.214337   0.32918   0.50944 -0.742944  1.099551 -0.125551   \n",
            "1      0.161803  0.290695  0.311465   0.51513 -0.749656  1.101547 -0.337055   \n",
            "2      0.607124   6.54901 -2.001882  0.584392 -0.755972  1.077105 -0.042043   \n",
            "3      0.497168  0.745179   0.33651  0.594972 -0.767315  1.071568 -0.233366   \n",
            "4       0.59735  0.902782  0.324293  0.606937 -0.779806  1.063818 -0.431354   \n",
            "...         ...       ...       ...       ...       ...       ...       ...   \n",
            "43895 -0.209756  1.015258 -3.495295  0.210258 -1.249924  0.261044  2.079928   \n",
            "43896 -0.112017  1.464855  -3.72498  0.200855 -1.178509  0.228439  3.827617   \n",
            "43897 -0.249462  1.333519 -3.191084   0.20501 -1.106756  0.203038  3.204153   \n",
            "43898 -0.334372  0.714712 -2.594268  0.214526 -1.046422  0.193125 -0.327389   \n",
            "43899 -0.488921  0.236405 -2.429335  0.219371  -0.99589  0.196234 -1.534312   \n",
            "\n",
            "        accel_y   accel_x           label  \n",
            "0     -0.377448  0.637265        InAndOut  \n",
            "1     -0.152838  0.667831        InAndOut  \n",
            "2      -0.19804  1.068271        InAndOut  \n",
            "3        0.1596  1.116712        InAndOut  \n",
            "4      0.083936  1.053765        InAndOut  \n",
            "...         ...       ...             ...  \n",
            "43895 -1.783243 -0.405523  BetweenTheLegs  \n",
            "43896  1.736443  1.957042  BetweenTheLegs  \n",
            "43897  2.028537   2.10259  BetweenTheLegs  \n",
            "43898  1.399351  1.789838  BetweenTheLegs  \n",
            "43899  0.528124  1.227458  BetweenTheLegs  \n",
            "\n",
            "[43900 rows x 10 columns]\n",
            "dataset created. Both\n"
          ]
        }
      ]
    },
    {
      "cell_type": "markdown",
      "source": [
        "#Redo"
      ],
      "metadata": {
        "id": "NSc8P6gY4lQV"
      }
    },
    {
      "cell_type": "code",
      "source": [
        "\n",
        "def find_chunks(df): # Finds the optimal amount of chunks for each dataset,\n",
        "# to ensure that the lengths are the same.\n",
        "  sum = 0\n",
        "  counter = 0\n",
        "  onetwentySeconds_Count = 120\n",
        "  sixtySeconds_Count = 60\n",
        "  thirtySeconds_Count = 30\n",
        "  sixtySeconds = False\n",
        "  thirtySeconds = False\n",
        "  #print(df.columns)\n",
        "  for index,row in df.iterrows():\n",
        "    if(round(row['seconds_elapsed']) == sixtySeconds_Count ):\n",
        "      df = df.iloc[0:index]\n",
        "      sixtySeconds = True\n",
        "  if (sixtySeconds == False ):\n",
        "    for index,row in df.iterrows():\n",
        "      if(round(row['seconds_elapsed']) == thirtySeconds_Count ):\n",
        "        df = df.iloc[0:index]\n",
        "        thirtySeconds = True\n",
        "  if (sixtySeconds == False & thirtySeconds == False):\n",
        "    for index,row in df.iterrows():\n",
        "      if(round(row['seconds_elapsed']) == onetwentySeconds_Count ):\n",
        "        df = df.iloc[0:index]\n",
        "\n",
        "  return df\n",
        "\n",
        "\n",
        "import glob\n",
        "import numpy\n",
        "\n",
        "\n",
        "dfs = []\n",
        "dir_path = '/content/drive/MyDrive/Development_Project/actual_data/'\n",
        "files = os.listdir(dir_path)\n",
        "for dribble_move in files:\n",
        "  label = (dribble_move.split(\"_\"))[0]\n",
        "  print(label)\n",
        "  path = os.path.join(dir_path,label)\n",
        "  folder_files = os.listdir(path)\n",
        "  ds_type = \"Both\"\n",
        "  df_list = []\n",
        "  count = 0\n",
        "  for movement_folder in folder_files:\n",
        "    print(movement_folder)\n",
        "    move_path = os.path.join(path,movement_folder)\n",
        "    mvementf_dir = os.listdir(move_path)\n",
        "    for file in mvementf_dir:\n",
        "      file_name = file.split(\".\")\n",
        "      df_resampled = pd.read_csv(os.path.join(move_path,file))\n",
        "      df_resampled = find_chunks(df_resampled)\n",
        "      if(file_name[0] == \"Accelerometer\"):\n",
        "        ds_type = \"accel\"\n",
        "        df_resampled.rename(columns={\"z\":\"accel_z\", \"y\": \"accel_y\", \"x\": \"accel_x\"},inplace=True)\n",
        "      elif(file_name[0] == \"Gyroscope\"):\n",
        "        ds_type = \"gyro\"\n",
        "        df_resampled.rename(columns={\"z\": \"gyro_z\", \"y\": \"gyro_y\", \"x\": \"gyro_x\"},inplace=True)\n",
        "      df_list.append(df_resampled)\n",
        "    count += 1\n",
        "    dfs1 = pd.concat(df_list,axis=1, join=\"inner\").drop_duplicates().drop(columns=['time','seconds_elapsed','qz','qy',\t'qx',\t'qw'])\n",
        "    dfs1['label'] = label\n",
        "    dfs.append(dfs1)\n",
        "dfs = pd.concat(dfs, join=\"inner\")\n",
        "dfs.to_csv('test.csv', index=False)"
      ],
      "metadata": {
        "colab": {
          "base_uri": "https://localhost:8080/"
        },
        "id": "YcjR_Kq-4fIg",
        "outputId": "4361cca4-4697-4c86-ee18-1c4509edcb3b"
      },
      "execution_count": null,
      "outputs": [
        {
          "output_type": "stream",
          "name": "stdout",
          "text": [
            "Crossover\n",
            "Crossover-2024-04-11_19-30-04\n",
            "BetweenTheLegs\n",
            "BTL_1\n",
            "InAndOut\n",
            "INANDOUT-2024-04-11_19-25-35\n"
          ]
        }
      ]
    },
    {
      "cell_type": "code",
      "source": [
        "dfs"
      ],
      "metadata": {
        "colab": {
          "base_uri": "https://localhost:8080/",
          "height": 424
        },
        "id": "xRQXrwfoAwMI",
        "outputId": "9abd2e21-9395-434d-d36e-0dc0c418d980"
      },
      "execution_count": null,
      "outputs": [
        {
          "output_type": "execute_result",
          "data": {
            "text/plain": [
              "          roll     pitch       yaw   accel_z   accel_y   accel_x    gyro_z  \\\n",
              "0    -1.747716 -1.005315 -2.157449  4.101900  0.976227 -1.265221 -0.252975   \n",
              "1    -1.742467 -1.006590 -2.158564  4.072934  0.969536 -1.259597 -0.105145   \n",
              "2    -1.729580 -1.004612 -2.157490  3.647344  1.102029  0.513818  0.070784   \n",
              "3    -1.704913 -1.002759 -2.149753  3.748474  0.743080 -0.279239  0.137368   \n",
              "4    -1.671775 -1.001823 -2.133780  4.375309  0.501419 -1.404298  0.081780   \n",
              "...        ...       ...       ...       ...       ...       ...       ...   \n",
              "2966 -0.632318 -0.918743 -1.402099 -1.537015 -1.423442 -1.735767  0.125151   \n",
              "2967 -0.627479 -0.917763 -1.401051 -1.603262 -1.455914 -1.886968 -0.047113   \n",
              "2968 -0.620736 -0.921408 -1.397268 -1.859785 -1.544618 -2.110760 -0.217544   \n",
              "2969 -0.613794 -0.930013 -1.390112 -2.237906 -1.679153 -2.222713 -0.395917   \n",
              "2970 -0.609348 -0.944042 -1.380410 -2.161965 -1.760624 -2.137924 -0.552909   \n",
              "\n",
              "        gyro_y    gyro_x      label  \n",
              "0     0.114766  0.024969  Crossover  \n",
              "1     0.245491  0.037797  Crossover  \n",
              "2     0.519770  0.051236  Crossover  \n",
              "3     0.899728 -0.063606  Crossover  \n",
              "4     1.029842 -0.309174  Crossover  \n",
              "...        ...       ...        ...  \n",
              "2966 -0.050167 -0.373926   InAndOut  \n",
              "2967  0.031078 -0.172340   InAndOut  \n",
              "2968  0.084834 -0.004352   InAndOut  \n",
              "2969  0.066508  0.167912   InAndOut  \n",
              "2970 -0.052611  0.381104   InAndOut  \n",
              "\n",
              "[8910 rows x 10 columns]"
            ],
            "text/html": [
              "\n",
              "  <div id=\"df-92a8ceee-34aa-435d-967f-df16458ea9f3\" class=\"colab-df-container\">\n",
              "    <div>\n",
              "<style scoped>\n",
              "    .dataframe tbody tr th:only-of-type {\n",
              "        vertical-align: middle;\n",
              "    }\n",
              "\n",
              "    .dataframe tbody tr th {\n",
              "        vertical-align: top;\n",
              "    }\n",
              "\n",
              "    .dataframe thead th {\n",
              "        text-align: right;\n",
              "    }\n",
              "</style>\n",
              "<table border=\"1\" class=\"dataframe\">\n",
              "  <thead>\n",
              "    <tr style=\"text-align: right;\">\n",
              "      <th></th>\n",
              "      <th>roll</th>\n",
              "      <th>pitch</th>\n",
              "      <th>yaw</th>\n",
              "      <th>accel_z</th>\n",
              "      <th>accel_y</th>\n",
              "      <th>accel_x</th>\n",
              "      <th>gyro_z</th>\n",
              "      <th>gyro_y</th>\n",
              "      <th>gyro_x</th>\n",
              "      <th>label</th>\n",
              "    </tr>\n",
              "  </thead>\n",
              "  <tbody>\n",
              "    <tr>\n",
              "      <th>0</th>\n",
              "      <td>-1.747716</td>\n",
              "      <td>-1.005315</td>\n",
              "      <td>-2.157449</td>\n",
              "      <td>4.101900</td>\n",
              "      <td>0.976227</td>\n",
              "      <td>-1.265221</td>\n",
              "      <td>-0.252975</td>\n",
              "      <td>0.114766</td>\n",
              "      <td>0.024969</td>\n",
              "      <td>Crossover</td>\n",
              "    </tr>\n",
              "    <tr>\n",
              "      <th>1</th>\n",
              "      <td>-1.742467</td>\n",
              "      <td>-1.006590</td>\n",
              "      <td>-2.158564</td>\n",
              "      <td>4.072934</td>\n",
              "      <td>0.969536</td>\n",
              "      <td>-1.259597</td>\n",
              "      <td>-0.105145</td>\n",
              "      <td>0.245491</td>\n",
              "      <td>0.037797</td>\n",
              "      <td>Crossover</td>\n",
              "    </tr>\n",
              "    <tr>\n",
              "      <th>2</th>\n",
              "      <td>-1.729580</td>\n",
              "      <td>-1.004612</td>\n",
              "      <td>-2.157490</td>\n",
              "      <td>3.647344</td>\n",
              "      <td>1.102029</td>\n",
              "      <td>0.513818</td>\n",
              "      <td>0.070784</td>\n",
              "      <td>0.519770</td>\n",
              "      <td>0.051236</td>\n",
              "      <td>Crossover</td>\n",
              "    </tr>\n",
              "    <tr>\n",
              "      <th>3</th>\n",
              "      <td>-1.704913</td>\n",
              "      <td>-1.002759</td>\n",
              "      <td>-2.149753</td>\n",
              "      <td>3.748474</td>\n",
              "      <td>0.743080</td>\n",
              "      <td>-0.279239</td>\n",
              "      <td>0.137368</td>\n",
              "      <td>0.899728</td>\n",
              "      <td>-0.063606</td>\n",
              "      <td>Crossover</td>\n",
              "    </tr>\n",
              "    <tr>\n",
              "      <th>4</th>\n",
              "      <td>-1.671775</td>\n",
              "      <td>-1.001823</td>\n",
              "      <td>-2.133780</td>\n",
              "      <td>4.375309</td>\n",
              "      <td>0.501419</td>\n",
              "      <td>-1.404298</td>\n",
              "      <td>0.081780</td>\n",
              "      <td>1.029842</td>\n",
              "      <td>-0.309174</td>\n",
              "      <td>Crossover</td>\n",
              "    </tr>\n",
              "    <tr>\n",
              "      <th>...</th>\n",
              "      <td>...</td>\n",
              "      <td>...</td>\n",
              "      <td>...</td>\n",
              "      <td>...</td>\n",
              "      <td>...</td>\n",
              "      <td>...</td>\n",
              "      <td>...</td>\n",
              "      <td>...</td>\n",
              "      <td>...</td>\n",
              "      <td>...</td>\n",
              "    </tr>\n",
              "    <tr>\n",
              "      <th>2966</th>\n",
              "      <td>-0.632318</td>\n",
              "      <td>-0.918743</td>\n",
              "      <td>-1.402099</td>\n",
              "      <td>-1.537015</td>\n",
              "      <td>-1.423442</td>\n",
              "      <td>-1.735767</td>\n",
              "      <td>0.125151</td>\n",
              "      <td>-0.050167</td>\n",
              "      <td>-0.373926</td>\n",
              "      <td>InAndOut</td>\n",
              "    </tr>\n",
              "    <tr>\n",
              "      <th>2967</th>\n",
              "      <td>-0.627479</td>\n",
              "      <td>-0.917763</td>\n",
              "      <td>-1.401051</td>\n",
              "      <td>-1.603262</td>\n",
              "      <td>-1.455914</td>\n",
              "      <td>-1.886968</td>\n",
              "      <td>-0.047113</td>\n",
              "      <td>0.031078</td>\n",
              "      <td>-0.172340</td>\n",
              "      <td>InAndOut</td>\n",
              "    </tr>\n",
              "    <tr>\n",
              "      <th>2968</th>\n",
              "      <td>-0.620736</td>\n",
              "      <td>-0.921408</td>\n",
              "      <td>-1.397268</td>\n",
              "      <td>-1.859785</td>\n",
              "      <td>-1.544618</td>\n",
              "      <td>-2.110760</td>\n",
              "      <td>-0.217544</td>\n",
              "      <td>0.084834</td>\n",
              "      <td>-0.004352</td>\n",
              "      <td>InAndOut</td>\n",
              "    </tr>\n",
              "    <tr>\n",
              "      <th>2969</th>\n",
              "      <td>-0.613794</td>\n",
              "      <td>-0.930013</td>\n",
              "      <td>-1.390112</td>\n",
              "      <td>-2.237906</td>\n",
              "      <td>-1.679153</td>\n",
              "      <td>-2.222713</td>\n",
              "      <td>-0.395917</td>\n",
              "      <td>0.066508</td>\n",
              "      <td>0.167912</td>\n",
              "      <td>InAndOut</td>\n",
              "    </tr>\n",
              "    <tr>\n",
              "      <th>2970</th>\n",
              "      <td>-0.609348</td>\n",
              "      <td>-0.944042</td>\n",
              "      <td>-1.380410</td>\n",
              "      <td>-2.161965</td>\n",
              "      <td>-1.760624</td>\n",
              "      <td>-2.137924</td>\n",
              "      <td>-0.552909</td>\n",
              "      <td>-0.052611</td>\n",
              "      <td>0.381104</td>\n",
              "      <td>InAndOut</td>\n",
              "    </tr>\n",
              "  </tbody>\n",
              "</table>\n",
              "<p>8910 rows × 10 columns</p>\n",
              "</div>\n",
              "    <div class=\"colab-df-buttons\">\n",
              "\n",
              "  <div class=\"colab-df-container\">\n",
              "    <button class=\"colab-df-convert\" onclick=\"convertToInteractive('df-92a8ceee-34aa-435d-967f-df16458ea9f3')\"\n",
              "            title=\"Convert this dataframe to an interactive table.\"\n",
              "            style=\"display:none;\">\n",
              "\n",
              "  <svg xmlns=\"http://www.w3.org/2000/svg\" height=\"24px\" viewBox=\"0 -960 960 960\">\n",
              "    <path d=\"M120-120v-720h720v720H120Zm60-500h600v-160H180v160Zm220 220h160v-160H400v160Zm0 220h160v-160H400v160ZM180-400h160v-160H180v160Zm440 0h160v-160H620v160ZM180-180h160v-160H180v160Zm440 0h160v-160H620v160Z\"/>\n",
              "  </svg>\n",
              "    </button>\n",
              "\n",
              "  <style>\n",
              "    .colab-df-container {\n",
              "      display:flex;\n",
              "      gap: 12px;\n",
              "    }\n",
              "\n",
              "    .colab-df-convert {\n",
              "      background-color: #E8F0FE;\n",
              "      border: none;\n",
              "      border-radius: 50%;\n",
              "      cursor: pointer;\n",
              "      display: none;\n",
              "      fill: #1967D2;\n",
              "      height: 32px;\n",
              "      padding: 0 0 0 0;\n",
              "      width: 32px;\n",
              "    }\n",
              "\n",
              "    .colab-df-convert:hover {\n",
              "      background-color: #E2EBFA;\n",
              "      box-shadow: 0px 1px 2px rgba(60, 64, 67, 0.3), 0px 1px 3px 1px rgba(60, 64, 67, 0.15);\n",
              "      fill: #174EA6;\n",
              "    }\n",
              "\n",
              "    .colab-df-buttons div {\n",
              "      margin-bottom: 4px;\n",
              "    }\n",
              "\n",
              "    [theme=dark] .colab-df-convert {\n",
              "      background-color: #3B4455;\n",
              "      fill: #D2E3FC;\n",
              "    }\n",
              "\n",
              "    [theme=dark] .colab-df-convert:hover {\n",
              "      background-color: #434B5C;\n",
              "      box-shadow: 0px 1px 3px 1px rgba(0, 0, 0, 0.15);\n",
              "      filter: drop-shadow(0px 1px 2px rgba(0, 0, 0, 0.3));\n",
              "      fill: #FFFFFF;\n",
              "    }\n",
              "  </style>\n",
              "\n",
              "    <script>\n",
              "      const buttonEl =\n",
              "        document.querySelector('#df-92a8ceee-34aa-435d-967f-df16458ea9f3 button.colab-df-convert');\n",
              "      buttonEl.style.display =\n",
              "        google.colab.kernel.accessAllowed ? 'block' : 'none';\n",
              "\n",
              "      async function convertToInteractive(key) {\n",
              "        const element = document.querySelector('#df-92a8ceee-34aa-435d-967f-df16458ea9f3');\n",
              "        const dataTable =\n",
              "          await google.colab.kernel.invokeFunction('convertToInteractive',\n",
              "                                                    [key], {});\n",
              "        if (!dataTable) return;\n",
              "\n",
              "        const docLinkHtml = 'Like what you see? Visit the ' +\n",
              "          '<a target=\"_blank\" href=https://colab.research.google.com/notebooks/data_table.ipynb>data table notebook</a>'\n",
              "          + ' to learn more about interactive tables.';\n",
              "        element.innerHTML = '';\n",
              "        dataTable['output_type'] = 'display_data';\n",
              "        await google.colab.output.renderOutput(dataTable, element);\n",
              "        const docLink = document.createElement('div');\n",
              "        docLink.innerHTML = docLinkHtml;\n",
              "        element.appendChild(docLink);\n",
              "      }\n",
              "    </script>\n",
              "  </div>\n",
              "\n",
              "\n",
              "<div id=\"df-b205e333-db4f-43f9-99a1-45e17b670fcb\">\n",
              "  <button class=\"colab-df-quickchart\" onclick=\"quickchart('df-b205e333-db4f-43f9-99a1-45e17b670fcb')\"\n",
              "            title=\"Suggest charts\"\n",
              "            style=\"display:none;\">\n",
              "\n",
              "<svg xmlns=\"http://www.w3.org/2000/svg\" height=\"24px\"viewBox=\"0 0 24 24\"\n",
              "     width=\"24px\">\n",
              "    <g>\n",
              "        <path d=\"M19 3H5c-1.1 0-2 .9-2 2v14c0 1.1.9 2 2 2h14c1.1 0 2-.9 2-2V5c0-1.1-.9-2-2-2zM9 17H7v-7h2v7zm4 0h-2V7h2v10zm4 0h-2v-4h2v4z\"/>\n",
              "    </g>\n",
              "</svg>\n",
              "  </button>\n",
              "\n",
              "<style>\n",
              "  .colab-df-quickchart {\n",
              "      --bg-color: #E8F0FE;\n",
              "      --fill-color: #1967D2;\n",
              "      --hover-bg-color: #E2EBFA;\n",
              "      --hover-fill-color: #174EA6;\n",
              "      --disabled-fill-color: #AAA;\n",
              "      --disabled-bg-color: #DDD;\n",
              "  }\n",
              "\n",
              "  [theme=dark] .colab-df-quickchart {\n",
              "      --bg-color: #3B4455;\n",
              "      --fill-color: #D2E3FC;\n",
              "      --hover-bg-color: #434B5C;\n",
              "      --hover-fill-color: #FFFFFF;\n",
              "      --disabled-bg-color: #3B4455;\n",
              "      --disabled-fill-color: #666;\n",
              "  }\n",
              "\n",
              "  .colab-df-quickchart {\n",
              "    background-color: var(--bg-color);\n",
              "    border: none;\n",
              "    border-radius: 50%;\n",
              "    cursor: pointer;\n",
              "    display: none;\n",
              "    fill: var(--fill-color);\n",
              "    height: 32px;\n",
              "    padding: 0;\n",
              "    width: 32px;\n",
              "  }\n",
              "\n",
              "  .colab-df-quickchart:hover {\n",
              "    background-color: var(--hover-bg-color);\n",
              "    box-shadow: 0 1px 2px rgba(60, 64, 67, 0.3), 0 1px 3px 1px rgba(60, 64, 67, 0.15);\n",
              "    fill: var(--button-hover-fill-color);\n",
              "  }\n",
              "\n",
              "  .colab-df-quickchart-complete:disabled,\n",
              "  .colab-df-quickchart-complete:disabled:hover {\n",
              "    background-color: var(--disabled-bg-color);\n",
              "    fill: var(--disabled-fill-color);\n",
              "    box-shadow: none;\n",
              "  }\n",
              "\n",
              "  .colab-df-spinner {\n",
              "    border: 2px solid var(--fill-color);\n",
              "    border-color: transparent;\n",
              "    border-bottom-color: var(--fill-color);\n",
              "    animation:\n",
              "      spin 1s steps(1) infinite;\n",
              "  }\n",
              "\n",
              "  @keyframes spin {\n",
              "    0% {\n",
              "      border-color: transparent;\n",
              "      border-bottom-color: var(--fill-color);\n",
              "      border-left-color: var(--fill-color);\n",
              "    }\n",
              "    20% {\n",
              "      border-color: transparent;\n",
              "      border-left-color: var(--fill-color);\n",
              "      border-top-color: var(--fill-color);\n",
              "    }\n",
              "    30% {\n",
              "      border-color: transparent;\n",
              "      border-left-color: var(--fill-color);\n",
              "      border-top-color: var(--fill-color);\n",
              "      border-right-color: var(--fill-color);\n",
              "    }\n",
              "    40% {\n",
              "      border-color: transparent;\n",
              "      border-right-color: var(--fill-color);\n",
              "      border-top-color: var(--fill-color);\n",
              "    }\n",
              "    60% {\n",
              "      border-color: transparent;\n",
              "      border-right-color: var(--fill-color);\n",
              "    }\n",
              "    80% {\n",
              "      border-color: transparent;\n",
              "      border-right-color: var(--fill-color);\n",
              "      border-bottom-color: var(--fill-color);\n",
              "    }\n",
              "    90% {\n",
              "      border-color: transparent;\n",
              "      border-bottom-color: var(--fill-color);\n",
              "    }\n",
              "  }\n",
              "</style>\n",
              "\n",
              "  <script>\n",
              "    async function quickchart(key) {\n",
              "      const quickchartButtonEl =\n",
              "        document.querySelector('#' + key + ' button');\n",
              "      quickchartButtonEl.disabled = true;  // To prevent multiple clicks.\n",
              "      quickchartButtonEl.classList.add('colab-df-spinner');\n",
              "      try {\n",
              "        const charts = await google.colab.kernel.invokeFunction(\n",
              "            'suggestCharts', [key], {});\n",
              "      } catch (error) {\n",
              "        console.error('Error during call to suggestCharts:', error);\n",
              "      }\n",
              "      quickchartButtonEl.classList.remove('colab-df-spinner');\n",
              "      quickchartButtonEl.classList.add('colab-df-quickchart-complete');\n",
              "    }\n",
              "    (() => {\n",
              "      let quickchartButtonEl =\n",
              "        document.querySelector('#df-b205e333-db4f-43f9-99a1-45e17b670fcb button');\n",
              "      quickchartButtonEl.style.display =\n",
              "        google.colab.kernel.accessAllowed ? 'block' : 'none';\n",
              "    })();\n",
              "  </script>\n",
              "</div>\n",
              "    </div>\n",
              "  </div>\n"
            ],
            "application/vnd.google.colaboratory.intrinsic+json": {
              "type": "dataframe",
              "variable_name": "dfs",
              "summary": "{\n  \"name\": \"dfs\",\n  \"rows\": 8910,\n  \"fields\": [\n    {\n      \"column\": \"roll\",\n      \"properties\": {\n        \"dtype\": \"number\",\n        \"std\": 0.8220590253179741,\n        \"min\": -3.1363298892974854,\n        \"max\": 3.1207640171051025,\n        \"num_unique_values\": 8909,\n        \"samples\": [\n          0.6985342502593994,\n          -0.5678421258926392,\n          0.8944633603096008\n        ],\n        \"semantic_type\": \"\",\n        \"description\": \"\"\n      }\n    },\n    {\n      \"column\": \"pitch\",\n      \"properties\": {\n        \"dtype\": \"number\",\n        \"std\": 0.23795643287304089,\n        \"min\": -1.566624402999878,\n        \"max\": 0.2035780698060989,\n        \"num_unique_values\": 8898,\n        \"samples\": [\n          -0.9750431776046752,\n          -1.066562533378601,\n          -0.8944040536880493\n        ],\n        \"semantic_type\": \"\",\n        \"description\": \"\"\n      }\n    },\n    {\n      \"column\": \"yaw\",\n      \"properties\": {\n        \"dtype\": \"number\",\n        \"std\": 1.0516226617838023,\n        \"min\": -3.1410603523254395,\n        \"max\": 3.139681577682495,\n        \"num_unique_values\": 8910,\n        \"samples\": [\n          0.5132383704185486,\n          -0.2902386784553528,\n          0.6484436392784119\n        ],\n        \"semantic_type\": \"\",\n        \"description\": \"\"\n      }\n    },\n    {\n      \"column\": \"accel_z\",\n      \"properties\": {\n        \"dtype\": \"number\",\n        \"std\": 2.1766328332283544,\n        \"min\": -9.449020385742188,\n        \"max\": 10.563529014587402,\n        \"num_unique_values\": 8908,\n        \"samples\": [\n          -0.5285732746124268,\n          -3.1555418968200684,\n          2.72934889793396\n        ],\n        \"semantic_type\": \"\",\n        \"description\": \"\"\n      }\n    },\n    {\n      \"column\": \"accel_y\",\n      \"properties\": {\n        \"dtype\": \"number\",\n        \"std\": 1.668465236332707,\n        \"min\": -3.913816928863525,\n        \"max\": 9.405301094055176,\n        \"num_unique_values\": 8905,\n        \"samples\": [\n          -0.7825632095336914,\n          -0.8742513656616211,\n          0.4122672080993652\n        ],\n        \"semantic_type\": \"\",\n        \"description\": \"\"\n      }\n    },\n    {\n      \"column\": \"accel_x\",\n      \"properties\": {\n        \"dtype\": \"number\",\n        \"std\": 2.868398297866524,\n        \"min\": -10.164670944213867,\n        \"max\": 17.974340438842773,\n        \"num_unique_values\": 8910,\n        \"samples\": [\n          -0.6367690563201904,\n          -0.0503170490264892,\n          0.4845116734504699\n        ],\n        \"semantic_type\": \"\",\n        \"description\": \"\"\n      }\n    },\n    {\n      \"column\": \"gyro_z\",\n      \"properties\": {\n        \"dtype\": \"number\",\n        \"std\": 0.9005374558775886,\n        \"min\": -2.691548585891724,\n        \"max\": 4.557436466217041,\n        \"num_unique_values\": 5185,\n        \"samples\": [\n          0.6089562773704529,\n          -1.21264386177063,\n          -0.7844273447990417\n        ],\n        \"semantic_type\": \"\",\n        \"description\": \"\"\n      }\n    },\n    {\n      \"column\": \"gyro_y\",\n      \"properties\": {\n        \"dtype\": \"number\",\n        \"std\": 1.8480651659799603,\n        \"min\": -7.153308391571045,\n        \"max\": 7.936895847320557,\n        \"num_unique_values\": 6608,\n        \"samples\": [\n          -3.5864663124084477,\n          0.2082286924123764,\n          1.373759627342224\n        ],\n        \"semantic_type\": \"\",\n        \"description\": \"\"\n      }\n    },\n    {\n      \"column\": \"gyro_x\",\n      \"properties\": {\n        \"dtype\": \"number\",\n        \"std\": 1.263154712164975,\n        \"min\": -5.161124229431152,\n        \"max\": 5.525352478027344,\n        \"num_unique_values\": 6446,\n        \"samples\": [\n          1.7905223369598389,\n          -0.1294270753860473,\n          -0.5832999348640442\n        ],\n        \"semantic_type\": \"\",\n        \"description\": \"\"\n      }\n    },\n    {\n      \"column\": \"label\",\n      \"properties\": {\n        \"dtype\": \"category\",\n        \"num_unique_values\": 3,\n        \"samples\": [\n          \"Crossover\",\n          \"BetweenTheLegs\",\n          \"InAndOut\"\n        ],\n        \"semantic_type\": \"\",\n        \"description\": \"\"\n      }\n    }\n  ]\n}"
            }
          },
          "metadata": {},
          "execution_count": 11
        }
      ]
    },
    {
      "cell_type": "markdown",
      "source": [
        "#Refactored 2.0\n"
      ],
      "metadata": {
        "id": "NPtEdoxqxyZU"
      }
    },
    {
      "cell_type": "code",
      "source": [
        "import pandas as pd\n",
        "import os\n",
        "\n",
        "def process_csv_file(file_path, sensor_columns):\n",
        "    \"\"\"Read a CSV file, filter and rename columns for sensor data.\"\"\"\n",
        "    df = pd.read_csv(file_path)\n",
        "    df.rename(columns=lambda x: x.strip().lower(), inplace=True)  # Normalize column names\n",
        "    df = df[list(sensor_columns.keys())].rename(columns=sensor_columns)\n",
        "    return df\n",
        "\n",
        "def process_folder(root_path):\n",
        "    combined_data = []\n",
        "    if not os.path.exists(root_path):\n",
        "        print(f\"Error: The directory {root_path} does not exist.\")\n",
        "        return None\n",
        "\n",
        "    assert callable(min)\n",
        "\n",
        "    for movement in os.listdir(root_path):\n",
        "        movement_path = os.path.join(root_path, movement)\n",
        "        label = movement.split(\"_\")[0]\n",
        "        for session_folder in os.listdir(movement_path):\n",
        "            session_path = os.path.join(movement_path, session_folder)\n",
        "            accel_file = os.path.join(session_path, \"Accelerometer.csv\")\n",
        "            gyro_file = os.path.join(session_path, \"Gyroscope.csv\")\n",
        "            # orient_file = os.path.join(session_path, \"Orientation.csv\")\n",
        "\n",
        "            # if os.path.exists(accel_file) and os.path.exists(gyro_file) and os.path.exists(orient_file):\n",
        "            if os.path.exists(accel_file) and os.path.exists(gyro_file):\n",
        "                accel_data = process_csv_file(accel_file, {'x': 'accel_x', 'y': 'accel_y', 'z': 'accel_z'})\n",
        "                gyro_data = process_csv_file(gyro_file, {'x': 'gyro_x', 'y': 'gyro_y', 'z': 'gyro_z'})\n",
        "                #orient_data = process_csv_file(orient_file, {'roll': 'roll', 'pitch': 'pitch', 'yaw': 'yaw'})\n",
        "\n",
        "                # Calculate the minimum length to ensure all data are of the same length\n",
        "                # min_length = min(len(accel_data), len(gyro_data), len(orient_data))\n",
        "                min_length = min(len(accel_data), len(gyro_data))\n",
        "                # combined_session_data = pd.concat([\n",
        "                #     accel_data.head(min_length),\n",
        "                #     gyro_data.head(min_length),\n",
        "                #     orient_data.head(min_length)\n",
        "                # ], axis=1)\n",
        "                combined_session_data = pd.concat([\n",
        "                    accel_data.head(min_length),\n",
        "                    gyro_data.head(min_length)\n",
        "                ], axis=1)\n",
        "                combined_session_data['label'] = label\n",
        "                combined_data.append(combined_session_data)\n",
        "            else:\n",
        "                print(f\"Missing data files in {session_path}\")\n",
        "\n",
        "    return pd.concat(combined_data, ignore_index=True) if combined_data else None\n",
        "\n",
        "def main():\n",
        "    dir_path = '/content/drive/MyDrive/Development_Project/actual_data/'\n",
        "    final_data = process_folder(dir_path)\n",
        "    if final_data is not None:\n",
        "        final_data.to_csv('/content/drive/MyDrive/Development_Project/basketball_dataset/combined_sensor_data.csv', index=False)\n",
        "        print(\"Dataset created successfully.\")\n",
        "    else:\n",
        "        print(\"No data to create dataset.\")\n",
        "\n",
        "if __name__ == \"__main__\":\n",
        "    main()\n"
      ],
      "metadata": {
        "colab": {
          "base_uri": "https://localhost:8080/"
        },
        "id": "WOjoGQj7x0ly",
        "outputId": "75fc5a8d-03fd-424b-ddf9-fc3a01bbfa65"
      },
      "execution_count": null,
      "outputs": [
        {
          "output_type": "stream",
          "name": "stdout",
          "text": [
            "Dataset created successfully.\n"
          ]
        }
      ]
    },
    {
      "cell_type": "markdown",
      "source": [
        "##Creating LSTM Model\n"
      ],
      "metadata": {
        "id": "U9-b-EM5a4Bf"
      }
    },
    {
      "cell_type": "code",
      "source": [
        "from tensorflow.keras.preprocessing.sequence import pad_sequences\n",
        "from sklearn.preprocessing import LabelEncoder, OneHotEncoder\n",
        "ts_path = '/content/drive/MyDrive/Development_Project/basketball_dataset/combined_sensor_data.csv'\n",
        "df = pd.read_csv(ts_path)"
      ],
      "metadata": {
        "id": "oUhU7dqeI4YY"
      },
      "execution_count": null,
      "outputs": []
    },
    {
      "cell_type": "code",
      "source": [
        "df"
      ],
      "metadata": {
        "colab": {
          "base_uri": "https://localhost:8080/",
          "height": 424
        },
        "id": "KDrPx6Iuz_p9",
        "outputId": "4895b104-853e-46a3-db97-abe9ad6f8d18"
      },
      "execution_count": null,
      "outputs": [
        {
          "output_type": "execute_result",
          "data": {
            "text/plain": [
              "        accel_x   accel_y   accel_z    gyro_x    gyro_y    gyro_z  \\\n",
              "0     -0.928380  0.054267 -1.846358 -0.230602  3.670231  0.537180   \n",
              "1      1.733490  0.054508 -0.866765 -0.071777  2.724612  0.590325   \n",
              "2      3.351290  0.027053  0.323783  0.104763  1.539533  0.938518   \n",
              "3      3.247380  0.156662  0.490361  0.223882  0.892627  1.168203   \n",
              "4      2.183544  0.339989 -0.231950  0.217773  1.119869  1.417436   \n",
              "...         ...       ...       ...       ...       ...       ...   \n",
              "30205 -0.409737  0.114840  0.243686  0.204334 -0.074373  0.328875   \n",
              "30206 -0.395718 -0.026733  0.353799  0.225715 -0.186772  0.280616   \n",
              "30207 -0.275363  0.096418  0.242505  0.204334 -0.228311  0.217697   \n",
              "30208 -0.196451  0.137535  0.116222  0.175624 -0.213650  0.181656   \n",
              "30209 -0.244893  0.239088 -0.031194  0.160963 -0.170279  0.165774   \n",
              "\n",
              "                label  \n",
              "0               InOut  \n",
              "1               InOut  \n",
              "2               InOut  \n",
              "3               InOut  \n",
              "4               InOut  \n",
              "...               ...  \n",
              "30205  BetweenTheLegs  \n",
              "30206  BetweenTheLegs  \n",
              "30207  BetweenTheLegs  \n",
              "30208  BetweenTheLegs  \n",
              "30209  BetweenTheLegs  \n",
              "\n",
              "[30210 rows x 7 columns]"
            ],
            "text/html": [
              "\n",
              "  <div id=\"df-850f816f-d11a-4ad4-924a-23743c43740b\" class=\"colab-df-container\">\n",
              "    <div>\n",
              "<style scoped>\n",
              "    .dataframe tbody tr th:only-of-type {\n",
              "        vertical-align: middle;\n",
              "    }\n",
              "\n",
              "    .dataframe tbody tr th {\n",
              "        vertical-align: top;\n",
              "    }\n",
              "\n",
              "    .dataframe thead th {\n",
              "        text-align: right;\n",
              "    }\n",
              "</style>\n",
              "<table border=\"1\" class=\"dataframe\">\n",
              "  <thead>\n",
              "    <tr style=\"text-align: right;\">\n",
              "      <th></th>\n",
              "      <th>accel_x</th>\n",
              "      <th>accel_y</th>\n",
              "      <th>accel_z</th>\n",
              "      <th>gyro_x</th>\n",
              "      <th>gyro_y</th>\n",
              "      <th>gyro_z</th>\n",
              "      <th>label</th>\n",
              "    </tr>\n",
              "  </thead>\n",
              "  <tbody>\n",
              "    <tr>\n",
              "      <th>0</th>\n",
              "      <td>-0.928380</td>\n",
              "      <td>0.054267</td>\n",
              "      <td>-1.846358</td>\n",
              "      <td>-0.230602</td>\n",
              "      <td>3.670231</td>\n",
              "      <td>0.537180</td>\n",
              "      <td>InOut</td>\n",
              "    </tr>\n",
              "    <tr>\n",
              "      <th>1</th>\n",
              "      <td>1.733490</td>\n",
              "      <td>0.054508</td>\n",
              "      <td>-0.866765</td>\n",
              "      <td>-0.071777</td>\n",
              "      <td>2.724612</td>\n",
              "      <td>0.590325</td>\n",
              "      <td>InOut</td>\n",
              "    </tr>\n",
              "    <tr>\n",
              "      <th>2</th>\n",
              "      <td>3.351290</td>\n",
              "      <td>0.027053</td>\n",
              "      <td>0.323783</td>\n",
              "      <td>0.104763</td>\n",
              "      <td>1.539533</td>\n",
              "      <td>0.938518</td>\n",
              "      <td>InOut</td>\n",
              "    </tr>\n",
              "    <tr>\n",
              "      <th>3</th>\n",
              "      <td>3.247380</td>\n",
              "      <td>0.156662</td>\n",
              "      <td>0.490361</td>\n",
              "      <td>0.223882</td>\n",
              "      <td>0.892627</td>\n",
              "      <td>1.168203</td>\n",
              "      <td>InOut</td>\n",
              "    </tr>\n",
              "    <tr>\n",
              "      <th>4</th>\n",
              "      <td>2.183544</td>\n",
              "      <td>0.339989</td>\n",
              "      <td>-0.231950</td>\n",
              "      <td>0.217773</td>\n",
              "      <td>1.119869</td>\n",
              "      <td>1.417436</td>\n",
              "      <td>InOut</td>\n",
              "    </tr>\n",
              "    <tr>\n",
              "      <th>...</th>\n",
              "      <td>...</td>\n",
              "      <td>...</td>\n",
              "      <td>...</td>\n",
              "      <td>...</td>\n",
              "      <td>...</td>\n",
              "      <td>...</td>\n",
              "      <td>...</td>\n",
              "    </tr>\n",
              "    <tr>\n",
              "      <th>30205</th>\n",
              "      <td>-0.409737</td>\n",
              "      <td>0.114840</td>\n",
              "      <td>0.243686</td>\n",
              "      <td>0.204334</td>\n",
              "      <td>-0.074373</td>\n",
              "      <td>0.328875</td>\n",
              "      <td>BetweenTheLegs</td>\n",
              "    </tr>\n",
              "    <tr>\n",
              "      <th>30206</th>\n",
              "      <td>-0.395718</td>\n",
              "      <td>-0.026733</td>\n",
              "      <td>0.353799</td>\n",
              "      <td>0.225715</td>\n",
              "      <td>-0.186772</td>\n",
              "      <td>0.280616</td>\n",
              "      <td>BetweenTheLegs</td>\n",
              "    </tr>\n",
              "    <tr>\n",
              "      <th>30207</th>\n",
              "      <td>-0.275363</td>\n",
              "      <td>0.096418</td>\n",
              "      <td>0.242505</td>\n",
              "      <td>0.204334</td>\n",
              "      <td>-0.228311</td>\n",
              "      <td>0.217697</td>\n",
              "      <td>BetweenTheLegs</td>\n",
              "    </tr>\n",
              "    <tr>\n",
              "      <th>30208</th>\n",
              "      <td>-0.196451</td>\n",
              "      <td>0.137535</td>\n",
              "      <td>0.116222</td>\n",
              "      <td>0.175624</td>\n",
              "      <td>-0.213650</td>\n",
              "      <td>0.181656</td>\n",
              "      <td>BetweenTheLegs</td>\n",
              "    </tr>\n",
              "    <tr>\n",
              "      <th>30209</th>\n",
              "      <td>-0.244893</td>\n",
              "      <td>0.239088</td>\n",
              "      <td>-0.031194</td>\n",
              "      <td>0.160963</td>\n",
              "      <td>-0.170279</td>\n",
              "      <td>0.165774</td>\n",
              "      <td>BetweenTheLegs</td>\n",
              "    </tr>\n",
              "  </tbody>\n",
              "</table>\n",
              "<p>30210 rows × 7 columns</p>\n",
              "</div>\n",
              "    <div class=\"colab-df-buttons\">\n",
              "\n",
              "  <div class=\"colab-df-container\">\n",
              "    <button class=\"colab-df-convert\" onclick=\"convertToInteractive('df-850f816f-d11a-4ad4-924a-23743c43740b')\"\n",
              "            title=\"Convert this dataframe to an interactive table.\"\n",
              "            style=\"display:none;\">\n",
              "\n",
              "  <svg xmlns=\"http://www.w3.org/2000/svg\" height=\"24px\" viewBox=\"0 -960 960 960\">\n",
              "    <path d=\"M120-120v-720h720v720H120Zm60-500h600v-160H180v160Zm220 220h160v-160H400v160Zm0 220h160v-160H400v160ZM180-400h160v-160H180v160Zm440 0h160v-160H620v160ZM180-180h160v-160H180v160Zm440 0h160v-160H620v160Z\"/>\n",
              "  </svg>\n",
              "    </button>\n",
              "\n",
              "  <style>\n",
              "    .colab-df-container {\n",
              "      display:flex;\n",
              "      gap: 12px;\n",
              "    }\n",
              "\n",
              "    .colab-df-convert {\n",
              "      background-color: #E8F0FE;\n",
              "      border: none;\n",
              "      border-radius: 50%;\n",
              "      cursor: pointer;\n",
              "      display: none;\n",
              "      fill: #1967D2;\n",
              "      height: 32px;\n",
              "      padding: 0 0 0 0;\n",
              "      width: 32px;\n",
              "    }\n",
              "\n",
              "    .colab-df-convert:hover {\n",
              "      background-color: #E2EBFA;\n",
              "      box-shadow: 0px 1px 2px rgba(60, 64, 67, 0.3), 0px 1px 3px 1px rgba(60, 64, 67, 0.15);\n",
              "      fill: #174EA6;\n",
              "    }\n",
              "\n",
              "    .colab-df-buttons div {\n",
              "      margin-bottom: 4px;\n",
              "    }\n",
              "\n",
              "    [theme=dark] .colab-df-convert {\n",
              "      background-color: #3B4455;\n",
              "      fill: #D2E3FC;\n",
              "    }\n",
              "\n",
              "    [theme=dark] .colab-df-convert:hover {\n",
              "      background-color: #434B5C;\n",
              "      box-shadow: 0px 1px 3px 1px rgba(0, 0, 0, 0.15);\n",
              "      filter: drop-shadow(0px 1px 2px rgba(0, 0, 0, 0.3));\n",
              "      fill: #FFFFFF;\n",
              "    }\n",
              "  </style>\n",
              "\n",
              "    <script>\n",
              "      const buttonEl =\n",
              "        document.querySelector('#df-850f816f-d11a-4ad4-924a-23743c43740b button.colab-df-convert');\n",
              "      buttonEl.style.display =\n",
              "        google.colab.kernel.accessAllowed ? 'block' : 'none';\n",
              "\n",
              "      async function convertToInteractive(key) {\n",
              "        const element = document.querySelector('#df-850f816f-d11a-4ad4-924a-23743c43740b');\n",
              "        const dataTable =\n",
              "          await google.colab.kernel.invokeFunction('convertToInteractive',\n",
              "                                                    [key], {});\n",
              "        if (!dataTable) return;\n",
              "\n",
              "        const docLinkHtml = 'Like what you see? Visit the ' +\n",
              "          '<a target=\"_blank\" href=https://colab.research.google.com/notebooks/data_table.ipynb>data table notebook</a>'\n",
              "          + ' to learn more about interactive tables.';\n",
              "        element.innerHTML = '';\n",
              "        dataTable['output_type'] = 'display_data';\n",
              "        await google.colab.output.renderOutput(dataTable, element);\n",
              "        const docLink = document.createElement('div');\n",
              "        docLink.innerHTML = docLinkHtml;\n",
              "        element.appendChild(docLink);\n",
              "      }\n",
              "    </script>\n",
              "  </div>\n",
              "\n",
              "\n",
              "<div id=\"df-ad08f410-61bb-401a-9505-7603ecc1e292\">\n",
              "  <button class=\"colab-df-quickchart\" onclick=\"quickchart('df-ad08f410-61bb-401a-9505-7603ecc1e292')\"\n",
              "            title=\"Suggest charts\"\n",
              "            style=\"display:none;\">\n",
              "\n",
              "<svg xmlns=\"http://www.w3.org/2000/svg\" height=\"24px\"viewBox=\"0 0 24 24\"\n",
              "     width=\"24px\">\n",
              "    <g>\n",
              "        <path d=\"M19 3H5c-1.1 0-2 .9-2 2v14c0 1.1.9 2 2 2h14c1.1 0 2-.9 2-2V5c0-1.1-.9-2-2-2zM9 17H7v-7h2v7zm4 0h-2V7h2v10zm4 0h-2v-4h2v4z\"/>\n",
              "    </g>\n",
              "</svg>\n",
              "  </button>\n",
              "\n",
              "<style>\n",
              "  .colab-df-quickchart {\n",
              "      --bg-color: #E8F0FE;\n",
              "      --fill-color: #1967D2;\n",
              "      --hover-bg-color: #E2EBFA;\n",
              "      --hover-fill-color: #174EA6;\n",
              "      --disabled-fill-color: #AAA;\n",
              "      --disabled-bg-color: #DDD;\n",
              "  }\n",
              "\n",
              "  [theme=dark] .colab-df-quickchart {\n",
              "      --bg-color: #3B4455;\n",
              "      --fill-color: #D2E3FC;\n",
              "      --hover-bg-color: #434B5C;\n",
              "      --hover-fill-color: #FFFFFF;\n",
              "      --disabled-bg-color: #3B4455;\n",
              "      --disabled-fill-color: #666;\n",
              "  }\n",
              "\n",
              "  .colab-df-quickchart {\n",
              "    background-color: var(--bg-color);\n",
              "    border: none;\n",
              "    border-radius: 50%;\n",
              "    cursor: pointer;\n",
              "    display: none;\n",
              "    fill: var(--fill-color);\n",
              "    height: 32px;\n",
              "    padding: 0;\n",
              "    width: 32px;\n",
              "  }\n",
              "\n",
              "  .colab-df-quickchart:hover {\n",
              "    background-color: var(--hover-bg-color);\n",
              "    box-shadow: 0 1px 2px rgba(60, 64, 67, 0.3), 0 1px 3px 1px rgba(60, 64, 67, 0.15);\n",
              "    fill: var(--button-hover-fill-color);\n",
              "  }\n",
              "\n",
              "  .colab-df-quickchart-complete:disabled,\n",
              "  .colab-df-quickchart-complete:disabled:hover {\n",
              "    background-color: var(--disabled-bg-color);\n",
              "    fill: var(--disabled-fill-color);\n",
              "    box-shadow: none;\n",
              "  }\n",
              "\n",
              "  .colab-df-spinner {\n",
              "    border: 2px solid var(--fill-color);\n",
              "    border-color: transparent;\n",
              "    border-bottom-color: var(--fill-color);\n",
              "    animation:\n",
              "      spin 1s steps(1) infinite;\n",
              "  }\n",
              "\n",
              "  @keyframes spin {\n",
              "    0% {\n",
              "      border-color: transparent;\n",
              "      border-bottom-color: var(--fill-color);\n",
              "      border-left-color: var(--fill-color);\n",
              "    }\n",
              "    20% {\n",
              "      border-color: transparent;\n",
              "      border-left-color: var(--fill-color);\n",
              "      border-top-color: var(--fill-color);\n",
              "    }\n",
              "    30% {\n",
              "      border-color: transparent;\n",
              "      border-left-color: var(--fill-color);\n",
              "      border-top-color: var(--fill-color);\n",
              "      border-right-color: var(--fill-color);\n",
              "    }\n",
              "    40% {\n",
              "      border-color: transparent;\n",
              "      border-right-color: var(--fill-color);\n",
              "      border-top-color: var(--fill-color);\n",
              "    }\n",
              "    60% {\n",
              "      border-color: transparent;\n",
              "      border-right-color: var(--fill-color);\n",
              "    }\n",
              "    80% {\n",
              "      border-color: transparent;\n",
              "      border-right-color: var(--fill-color);\n",
              "      border-bottom-color: var(--fill-color);\n",
              "    }\n",
              "    90% {\n",
              "      border-color: transparent;\n",
              "      border-bottom-color: var(--fill-color);\n",
              "    }\n",
              "  }\n",
              "</style>\n",
              "\n",
              "  <script>\n",
              "    async function quickchart(key) {\n",
              "      const quickchartButtonEl =\n",
              "        document.querySelector('#' + key + ' button');\n",
              "      quickchartButtonEl.disabled = true;  // To prevent multiple clicks.\n",
              "      quickchartButtonEl.classList.add('colab-df-spinner');\n",
              "      try {\n",
              "        const charts = await google.colab.kernel.invokeFunction(\n",
              "            'suggestCharts', [key], {});\n",
              "      } catch (error) {\n",
              "        console.error('Error during call to suggestCharts:', error);\n",
              "      }\n",
              "      quickchartButtonEl.classList.remove('colab-df-spinner');\n",
              "      quickchartButtonEl.classList.add('colab-df-quickchart-complete');\n",
              "    }\n",
              "    (() => {\n",
              "      let quickchartButtonEl =\n",
              "        document.querySelector('#df-ad08f410-61bb-401a-9505-7603ecc1e292 button');\n",
              "      quickchartButtonEl.style.display =\n",
              "        google.colab.kernel.accessAllowed ? 'block' : 'none';\n",
              "    })();\n",
              "  </script>\n",
              "</div>\n",
              "    </div>\n",
              "  </div>\n"
            ],
            "application/vnd.google.colaboratory.intrinsic+json": {
              "type": "dataframe",
              "variable_name": "df",
              "summary": "{\n  \"name\": \"df\",\n  \"rows\": 30210,\n  \"fields\": [\n    {\n      \"column\": \"accel_x\",\n      \"properties\": {\n        \"dtype\": \"number\",\n        \"std\": 5.291018750102176,\n        \"min\": -23.22808074951172,\n        \"max\": 45.44514083862305,\n        \"num_unique_values\": 30202,\n        \"samples\": [\n          3.0965495109558105,\n          1.2196030616760254,\n          2.00706148147583\n        ],\n        \"semantic_type\": \"\",\n        \"description\": \"\"\n      }\n    },\n    {\n      \"column\": \"accel_y\",\n      \"properties\": {\n        \"dtype\": \"number\",\n        \"std\": 3.4707363947228638,\n        \"min\": -11.058505058288574,\n        \"max\": 24.83149147033692,\n        \"num_unique_values\": 30171,\n        \"samples\": [\n          -5.202803611755371,\n          -4.302924156188965,\n          2.431032180786133\n        ],\n        \"semantic_type\": \"\",\n        \"description\": \"\"\n      }\n    },\n    {\n      \"column\": \"accel_z\",\n      \"properties\": {\n        \"dtype\": \"number\",\n        \"std\": 3.3543152676659127,\n        \"min\": -28.953998565673828,\n        \"max\": 20.43293190002441,\n        \"num_unique_values\": 30196,\n        \"samples\": [\n          -0.6710495948791504,\n          -1.3129940032958984,\n          -3.273766040802002\n        ],\n        \"semantic_type\": \"\",\n        \"description\": \"\"\n      }\n    },\n    {\n      \"column\": \"gyro_x\",\n      \"properties\": {\n        \"dtype\": \"number\",\n        \"std\": 1.6149094853891262,\n        \"min\": -4.988631248474121,\n        \"max\": 5.813910007476807,\n        \"num_unique_values\": 13873,\n        \"samples\": [\n          -0.1982257664203643,\n          -2.271502494812012,\n          -1.785330057144165\n        ],\n        \"semantic_type\": \"\",\n        \"description\": \"\"\n      }\n    },\n    {\n      \"column\": \"gyro_y\",\n      \"properties\": {\n        \"dtype\": \"number\",\n        \"std\": 2.5618662789667623,\n        \"min\": -12.815799713134766,\n        \"max\": 10.470382690429688,\n        \"num_unique_values\": 16951,\n        \"samples\": [\n          0.2206750661134719,\n          1.751503348350525,\n          1.264032959938049\n        ],\n        \"semantic_type\": \"\",\n        \"description\": \"\"\n      }\n    },\n    {\n      \"column\": \"gyro_z\",\n      \"properties\": {\n        \"dtype\": \"number\",\n        \"std\": 1.176541816683085,\n        \"min\": -4.851873397827148,\n        \"max\": 4.582329273223877,\n        \"num_unique_values\": 11594,\n        \"samples\": [\n          0.4583780169486999,\n          -0.6582836508750916,\n          -1.9429333209991453\n        ],\n        \"semantic_type\": \"\",\n        \"description\": \"\"\n      }\n    },\n    {\n      \"column\": \"label\",\n      \"properties\": {\n        \"dtype\": \"category\",\n        \"num_unique_values\": 3,\n        \"samples\": [\n          \"InOut\",\n          \"Crossover\",\n          \"BetweenTheLegs\"\n        ],\n        \"semantic_type\": \"\",\n        \"description\": \"\"\n      }\n    }\n  ]\n}"
            }
          },
          "metadata": {},
          "execution_count": 5
        }
      ]
    },
    {
      "cell_type": "code",
      "source": [
        "# min_ = df[['roll','pitch','yaw','accel_z', 'accel_y', 'accel_x','gyro_z', 'gyro_y', 'gyro_x']].min()\n",
        "# max_ = df[['roll','pitch','yaw','accel_z', 'accel_y', 'accel_x','gyro_z', 'gyro_y', 'gyro_x']].max()\n",
        "min_ = df[['accel_z', 'accel_y', 'accel_x','gyro_z', 'gyro_y', 'gyro_x']].min()\n",
        "max_ = df[['accel_z', 'accel_y', 'accel_x','gyro_z', 'gyro_y', 'gyro_x']].max()\n",
        "\n",
        "print('Minimum date:', min_)\n",
        "print('Maximum date:', max_)"
      ],
      "metadata": {
        "colab": {
          "base_uri": "https://localhost:8080/"
        },
        "id": "TnqKTTboFXlj",
        "outputId": "7db5b1a3-aaea-4d39-b841-18bc0263c9ba"
      },
      "execution_count": null,
      "outputs": [
        {
          "output_type": "stream",
          "name": "stdout",
          "text": [
            "Minimum date: accel_z   -28.953999\n",
            "accel_y   -11.058505\n",
            "accel_x   -23.228081\n",
            "gyro_z     -4.851873\n",
            "gyro_y    -12.815800\n",
            "gyro_x     -4.988631\n",
            "dtype: float64\n",
            "Maximum date: accel_z    20.432932\n",
            "accel_y    24.831491\n",
            "accel_x    45.445141\n",
            "gyro_z      4.582329\n",
            "gyro_y     10.470383\n",
            "gyro_x      5.813910\n",
            "dtype: float64\n"
          ]
        }
      ]
    },
    {
      "cell_type": "markdown",
      "source": [
        "#Standard Features (Accel XYZ,Gyro XYZ)"
      ],
      "metadata": {
        "id": "m5oUlHbR5weX"
      }
    },
    {
      "cell_type": "code",
      "source": [
        "label_encoder = LabelEncoder()\n",
        "df['label']= label_encoder.fit_transform(df['label'])\n",
        "df_labels = df['label']\n"
      ],
      "metadata": {
        "id": "iO8z6cJiN3zZ"
      },
      "execution_count": null,
      "outputs": []
    },
    {
      "cell_type": "code",
      "source": [
        "\n",
        "\n",
        "scaler = MinMaxScaler()\n",
        "df = scaler.fit_transform(df[['accel_z', 'accel_y', 'accel_x','gyro_z', 'gyro_y', 'gyro_x']])\n",
        "df = pd.DataFrame(data = df, columns = ['accel_z', 'accel_y', 'accel_x','gyro_z', 'gyro_y', 'gyro_x'])\n",
        "# df = scaler.fit_transform(df[['roll','pitch','yaw','accel_z', 'accel_y', 'accel_x','gyro_z', 'gyro_y', 'gyro_x']])\n",
        "# df = pd.DataFrame(data = df, columns = ['roll','pitch','yaw','accel_z', 'accel_y', 'accel_x','gyro_z', 'gyro_y', 'gyro_x'])\n",
        "\n",
        "df['label'] = df_labels.values"
      ],
      "metadata": {
        "id": "t7n2EfGabpKH"
      },
      "execution_count": null,
      "outputs": []
    },
    {
      "cell_type": "code",
      "source": [
        "for label in df['label'].unique():\n",
        "    df_subset = df[df['label'] == label]\n",
        "    print(f\"Class {label} has {len(df_subset)} samples.\")\n"
      ],
      "metadata": {
        "colab": {
          "base_uri": "https://localhost:8080/"
        },
        "id": "yTeEPI9dcSB3",
        "outputId": "61b112b3-74fc-427d-b6ab-327923f67526"
      },
      "execution_count": null,
      "outputs": [
        {
          "output_type": "stream",
          "name": "stdout",
          "text": [
            "Class 2 has 7091 samples.\n",
            "Class 1 has 14019 samples.\n",
            "Class 0 has 9100 samples.\n"
          ]
        }
      ]
    },
    {
      "cell_type": "code",
      "source": [
        "# import pandas as pd\n",
        "\n",
        "# Count of the smallest class\n",
        "# min_count = 14500\n",
        "\n",
        "# # Separate the dataframe by classes\n",
        "# df_class_0 = df[df['label'] == 0]\n",
        "# df_class_1 = df[df['label'] == 1]\n",
        "# df_class_2 = df[df['label'] == 2]\n",
        "# df_class_3 = df[df['label'] == 3]\n",
        "\n",
        "# # Downsample classes\n",
        "# df_class_1_downsampled = df_class_1.sample(min_count, random_state=42)\n",
        "# df_class_2_downsampled = df_class_2.sample(min_count, random_state=42)\n",
        "# df_class_3_downsampled = df_class_3.sample(min_count, random_state=42)\n",
        "\n",
        "# # Combine the classes back into one DataFrame\n",
        "# df_balanced = pd.concat([df_class_0, df_class_1_downsampled, df_class_2_downsampled, df_class_3_downsampled])\n",
        "\n",
        "# # Shuffle the dataset to mix up the classes\n",
        "# df = df_balanced.sample(frac=1, random_state=42).reset_index(drop=True)\n"
      ],
      "metadata": {
        "id": "RFzfkG-_bVVS"
      },
      "execution_count": null,
      "outputs": []
    },
    {
      "cell_type": "code",
      "source": [
        "for label in df['label'].unique():\n",
        "    df_subset = df[df['label'] == label]\n",
        "    print(f\"Class {label} has {len(df_subset)} samples.\")"
      ],
      "metadata": {
        "colab": {
          "base_uri": "https://localhost:8080/"
        },
        "id": "fuLmBSQRcy4R",
        "outputId": "79e67ddd-af98-4f5f-a549-84814c50a021"
      },
      "execution_count": null,
      "outputs": [
        {
          "output_type": "stream",
          "name": "stdout",
          "text": [
            "Class 2 has 7091 samples.\n",
            "Class 1 has 14019 samples.\n",
            "Class 0 has 9100 samples.\n"
          ]
        }
      ]
    },
    {
      "cell_type": "code",
      "source": [],
      "metadata": {
        "id": "G2ShVc2lFeRg"
      },
      "execution_count": null,
      "outputs": []
    },
    {
      "cell_type": "code",
      "source": [
        "\n",
        "def generate_overlapping_instances(sensor_data, window_size, overlap ):\n",
        "    instances = []\n",
        "    labels = []\n",
        "    start_index = 0\n",
        "    while start_index + window_size <= len(sensor_data):\n",
        "        window = sensor_data[start_index: start_index + window_size]\n",
        "        instance = window.iloc[:, :-1]\n",
        "        label = window['label'].mode()[0]\n",
        "\n",
        "        instances.append(instance)\n",
        "        labels.append(label)\n",
        "\n",
        "        start_index += overlap\n",
        "    return instances, labels\n",
        "\n",
        "X, y = generate_overlapping_instances(df, 25, 5 )\n",
        "\n",
        "\n",
        "X = np.asarray(X)\n",
        "y = np.asarray(y)\n",
        "\n",
        "# X_train, X_test, y_train, y_test = train_test_split(X, y, test_size=0.2, random_state=42)\n",
        "# X_train, X_val, y_train, y_val = train_test_split(X_train, y_train,\n",
        "#                                                   test_size=0.2, random_state=42)\n"
      ],
      "metadata": {
        "id": "FHwxaUZD_mr1"
      },
      "execution_count": null,
      "outputs": []
    },
    {
      "cell_type": "code",
      "source": [
        "X = X.reshape((-1, 25,6))"
      ],
      "metadata": {
        "id": "NqMmd0ECLXvN"
      },
      "execution_count": null,
      "outputs": []
    },
    {
      "cell_type": "code",
      "source": [
        "print(df['label'].unique())"
      ],
      "metadata": {
        "colab": {
          "base_uri": "https://localhost:8080/"
        },
        "id": "BIFYXIT6WjYj",
        "outputId": "697ae693-07ba-41ef-f296-ecadbbd13dcf"
      },
      "execution_count": null,
      "outputs": [
        {
          "output_type": "stream",
          "name": "stdout",
          "text": [
            "[2 1 0]\n"
          ]
        }
      ]
    },
    {
      "cell_type": "code",
      "source": [
        "df.to_csv('test.csv', index=False)"
      ],
      "metadata": {
        "id": "vUObMOKcGZav"
      },
      "execution_count": null,
      "outputs": []
    },
    {
      "cell_type": "code",
      "source": [
        "print(classWeight)"
      ],
      "metadata": {
        "colab": {
          "base_uri": "https://localhost:8080/",
          "height": 141
        },
        "id": "KllorGnzYKuk",
        "outputId": "b4edcfd1-7cdc-4770-c697-bc6fdb3e63d9"
      },
      "execution_count": null,
      "outputs": [
        {
          "output_type": "error",
          "ename": "NameError",
          "evalue": "name 'classWeight' is not defined",
          "traceback": [
            "\u001b[0;31m---------------------------------------------------------------------------\u001b[0m",
            "\u001b[0;31mNameError\u001b[0m                                 Traceback (most recent call last)",
            "\u001b[0;32m<ipython-input-11-9b9ad2cf658b>\u001b[0m in \u001b[0;36m<cell line: 1>\u001b[0;34m()\u001b[0m\n\u001b[0;32m----> 1\u001b[0;31m \u001b[0mprint\u001b[0m\u001b[0;34m(\u001b[0m\u001b[0mclassWeight\u001b[0m\u001b[0;34m)\u001b[0m\u001b[0;34m\u001b[0m\u001b[0;34m\u001b[0m\u001b[0m\n\u001b[0m",
            "\u001b[0;31mNameError\u001b[0m: name 'classWeight' is not defined"
          ]
        }
      ]
    },
    {
      "cell_type": "markdown",
      "source": [
        "#Advanced Features (Mean, STD)"
      ],
      "metadata": {
        "id": "VrOoOL3I50et"
      }
    },
    {
      "cell_type": "code",
      "source": [
        "import pandas as pd\n",
        "import numpy as np\n",
        "from sklearn.preprocessing import MinMaxScaler\n",
        "\n",
        "# Load your dataset\n",
        "df = pd.read_csv(ts_path)\n",
        "\n",
        "# Define window size and overlap\n",
        "window_size = 10  # For example, 10 timesteps per window\n",
        "overlap = 5  # Overlap of 5 timesteps\n",
        "\n",
        "# Initialize lists to hold the processed data\n",
        "features = []\n",
        "labels = []\n",
        "\n",
        "# Loop through the dataset, creating windows with overlap\n",
        "for start in range(0, len(df) - window_size + 1, window_size - overlap):\n",
        "    window = df[start:start + window_size]\n",
        "    feature_set = {\n",
        "        'mean_accel_x': window['accel_x'].mean(),\n",
        "        'std_accel_x': window['accel_x'].std(),\n",
        "        'mean_accel_y': window['accel_y'].mean(),\n",
        "        'std_accel_y': window['accel_y'].std(),\n",
        "        'mean_accel_z': window['accel_z'].mean(),\n",
        "        'std_accel_z': window['accel_z'].std(),\n",
        "        'mean_gyro_x': window['gyro_x'].mean(),\n",
        "        'std_gyro_x': window['gyro_x'].std(),\n",
        "        'mean_gyro_y': window['gyro_y'].mean(),\n",
        "        'std_gyro_y': window['gyro_y'].std(),\n",
        "        'mean_gyro_z': window['gyro_z'].mean(),\n",
        "        'std_gyro_z': window['gyro_z'].std(),\n",
        "        # Repeat for other axes and sensors...\n",
        "    }\n",
        "    # Assuming the label is consistent within each window, take the label from the first timestep\n",
        "    label = window['label'].iloc[0]\n",
        "\n",
        "    features.append(feature_set)\n",
        "    labels.append(label)\n",
        "\n",
        "# Convert the lists to a DataFrame\n",
        "features_df = pd.DataFrame(features)\n",
        "labels_df = pd.DataFrame(labels, columns=['label'])\n",
        "\n",
        "# Normalize features\n",
        "scaler = MinMaxScaler()\n",
        "features_df = pd.DataFrame(scaler.fit_transform(features_df), columns=features_df.columns)\n",
        "\n",
        "# Concatenate features and labels to get the final dataset\n",
        "final_df = pd.concat([features_df, labels_df], axis=1)\n",
        "\n",
        "# Now you can export this DataFrame as a CSV or use it for training\n",
        "final_df.to_csv('processed_basketball_dataset.csv', index=False)\n"
      ],
      "metadata": {
        "id": "M_u9TnTc5f2x"
      },
      "execution_count": null,
      "outputs": []
    },
    {
      "cell_type": "markdown",
      "source": [
        "#-----\n"
      ],
      "metadata": {
        "id": "vbf8kjUxaRCU"
      }
    },
    {
      "cell_type": "code",
      "source": [
        "# features_array = np.asarray(features_df).reshape((features_df.shape[0], features_df.shape[1]))\n",
        "# labels_array = np.asarray(labels_df)\n",
        "\n",
        "X_train, X_test, y_train, y_test = train_test_split(X, y, test_size=0.5, random_state=42)"
      ],
      "metadata": {
        "id": "mukW9HnY7AMX"
      },
      "execution_count": null,
      "outputs": []
    },
    {
      "cell_type": "code",
      "source": [
        "df"
      ],
      "metadata": {
        "colab": {
          "base_uri": "https://localhost:8080/",
          "height": 424
        },
        "id": "RK42bxP69fVc",
        "outputId": "84f20d82-a21e-4b23-fc33-42b7d46262b7"
      },
      "execution_count": null,
      "outputs": [
        {
          "output_type": "execute_result",
          "data": {
            "text/plain": [
              "        accel_z   accel_y   accel_x    gyro_z    gyro_y    gyro_x  label\n",
              "0      0.410254  0.448943  0.250589  0.557424  0.692806  0.440455      2\n",
              "1      0.425079  0.448948  0.280502  0.562921  0.653068  0.455157      2\n",
              "2      0.443097  0.448432  0.298682  0.598937  0.603266  0.471500      2\n",
              "3      0.445618  0.450866  0.297514  0.622695  0.576080  0.482527      2\n",
              "4      0.434686  0.454309  0.285559  0.648474  0.585630  0.481961      2\n",
              "...         ...       ...       ...       ...       ...       ...    ...\n",
              "63012  0.452430  0.435585  0.269097  0.546524  0.566008  0.450259      0\n",
              "63013  0.449745  0.443472  0.270750  0.550695  0.563210  0.451672      0\n",
              "63014  0.446902  0.453985  0.271194  0.554739  0.560771  0.450994      0\n",
              "63015  0.446125  0.449307  0.270499  0.554043  0.559847  0.448788      0\n",
              "63016  0.445817  0.440277  0.269582  0.549873  0.559179  0.445791      0\n",
              "\n",
              "[63017 rows x 7 columns]"
            ],
            "text/html": [
              "\n",
              "  <div id=\"df-8ebbf798-de69-45a2-b6f1-65e3dd84a89d\" class=\"colab-df-container\">\n",
              "    <div>\n",
              "<style scoped>\n",
              "    .dataframe tbody tr th:only-of-type {\n",
              "        vertical-align: middle;\n",
              "    }\n",
              "\n",
              "    .dataframe tbody tr th {\n",
              "        vertical-align: top;\n",
              "    }\n",
              "\n",
              "    .dataframe thead th {\n",
              "        text-align: right;\n",
              "    }\n",
              "</style>\n",
              "<table border=\"1\" class=\"dataframe\">\n",
              "  <thead>\n",
              "    <tr style=\"text-align: right;\">\n",
              "      <th></th>\n",
              "      <th>accel_z</th>\n",
              "      <th>accel_y</th>\n",
              "      <th>accel_x</th>\n",
              "      <th>gyro_z</th>\n",
              "      <th>gyro_y</th>\n",
              "      <th>gyro_x</th>\n",
              "      <th>label</th>\n",
              "    </tr>\n",
              "  </thead>\n",
              "  <tbody>\n",
              "    <tr>\n",
              "      <th>0</th>\n",
              "      <td>0.410254</td>\n",
              "      <td>0.448943</td>\n",
              "      <td>0.250589</td>\n",
              "      <td>0.557424</td>\n",
              "      <td>0.692806</td>\n",
              "      <td>0.440455</td>\n",
              "      <td>2</td>\n",
              "    </tr>\n",
              "    <tr>\n",
              "      <th>1</th>\n",
              "      <td>0.425079</td>\n",
              "      <td>0.448948</td>\n",
              "      <td>0.280502</td>\n",
              "      <td>0.562921</td>\n",
              "      <td>0.653068</td>\n",
              "      <td>0.455157</td>\n",
              "      <td>2</td>\n",
              "    </tr>\n",
              "    <tr>\n",
              "      <th>2</th>\n",
              "      <td>0.443097</td>\n",
              "      <td>0.448432</td>\n",
              "      <td>0.298682</td>\n",
              "      <td>0.598937</td>\n",
              "      <td>0.603266</td>\n",
              "      <td>0.471500</td>\n",
              "      <td>2</td>\n",
              "    </tr>\n",
              "    <tr>\n",
              "      <th>3</th>\n",
              "      <td>0.445618</td>\n",
              "      <td>0.450866</td>\n",
              "      <td>0.297514</td>\n",
              "      <td>0.622695</td>\n",
              "      <td>0.576080</td>\n",
              "      <td>0.482527</td>\n",
              "      <td>2</td>\n",
              "    </tr>\n",
              "    <tr>\n",
              "      <th>4</th>\n",
              "      <td>0.434686</td>\n",
              "      <td>0.454309</td>\n",
              "      <td>0.285559</td>\n",
              "      <td>0.648474</td>\n",
              "      <td>0.585630</td>\n",
              "      <td>0.481961</td>\n",
              "      <td>2</td>\n",
              "    </tr>\n",
              "    <tr>\n",
              "      <th>...</th>\n",
              "      <td>...</td>\n",
              "      <td>...</td>\n",
              "      <td>...</td>\n",
              "      <td>...</td>\n",
              "      <td>...</td>\n",
              "      <td>...</td>\n",
              "      <td>...</td>\n",
              "    </tr>\n",
              "    <tr>\n",
              "      <th>63012</th>\n",
              "      <td>0.452430</td>\n",
              "      <td>0.435585</td>\n",
              "      <td>0.269097</td>\n",
              "      <td>0.546524</td>\n",
              "      <td>0.566008</td>\n",
              "      <td>0.450259</td>\n",
              "      <td>0</td>\n",
              "    </tr>\n",
              "    <tr>\n",
              "      <th>63013</th>\n",
              "      <td>0.449745</td>\n",
              "      <td>0.443472</td>\n",
              "      <td>0.270750</td>\n",
              "      <td>0.550695</td>\n",
              "      <td>0.563210</td>\n",
              "      <td>0.451672</td>\n",
              "      <td>0</td>\n",
              "    </tr>\n",
              "    <tr>\n",
              "      <th>63014</th>\n",
              "      <td>0.446902</td>\n",
              "      <td>0.453985</td>\n",
              "      <td>0.271194</td>\n",
              "      <td>0.554739</td>\n",
              "      <td>0.560771</td>\n",
              "      <td>0.450994</td>\n",
              "      <td>0</td>\n",
              "    </tr>\n",
              "    <tr>\n",
              "      <th>63015</th>\n",
              "      <td>0.446125</td>\n",
              "      <td>0.449307</td>\n",
              "      <td>0.270499</td>\n",
              "      <td>0.554043</td>\n",
              "      <td>0.559847</td>\n",
              "      <td>0.448788</td>\n",
              "      <td>0</td>\n",
              "    </tr>\n",
              "    <tr>\n",
              "      <th>63016</th>\n",
              "      <td>0.445817</td>\n",
              "      <td>0.440277</td>\n",
              "      <td>0.269582</td>\n",
              "      <td>0.549873</td>\n",
              "      <td>0.559179</td>\n",
              "      <td>0.445791</td>\n",
              "      <td>0</td>\n",
              "    </tr>\n",
              "  </tbody>\n",
              "</table>\n",
              "<p>63017 rows × 7 columns</p>\n",
              "</div>\n",
              "    <div class=\"colab-df-buttons\">\n",
              "\n",
              "  <div class=\"colab-df-container\">\n",
              "    <button class=\"colab-df-convert\" onclick=\"convertToInteractive('df-8ebbf798-de69-45a2-b6f1-65e3dd84a89d')\"\n",
              "            title=\"Convert this dataframe to an interactive table.\"\n",
              "            style=\"display:none;\">\n",
              "\n",
              "  <svg xmlns=\"http://www.w3.org/2000/svg\" height=\"24px\" viewBox=\"0 -960 960 960\">\n",
              "    <path d=\"M120-120v-720h720v720H120Zm60-500h600v-160H180v160Zm220 220h160v-160H400v160Zm0 220h160v-160H400v160ZM180-400h160v-160H180v160Zm440 0h160v-160H620v160ZM180-180h160v-160H180v160Zm440 0h160v-160H620v160Z\"/>\n",
              "  </svg>\n",
              "    </button>\n",
              "\n",
              "  <style>\n",
              "    .colab-df-container {\n",
              "      display:flex;\n",
              "      gap: 12px;\n",
              "    }\n",
              "\n",
              "    .colab-df-convert {\n",
              "      background-color: #E8F0FE;\n",
              "      border: none;\n",
              "      border-radius: 50%;\n",
              "      cursor: pointer;\n",
              "      display: none;\n",
              "      fill: #1967D2;\n",
              "      height: 32px;\n",
              "      padding: 0 0 0 0;\n",
              "      width: 32px;\n",
              "    }\n",
              "\n",
              "    .colab-df-convert:hover {\n",
              "      background-color: #E2EBFA;\n",
              "      box-shadow: 0px 1px 2px rgba(60, 64, 67, 0.3), 0px 1px 3px 1px rgba(60, 64, 67, 0.15);\n",
              "      fill: #174EA6;\n",
              "    }\n",
              "\n",
              "    .colab-df-buttons div {\n",
              "      margin-bottom: 4px;\n",
              "    }\n",
              "\n",
              "    [theme=dark] .colab-df-convert {\n",
              "      background-color: #3B4455;\n",
              "      fill: #D2E3FC;\n",
              "    }\n",
              "\n",
              "    [theme=dark] .colab-df-convert:hover {\n",
              "      background-color: #434B5C;\n",
              "      box-shadow: 0px 1px 3px 1px rgba(0, 0, 0, 0.15);\n",
              "      filter: drop-shadow(0px 1px 2px rgba(0, 0, 0, 0.3));\n",
              "      fill: #FFFFFF;\n",
              "    }\n",
              "  </style>\n",
              "\n",
              "    <script>\n",
              "      const buttonEl =\n",
              "        document.querySelector('#df-8ebbf798-de69-45a2-b6f1-65e3dd84a89d button.colab-df-convert');\n",
              "      buttonEl.style.display =\n",
              "        google.colab.kernel.accessAllowed ? 'block' : 'none';\n",
              "\n",
              "      async function convertToInteractive(key) {\n",
              "        const element = document.querySelector('#df-8ebbf798-de69-45a2-b6f1-65e3dd84a89d');\n",
              "        const dataTable =\n",
              "          await google.colab.kernel.invokeFunction('convertToInteractive',\n",
              "                                                    [key], {});\n",
              "        if (!dataTable) return;\n",
              "\n",
              "        const docLinkHtml = 'Like what you see? Visit the ' +\n",
              "          '<a target=\"_blank\" href=https://colab.research.google.com/notebooks/data_table.ipynb>data table notebook</a>'\n",
              "          + ' to learn more about interactive tables.';\n",
              "        element.innerHTML = '';\n",
              "        dataTable['output_type'] = 'display_data';\n",
              "        await google.colab.output.renderOutput(dataTable, element);\n",
              "        const docLink = document.createElement('div');\n",
              "        docLink.innerHTML = docLinkHtml;\n",
              "        element.appendChild(docLink);\n",
              "      }\n",
              "    </script>\n",
              "  </div>\n",
              "\n",
              "\n",
              "<div id=\"df-3e46dbe6-8b4c-4259-b3e7-1ea803f8085f\">\n",
              "  <button class=\"colab-df-quickchart\" onclick=\"quickchart('df-3e46dbe6-8b4c-4259-b3e7-1ea803f8085f')\"\n",
              "            title=\"Suggest charts\"\n",
              "            style=\"display:none;\">\n",
              "\n",
              "<svg xmlns=\"http://www.w3.org/2000/svg\" height=\"24px\"viewBox=\"0 0 24 24\"\n",
              "     width=\"24px\">\n",
              "    <g>\n",
              "        <path d=\"M19 3H5c-1.1 0-2 .9-2 2v14c0 1.1.9 2 2 2h14c1.1 0 2-.9 2-2V5c0-1.1-.9-2-2-2zM9 17H7v-7h2v7zm4 0h-2V7h2v10zm4 0h-2v-4h2v4z\"/>\n",
              "    </g>\n",
              "</svg>\n",
              "  </button>\n",
              "\n",
              "<style>\n",
              "  .colab-df-quickchart {\n",
              "      --bg-color: #E8F0FE;\n",
              "      --fill-color: #1967D2;\n",
              "      --hover-bg-color: #E2EBFA;\n",
              "      --hover-fill-color: #174EA6;\n",
              "      --disabled-fill-color: #AAA;\n",
              "      --disabled-bg-color: #DDD;\n",
              "  }\n",
              "\n",
              "  [theme=dark] .colab-df-quickchart {\n",
              "      --bg-color: #3B4455;\n",
              "      --fill-color: #D2E3FC;\n",
              "      --hover-bg-color: #434B5C;\n",
              "      --hover-fill-color: #FFFFFF;\n",
              "      --disabled-bg-color: #3B4455;\n",
              "      --disabled-fill-color: #666;\n",
              "  }\n",
              "\n",
              "  .colab-df-quickchart {\n",
              "    background-color: var(--bg-color);\n",
              "    border: none;\n",
              "    border-radius: 50%;\n",
              "    cursor: pointer;\n",
              "    display: none;\n",
              "    fill: var(--fill-color);\n",
              "    height: 32px;\n",
              "    padding: 0;\n",
              "    width: 32px;\n",
              "  }\n",
              "\n",
              "  .colab-df-quickchart:hover {\n",
              "    background-color: var(--hover-bg-color);\n",
              "    box-shadow: 0 1px 2px rgba(60, 64, 67, 0.3), 0 1px 3px 1px rgba(60, 64, 67, 0.15);\n",
              "    fill: var(--button-hover-fill-color);\n",
              "  }\n",
              "\n",
              "  .colab-df-quickchart-complete:disabled,\n",
              "  .colab-df-quickchart-complete:disabled:hover {\n",
              "    background-color: var(--disabled-bg-color);\n",
              "    fill: var(--disabled-fill-color);\n",
              "    box-shadow: none;\n",
              "  }\n",
              "\n",
              "  .colab-df-spinner {\n",
              "    border: 2px solid var(--fill-color);\n",
              "    border-color: transparent;\n",
              "    border-bottom-color: var(--fill-color);\n",
              "    animation:\n",
              "      spin 1s steps(1) infinite;\n",
              "  }\n",
              "\n",
              "  @keyframes spin {\n",
              "    0% {\n",
              "      border-color: transparent;\n",
              "      border-bottom-color: var(--fill-color);\n",
              "      border-left-color: var(--fill-color);\n",
              "    }\n",
              "    20% {\n",
              "      border-color: transparent;\n",
              "      border-left-color: var(--fill-color);\n",
              "      border-top-color: var(--fill-color);\n",
              "    }\n",
              "    30% {\n",
              "      border-color: transparent;\n",
              "      border-left-color: var(--fill-color);\n",
              "      border-top-color: var(--fill-color);\n",
              "      border-right-color: var(--fill-color);\n",
              "    }\n",
              "    40% {\n",
              "      border-color: transparent;\n",
              "      border-right-color: var(--fill-color);\n",
              "      border-top-color: var(--fill-color);\n",
              "    }\n",
              "    60% {\n",
              "      border-color: transparent;\n",
              "      border-right-color: var(--fill-color);\n",
              "    }\n",
              "    80% {\n",
              "      border-color: transparent;\n",
              "      border-right-color: var(--fill-color);\n",
              "      border-bottom-color: var(--fill-color);\n",
              "    }\n",
              "    90% {\n",
              "      border-color: transparent;\n",
              "      border-bottom-color: var(--fill-color);\n",
              "    }\n",
              "  }\n",
              "</style>\n",
              "\n",
              "  <script>\n",
              "    async function quickchart(key) {\n",
              "      const quickchartButtonEl =\n",
              "        document.querySelector('#' + key + ' button');\n",
              "      quickchartButtonEl.disabled = true;  // To prevent multiple clicks.\n",
              "      quickchartButtonEl.classList.add('colab-df-spinner');\n",
              "      try {\n",
              "        const charts = await google.colab.kernel.invokeFunction(\n",
              "            'suggestCharts', [key], {});\n",
              "      } catch (error) {\n",
              "        console.error('Error during call to suggestCharts:', error);\n",
              "      }\n",
              "      quickchartButtonEl.classList.remove('colab-df-spinner');\n",
              "      quickchartButtonEl.classList.add('colab-df-quickchart-complete');\n",
              "    }\n",
              "    (() => {\n",
              "      let quickchartButtonEl =\n",
              "        document.querySelector('#df-3e46dbe6-8b4c-4259-b3e7-1ea803f8085f button');\n",
              "      quickchartButtonEl.style.display =\n",
              "        google.colab.kernel.accessAllowed ? 'block' : 'none';\n",
              "    })();\n",
              "  </script>\n",
              "</div>\n",
              "    </div>\n",
              "  </div>\n"
            ],
            "application/vnd.google.colaboratory.intrinsic+json": {
              "type": "dataframe",
              "variable_name": "df",
              "summary": "{\n  \"name\": \"df\",\n  \"rows\": 63017,\n  \"fields\": [\n    {\n      \"column\": \"accel_z\",\n      \"properties\": {\n        \"dtype\": \"number\",\n        \"std\": 0.04833071140179785,\n        \"min\": 0.0,\n        \"max\": 1.0,\n        \"num_unique_values\": 62971,\n        \"samples\": [\n          0.453993793750451,\n          0.43069766814606336,\n          0.4105140957638738\n        ],\n        \"semantic_type\": \"\",\n        \"description\": \"\"\n      }\n    },\n    {\n      \"column\": \"accel_y\",\n      \"properties\": {\n        \"dtype\": \"number\",\n        \"std\": 0.06230600366974282,\n        \"min\": 0.0,\n        \"max\": 1.0,\n        \"num_unique_values\": 62887,\n        \"samples\": [\n          0.49662279613415455,\n          0.48412121502607747,\n          0.40866797926847154\n        ],\n        \"semantic_type\": \"\",\n        \"description\": \"\"\n      }\n    },\n    {\n      \"column\": \"accel_x\",\n      \"properties\": {\n        \"dtype\": \"number\",\n        \"std\": 0.060825681399269305,\n        \"min\": 0.0,\n        \"max\": 1.0,\n        \"num_unique_values\": 62980,\n        \"samples\": [\n          0.24710307558364586,\n          0.31311031454569693,\n          0.25713272137733606\n        ],\n        \"semantic_type\": \"\",\n        \"description\": \"\"\n      }\n    },\n    {\n      \"column\": \"gyro_z\",\n      \"properties\": {\n        \"dtype\": \"number\",\n        \"std\": 0.12509486983396312,\n        \"min\": 0.0,\n        \"max\": 1.0,\n        \"num_unique_values\": 22319,\n        \"samples\": [\n          0.9125905205814762,\n          0.12693998744945018,\n          0.6792774595311847\n        ],\n        \"semantic_type\": \"\",\n        \"description\": \"\"\n      }\n    },\n    {\n      \"column\": \"gyro_y\",\n      \"properties\": {\n        \"dtype\": \"number\",\n        \"std\": 0.1058960257967488,\n        \"min\": 0.0,\n        \"max\": 1.0,\n        \"num_unique_values\": 26700,\n        \"samples\": [\n          0.6869947938320793,\n          0.5598821601741459,\n          0.6952447829511628\n        ],\n        \"semantic_type\": \"\",\n        \"description\": \"\"\n      }\n    },\n    {\n      \"column\": \"gyro_x\",\n      \"properties\": {\n        \"dtype\": \"number\",\n        \"std\": 0.13347399944373187,\n        \"min\": 0.0,\n        \"max\": 1.0,\n        \"num_unique_values\": 24426,\n        \"samples\": [\n          0.4174041604010069,\n          0.8784777253120353,\n          0.26045436923082765\n        ],\n        \"semantic_type\": \"\",\n        \"description\": \"\"\n      }\n    },\n    {\n      \"column\": \"label\",\n      \"properties\": {\n        \"dtype\": \"number\",\n        \"std\": 0,\n        \"min\": 0,\n        \"max\": 2,\n        \"num_unique_values\": 3,\n        \"samples\": [\n          2,\n          1,\n          0\n        ],\n        \"semantic_type\": \"\",\n        \"description\": \"\"\n      }\n    }\n  ]\n}"
            }
          },
          "metadata": {},
          "execution_count": 83
        }
      ]
    },
    {
      "cell_type": "code",
      "source": [
        "print(y.shape)"
      ],
      "metadata": {
        "colab": {
          "base_uri": "https://localhost:8080/"
        },
        "id": "eU_s4OXLElmi",
        "outputId": "eb0fff60-e87a-414f-ea95-feecc28ecf7c"
      },
      "execution_count": null,
      "outputs": [
        {
          "output_type": "stream",
          "name": "stdout",
          "text": [
            "(4386,)\n"
          ]
        }
      ]
    },
    {
      "cell_type": "code",
      "source": [],
      "metadata": {
        "id": "3grp9xg41NtF"
      },
      "execution_count": null,
      "outputs": []
    },
    {
      "cell_type": "code",
      "source": [
        "from collections import Counter\n",
        "label_counts = Counter(y)\n",
        "\n",
        "print(\"Label counts:\")\n",
        "for label, count in label_counts.items():\n",
        "  print(f\"{label}: {count}\")"
      ],
      "metadata": {
        "colab": {
          "base_uri": "https://localhost:8080/"
        },
        "id": "wFDyPjyudHhq",
        "outputId": "33689eb1-d41e-4861-e088-17b49dfcff49"
      },
      "execution_count": null,
      "outputs": [
        {
          "output_type": "stream",
          "name": "stdout",
          "text": [
            "Label counts:\n",
            "2: 1416\n",
            "1: 2804\n",
            "0: 1818\n"
          ]
        }
      ]
    },
    {
      "cell_type": "code",
      "source": [
        "y_train\n"
      ],
      "metadata": {
        "id": "kszKxUgFKS9y",
        "colab": {
          "base_uri": "https://localhost:8080/"
        },
        "outputId": "b6d08acb-f893-44a9-f44c-f3ae7def48d5"
      },
      "execution_count": null,
      "outputs": [
        {
          "output_type": "execute_result",
          "data": {
            "text/plain": [
              "array([2, 1, 0, ..., 0, 0, 0])"
            ]
          },
          "metadata": {},
          "execution_count": 59
        }
      ]
    },
    {
      "cell_type": "code",
      "source": [
        "from sklearn.preprocessing import LabelEncoder, OneHotEncoder\n",
        "label_encoder = LabelEncoder()\n",
        "y_train_encoded = label_encoder.fit_transform(y_train)\n",
        "y_test_encoded = label_encoder.transform(y_test)\n",
        "# Now use to_categorical to convert the integer labels to one-hot encoding"
      ],
      "metadata": {
        "id": "VIS08xKY83fu"
      },
      "execution_count": null,
      "outputs": []
    },
    {
      "cell_type": "code",
      "source": [
        "\n",
        "from tensorflow.keras.utils import to_categorical\n",
        "y_train_categorical = to_categorical(y_train_encoded, num_classes=3)\n",
        "y_test_categorical = to_categorical(y_test_encoded, num_classes=3)"
      ],
      "metadata": {
        "id": "4MwSybc1yU1_"
      },
      "execution_count": null,
      "outputs": []
    },
    {
      "cell_type": "code",
      "source": [
        "print(y_train_categorical)"
      ],
      "metadata": {
        "id": "Yar318GFrcxd",
        "colab": {
          "base_uri": "https://localhost:8080/"
        },
        "outputId": "f2db809c-3d91-4abc-facc-041d75df49f7"
      },
      "execution_count": null,
      "outputs": [
        {
          "output_type": "stream",
          "name": "stdout",
          "text": [
            "[[0. 0. 1.]\n",
            " [0. 0. 1.]\n",
            " [0. 1. 0.]\n",
            " ...\n",
            " [1. 0. 0.]\n",
            " [1. 0. 0.]\n",
            " [0. 0. 1.]]\n"
          ]
        }
      ]
    },
    {
      "cell_type": "code",
      "source": [
        "print(X_train.shape)\n",
        "print(X_test.shape)\n",
        "print(y_train.shape)\n",
        "print(y_test.shape)"
      ],
      "metadata": {
        "id": "a5aX-qvXdMKd",
        "colab": {
          "base_uri": "https://localhost:8080/"
        },
        "outputId": "de58a9de-e97b-40cc-986c-6ce054838f66"
      },
      "execution_count": null,
      "outputs": [
        {
          "output_type": "stream",
          "name": "stdout",
          "text": [
            "(1863, 50, 6)\n",
            "(466, 50, 6)\n",
            "(1863,)\n",
            "(466,)\n"
          ]
        }
      ]
    },
    {
      "cell_type": "code",
      "source": [
        "print(y_train)"
      ],
      "metadata": {
        "id": "CdlhK6pYCBoY",
        "colab": {
          "base_uri": "https://localhost:8080/"
        },
        "outputId": "968c84c4-e4a6-4f82-b22a-bba9b950600e"
      },
      "execution_count": null,
      "outputs": [
        {
          "output_type": "stream",
          "name": "stdout",
          "text": [
            "[2 0 2 ... 2 2 1]\n"
          ]
        }
      ]
    },
    {
      "cell_type": "code",
      "source": [
        "print(label_encoder.classes_)"
      ],
      "metadata": {
        "id": "ukgddUCQaO_R",
        "colab": {
          "base_uri": "https://localhost:8080/"
        },
        "outputId": "e9eafdce-ebc3-4500-df96-96139228e297"
      },
      "execution_count": null,
      "outputs": [
        {
          "output_type": "stream",
          "name": "stdout",
          "text": [
            "[0 1 2]\n"
          ]
        }
      ]
    },
    {
      "cell_type": "code",
      "source": [
        "!pip install keras-tuner"
      ],
      "metadata": {
        "id": "ynoXwQBQHHXs",
        "colab": {
          "base_uri": "https://localhost:8080/"
        },
        "outputId": "3edc2ad9-2101-44b3-8cad-50dd34d4cbdf"
      },
      "execution_count": null,
      "outputs": [
        {
          "output_type": "stream",
          "name": "stdout",
          "text": [
            "Requirement already satisfied: keras-tuner in /usr/local/lib/python3.10/dist-packages (1.4.7)\n",
            "Requirement already satisfied: keras in /usr/local/lib/python3.10/dist-packages (from keras-tuner) (2.15.0)\n",
            "Requirement already satisfied: packaging in /usr/local/lib/python3.10/dist-packages (from keras-tuner) (24.0)\n",
            "Requirement already satisfied: requests in /usr/local/lib/python3.10/dist-packages (from keras-tuner) (2.31.0)\n",
            "Requirement already satisfied: kt-legacy in /usr/local/lib/python3.10/dist-packages (from keras-tuner) (1.0.5)\n",
            "Requirement already satisfied: charset-normalizer<4,>=2 in /usr/local/lib/python3.10/dist-packages (from requests->keras-tuner) (3.3.2)\n",
            "Requirement already satisfied: idna<4,>=2.5 in /usr/local/lib/python3.10/dist-packages (from requests->keras-tuner) (3.7)\n",
            "Requirement already satisfied: urllib3<3,>=1.21.1 in /usr/local/lib/python3.10/dist-packages (from requests->keras-tuner) (2.0.7)\n",
            "Requirement already satisfied: certifi>=2017.4.17 in /usr/local/lib/python3.10/dist-packages (from requests->keras-tuner) (2024.2.2)\n"
          ]
        }
      ]
    },
    {
      "cell_type": "code",
      "source": [
        "import numpy as np  # Assuming you are using NumPy\n",
        "import tensorflow as tf\n",
        "from tensorflow.keras.layers import LSTM, Dense\n",
        "import keras_tuner as kt\n",
        "from tensorflow.keras.layers import Flatten, Dropout"
      ],
      "metadata": {
        "id": "jK7Ks9Fss67I"
      },
      "execution_count": null,
      "outputs": []
    },
    {
      "cell_type": "code",
      "source": [
        "\n",
        "def build_model(hp):\n",
        "  model = tf.keras.Sequential([\n",
        "      LSTM(units=hp.Int('units', min_value=8, max_value=160, step=8), return_sequences=True,\n",
        "                          kernel_regularizer=tf.keras.regularizers.l2(0.01), activation = 'tanh',  # L2 example\n",
        "                          input_shape=(50,6)),\n",
        "      #LSTM(units=hp.Int('units2', min_value=8, max_value=160, step=8), return_sequences=True,\n",
        "                    #kernel_regularizer=tf.keras.regularizers.l2(0.01), activation = 'tanh'),  # L2 example\n",
        "\n",
        "      Dropout(hp.Float('dropout_rate', min_value=0.0, max_value=0.5, step=0.1)),  # Dropout example\n",
        "      Flatten(),\n",
        "      Dense(3, activation='softmax')\n",
        "  ])\n",
        "\n",
        "  optimizer = tf.keras.optimizers.Adam(learning_rate=0.001)\n",
        "  model.compile(optimizer=optimizer, loss='categorical_crossentropy', metrics=['accuracy'])\n",
        "\n",
        "  return model\n",
        "\n",
        "\n"
      ],
      "metadata": {
        "id": "Iy3D4rW1iSAU"
      },
      "execution_count": null,
      "outputs": []
    },
    {
      "cell_type": "code",
      "source": [
        "from sklearn.utils.class_weight import compute_class_weight\n",
        "classWeight = compute_class_weight(class_weight=\"balanced\", classes=np.unique(y_train_encoded), y=y_train_encoded)\n",
        "classWeight = dict(enumerate(classWeight))"
      ],
      "metadata": {
        "id": "DlK8jCkjSF14"
      },
      "execution_count": null,
      "outputs": []
    },
    {
      "cell_type": "code",
      "source": [
        "print(classWeight)"
      ],
      "metadata": {
        "colab": {
          "base_uri": "https://localhost:8080/"
        },
        "id": "TDwIRkwsbF6O",
        "outputId": "e1716d12-a8a6-4158-b9fd-cf733bdb79a9"
      },
      "execution_count": null,
      "outputs": [
        {
          "output_type": "stream",
          "name": "stdout",
          "text": [
            "{0: 1.0975254730713246, 1: 0.7059925093632958, 2: 1.4871794871794872}\n"
          ]
        }
      ]
    },
    {
      "cell_type": "markdown",
      "source": [
        "LSTM"
      ],
      "metadata": {
        "id": "cffmThe5N3jJ"
      }
    },
    {
      "cell_type": "code",
      "source": [
        "model = tf.keras.Sequential([\n",
        "    LSTM(units=128, return_sequences=True,\n",
        "                        kernel_regularizer=tf.keras.regularizers.l2(0.02), activation = 'tanh',\n",
        "                        input_shape=(50,9)),\n",
        "    LSTM(units=128, return_sequences=False,\n",
        "                  kernel_regularizer=tf.keras.regularizers.l2(0.02), activation = 'tanh'),\n",
        "\n",
        "    Dropout(0.2),\n",
        "    Flatten(),\n",
        "    Dense(3, activation='softmax')\n",
        "])\n",
        "\n",
        "optimizer = tf.keras.optimizers.Adam(0.001)\n",
        "model.compile(optimizer=optimizer, loss='categorical_crossentropy', metrics=['accuracy'])"
      ],
      "metadata": {
        "id": "jHqX8FrQHTMC"
      },
      "execution_count": null,
      "outputs": []
    },
    {
      "cell_type": "code",
      "source": [
        "from tensorflow.keras.models import Sequential\n",
        "from tensorflow.keras.layers import Conv1D,Conv2D, MaxPooling1D, LSTM, Dense, Flatten, TimeDistributed"
      ],
      "metadata": {
        "id": "q1cPR0T3J3z1"
      },
      "execution_count": null,
      "outputs": []
    },
    {
      "cell_type": "markdown",
      "source": [
        "##CNN Implementation with LSTM\n"
      ],
      "metadata": {
        "id": "3yprUFrON037"
      }
    },
    {
      "cell_type": "code",
      "source": [
        "import tensorflow as tf\n",
        "from tensorflow.keras.models import Sequential\n",
        "from tensorflow.keras.layers import Conv1D, MaxPooling1D, LSTM, Flatten, Dense, Dropout, BatchNormalization\n",
        "from keras_tuner import RandomSearch\n",
        "def build_model(hp):\n",
        "  model = Sequential()\n",
        "  # Input layer\n",
        "  model.add(Conv1D(filters=hp.Int('filters', min_value=32, max_value=128, step=32), kernel_size=3, activation='tanh', input_shape=(25, 6), padding='same'))\n",
        "  model.add(BatchNormalization())\n",
        "  model.add(MaxPooling1D(pool_size=2))\n",
        "  model.add(Dropout(hp.Float('dp1', min_value=0.1, max_value=0.5, step=0.1)))\n",
        "\n",
        "  # Additional Conv1D layer\n",
        "  model.add(Conv1D(filters=hp.Int('filters2', min_value=32, max_value=128, step=32), kernel_size=3, activation='tanh', padding='same'))\n",
        "  model.add(BatchNormalization())\n",
        "  model.add(MaxPooling1D(pool_size=2))\n",
        "  model.add(Dropout(hp.Float('dp2', min_value=0.1, max_value=0.5, step=0.1)))\n",
        "\n",
        "  # LSTM layer block\n",
        "  model.add(LSTM(hp.Int('filters2', min_value=20, max_value=100, step=200), return_sequences=True))\n",
        "  # model.add(BatchNormalization())\n",
        "  model.add(Dropout(hp.Float('dp3', min_value=0.1, max_value=0.5, step=0.1)))\n",
        "\n",
        "  model.add(LSTM(hp.Int('filters3', min_value=10, max_value=50, step=10), return_sequences=False))\n",
        "  # model.add(BatchNormalization())\n",
        "  model.add(Dropout(hp.Float('dp4', min_value=0.1, max_value=0.5, step=0.1)))\n",
        "\n",
        "  # Flatten to feed into a dense layer\n",
        "  model.add(Flatten())\n",
        "\n",
        "  # Fully connected layers\n",
        "  model.add(Dense(100, activation='relu'))\n",
        "  # model.add(BatchNormalization())\n",
        "  # model.add(Dropout(0.3))\n",
        "\n",
        "  # Output layer\n",
        "  model.add(Dense(3, activation='softmax'))\n",
        "  model.compile(optimizer='adam', loss='categorical_crossentropy', metrics=['accuracy'])\n",
        "  return model\n"
      ],
      "metadata": {
        "id": "a1pOtGlsN0bf"
      },
      "execution_count": null,
      "outputs": []
    },
    {
      "cell_type": "markdown",
      "source": [
        "##RCNN-LSTM Implementation"
      ],
      "metadata": {
        "id": "N5YjUiB7JuO7"
      }
    },
    {
      "cell_type": "code",
      "source": [
        "\n",
        "model = Sequential()\n",
        "model.add(TimeDistributed(Conv2D(64, kernel_size=(3,3), activation='relu'), input_shape=(None, 10, 10, 3)))  # None for variable number of frames per video clip\n",
        "model.add(TimeDistributed(Flatten()))\n",
        "model.add(LSTM(64, return_sequences=False))\n",
        "model.add(Dense(100, activation='relu'))\n",
        "model.add(Dense(3, activation='softmax'))\n",
        "\n",
        "model.compile(optimizer='adam', loss='categorical_crossentropy', metrics=['accuracy'])\n"
      ],
      "metadata": {
        "id": "ti6NhGuHJt8N"
      },
      "execution_count": null,
      "outputs": []
    },
    {
      "cell_type": "markdown",
      "source": [
        "##Fitting / Training"
      ],
      "metadata": {
        "id": "MDyq7d0r3_OU"
      }
    },
    {
      "cell_type": "code",
      "source": [
        "tuner = kt.Hyperband(build_model,  # Use Hyperband for efficient tuning\n",
        "                     objective='val_accuracy',\n",
        "                     max_epochs=10,\n",
        "                     directory='my_tuning_dir',\n",
        "                     overwrite=True)\n",
        "\n",
        "tuner.search(X_train, y_train_categorical, validation_data=(X_test, y_test_categorical))\n",
        "\n",
        "best_model = tuner.get_best_models()[0]"
      ],
      "metadata": {
        "colab": {
          "base_uri": "https://localhost:8080/",
          "height": 738
        },
        "id": "OWsielkVMaNe",
        "outputId": "bfee7f55-146a-4564-b207-063fa9b2e30b"
      },
      "execution_count": null,
      "outputs": [
        {
          "output_type": "stream",
          "name": "stdout",
          "text": [
            "Trial 19 Complete [00h 00m 14s]\n",
            "val_accuracy: 0.7684663534164429\n",
            "\n",
            "Best val_accuracy So Far: 0.9364027976989746\n",
            "Total elapsed time: 00h 04m 37s\n",
            "\n",
            "Search: Running Trial #20\n",
            "\n",
            "Value             |Best Value So Far |Hyperparameter\n",
            "128               |96                |filters\n",
            "0.4               |0.4               |dp1\n",
            "128               |128               |filters2\n",
            "0.2               |0.2               |dp2\n",
            "0.1               |0.3               |dp3\n",
            "10                |20                |filters3\n",
            "0.3               |0.4               |dp4\n",
            "4                 |10                |tuner/epochs\n",
            "0                 |4                 |tuner/initial_epoch\n",
            "1                 |2                 |tuner/bracket\n",
            "0                 |2                 |tuner/round\n",
            "\n",
            "Epoch 1/4\n"
          ]
        },
        {
          "output_type": "error",
          "ename": "KeyboardInterrupt",
          "evalue": "",
          "traceback": [
            "\u001b[0;31m---------------------------------------------------------------------------\u001b[0m",
            "\u001b[0;31mKeyboardInterrupt\u001b[0m                         Traceback (most recent call last)",
            "\u001b[0;32m<ipython-input-35-c8ecd9bee489>\u001b[0m in \u001b[0;36m<cell line: 7>\u001b[0;34m()\u001b[0m\n\u001b[1;32m      5\u001b[0m                      overwrite=True)\n\u001b[1;32m      6\u001b[0m \u001b[0;34m\u001b[0m\u001b[0m\n\u001b[0;32m----> 7\u001b[0;31m \u001b[0mtuner\u001b[0m\u001b[0;34m.\u001b[0m\u001b[0msearch\u001b[0m\u001b[0;34m(\u001b[0m\u001b[0mX_train\u001b[0m\u001b[0;34m,\u001b[0m \u001b[0my_train_categorical\u001b[0m\u001b[0;34m,\u001b[0m \u001b[0mvalidation_data\u001b[0m\u001b[0;34m=\u001b[0m\u001b[0;34m(\u001b[0m\u001b[0mX_test\u001b[0m\u001b[0;34m,\u001b[0m \u001b[0my_test_categorical\u001b[0m\u001b[0;34m)\u001b[0m\u001b[0;34m)\u001b[0m\u001b[0;34m\u001b[0m\u001b[0;34m\u001b[0m\u001b[0m\n\u001b[0m\u001b[1;32m      8\u001b[0m \u001b[0;34m\u001b[0m\u001b[0m\n\u001b[1;32m      9\u001b[0m \u001b[0mbest_model\u001b[0m \u001b[0;34m=\u001b[0m \u001b[0mtuner\u001b[0m\u001b[0;34m.\u001b[0m\u001b[0mget_best_models\u001b[0m\u001b[0;34m(\u001b[0m\u001b[0;34m)\u001b[0m\u001b[0;34m[\u001b[0m\u001b[0;36m0\u001b[0m\u001b[0;34m]\u001b[0m\u001b[0;34m\u001b[0m\u001b[0;34m\u001b[0m\u001b[0m\n",
            "\u001b[0;32m/usr/local/lib/python3.10/dist-packages/keras_tuner/src/engine/base_tuner.py\u001b[0m in \u001b[0;36msearch\u001b[0;34m(self, *fit_args, **fit_kwargs)\u001b[0m\n\u001b[1;32m    232\u001b[0m \u001b[0;34m\u001b[0m\u001b[0m\n\u001b[1;32m    233\u001b[0m             \u001b[0mself\u001b[0m\u001b[0;34m.\u001b[0m\u001b[0mon_trial_begin\u001b[0m\u001b[0;34m(\u001b[0m\u001b[0mtrial\u001b[0m\u001b[0;34m)\u001b[0m\u001b[0;34m\u001b[0m\u001b[0;34m\u001b[0m\u001b[0m\n\u001b[0;32m--> 234\u001b[0;31m             \u001b[0mself\u001b[0m\u001b[0;34m.\u001b[0m\u001b[0m_try_run_and_update_trial\u001b[0m\u001b[0;34m(\u001b[0m\u001b[0mtrial\u001b[0m\u001b[0;34m,\u001b[0m \u001b[0;34m*\u001b[0m\u001b[0mfit_args\u001b[0m\u001b[0;34m,\u001b[0m \u001b[0;34m**\u001b[0m\u001b[0mfit_kwargs\u001b[0m\u001b[0;34m)\u001b[0m\u001b[0;34m\u001b[0m\u001b[0;34m\u001b[0m\u001b[0m\n\u001b[0m\u001b[1;32m    235\u001b[0m             \u001b[0mself\u001b[0m\u001b[0;34m.\u001b[0m\u001b[0mon_trial_end\u001b[0m\u001b[0;34m(\u001b[0m\u001b[0mtrial\u001b[0m\u001b[0;34m)\u001b[0m\u001b[0;34m\u001b[0m\u001b[0;34m\u001b[0m\u001b[0m\n\u001b[1;32m    236\u001b[0m         \u001b[0mself\u001b[0m\u001b[0;34m.\u001b[0m\u001b[0mon_search_end\u001b[0m\u001b[0;34m(\u001b[0m\u001b[0;34m)\u001b[0m\u001b[0;34m\u001b[0m\u001b[0;34m\u001b[0m\u001b[0m\n",
            "\u001b[0;32m/usr/local/lib/python3.10/dist-packages/keras_tuner/src/engine/base_tuner.py\u001b[0m in \u001b[0;36m_try_run_and_update_trial\u001b[0;34m(self, trial, *fit_args, **fit_kwargs)\u001b[0m\n\u001b[1;32m    272\u001b[0m     \u001b[0;32mdef\u001b[0m \u001b[0m_try_run_and_update_trial\u001b[0m\u001b[0;34m(\u001b[0m\u001b[0mself\u001b[0m\u001b[0;34m,\u001b[0m \u001b[0mtrial\u001b[0m\u001b[0;34m,\u001b[0m \u001b[0;34m*\u001b[0m\u001b[0mfit_args\u001b[0m\u001b[0;34m,\u001b[0m \u001b[0;34m**\u001b[0m\u001b[0mfit_kwargs\u001b[0m\u001b[0;34m)\u001b[0m\u001b[0;34m:\u001b[0m\u001b[0;34m\u001b[0m\u001b[0;34m\u001b[0m\u001b[0m\n\u001b[1;32m    273\u001b[0m         \u001b[0;32mtry\u001b[0m\u001b[0;34m:\u001b[0m\u001b[0;34m\u001b[0m\u001b[0;34m\u001b[0m\u001b[0m\n\u001b[0;32m--> 274\u001b[0;31m             \u001b[0mself\u001b[0m\u001b[0;34m.\u001b[0m\u001b[0m_run_and_update_trial\u001b[0m\u001b[0;34m(\u001b[0m\u001b[0mtrial\u001b[0m\u001b[0;34m,\u001b[0m \u001b[0;34m*\u001b[0m\u001b[0mfit_args\u001b[0m\u001b[0;34m,\u001b[0m \u001b[0;34m**\u001b[0m\u001b[0mfit_kwargs\u001b[0m\u001b[0;34m)\u001b[0m\u001b[0;34m\u001b[0m\u001b[0;34m\u001b[0m\u001b[0m\n\u001b[0m\u001b[1;32m    275\u001b[0m             \u001b[0mtrial\u001b[0m\u001b[0;34m.\u001b[0m\u001b[0mstatus\u001b[0m \u001b[0;34m=\u001b[0m \u001b[0mtrial_module\u001b[0m\u001b[0;34m.\u001b[0m\u001b[0mTrialStatus\u001b[0m\u001b[0;34m.\u001b[0m\u001b[0mCOMPLETED\u001b[0m\u001b[0;34m\u001b[0m\u001b[0;34m\u001b[0m\u001b[0m\n\u001b[1;32m    276\u001b[0m             \u001b[0;32mreturn\u001b[0m\u001b[0;34m\u001b[0m\u001b[0;34m\u001b[0m\u001b[0m\n",
            "\u001b[0;32m/usr/local/lib/python3.10/dist-packages/keras_tuner/src/engine/base_tuner.py\u001b[0m in \u001b[0;36m_run_and_update_trial\u001b[0;34m(self, trial, *fit_args, **fit_kwargs)\u001b[0m\n\u001b[1;32m    237\u001b[0m \u001b[0;34m\u001b[0m\u001b[0m\n\u001b[1;32m    238\u001b[0m     \u001b[0;32mdef\u001b[0m \u001b[0m_run_and_update_trial\u001b[0m\u001b[0;34m(\u001b[0m\u001b[0mself\u001b[0m\u001b[0;34m,\u001b[0m \u001b[0mtrial\u001b[0m\u001b[0;34m,\u001b[0m \u001b[0;34m*\u001b[0m\u001b[0mfit_args\u001b[0m\u001b[0;34m,\u001b[0m \u001b[0;34m**\u001b[0m\u001b[0mfit_kwargs\u001b[0m\u001b[0;34m)\u001b[0m\u001b[0;34m:\u001b[0m\u001b[0;34m\u001b[0m\u001b[0;34m\u001b[0m\u001b[0m\n\u001b[0;32m--> 239\u001b[0;31m         \u001b[0mresults\u001b[0m \u001b[0;34m=\u001b[0m \u001b[0mself\u001b[0m\u001b[0;34m.\u001b[0m\u001b[0mrun_trial\u001b[0m\u001b[0;34m(\u001b[0m\u001b[0mtrial\u001b[0m\u001b[0;34m,\u001b[0m \u001b[0;34m*\u001b[0m\u001b[0mfit_args\u001b[0m\u001b[0;34m,\u001b[0m \u001b[0;34m**\u001b[0m\u001b[0mfit_kwargs\u001b[0m\u001b[0;34m)\u001b[0m\u001b[0;34m\u001b[0m\u001b[0;34m\u001b[0m\u001b[0m\n\u001b[0m\u001b[1;32m    240\u001b[0m         if self.oracle.get_trial(trial.trial_id).metrics.exists(\n\u001b[1;32m    241\u001b[0m             \u001b[0mself\u001b[0m\u001b[0;34m.\u001b[0m\u001b[0moracle\u001b[0m\u001b[0;34m.\u001b[0m\u001b[0mobjective\u001b[0m\u001b[0;34m.\u001b[0m\u001b[0mname\u001b[0m\u001b[0;34m\u001b[0m\u001b[0;34m\u001b[0m\u001b[0m\n",
            "\u001b[0;32m/usr/local/lib/python3.10/dist-packages/keras_tuner/src/tuners/hyperband.py\u001b[0m in \u001b[0;36mrun_trial\u001b[0;34m(self, trial, *fit_args, **fit_kwargs)\u001b[0m\n\u001b[1;32m    425\u001b[0m             \u001b[0mfit_kwargs\u001b[0m\u001b[0;34m[\u001b[0m\u001b[0;34m\"epochs\"\u001b[0m\u001b[0;34m]\u001b[0m \u001b[0;34m=\u001b[0m \u001b[0mhp\u001b[0m\u001b[0;34m.\u001b[0m\u001b[0mvalues\u001b[0m\u001b[0;34m[\u001b[0m\u001b[0;34m\"tuner/epochs\"\u001b[0m\u001b[0;34m]\u001b[0m\u001b[0;34m\u001b[0m\u001b[0;34m\u001b[0m\u001b[0m\n\u001b[1;32m    426\u001b[0m             \u001b[0mfit_kwargs\u001b[0m\u001b[0;34m[\u001b[0m\u001b[0;34m\"initial_epoch\"\u001b[0m\u001b[0;34m]\u001b[0m \u001b[0;34m=\u001b[0m \u001b[0mhp\u001b[0m\u001b[0;34m.\u001b[0m\u001b[0mvalues\u001b[0m\u001b[0;34m[\u001b[0m\u001b[0;34m\"tuner/initial_epoch\"\u001b[0m\u001b[0;34m]\u001b[0m\u001b[0;34m\u001b[0m\u001b[0;34m\u001b[0m\u001b[0m\n\u001b[0;32m--> 427\u001b[0;31m         \u001b[0;32mreturn\u001b[0m \u001b[0msuper\u001b[0m\u001b[0;34m(\u001b[0m\u001b[0;34m)\u001b[0m\u001b[0;34m.\u001b[0m\u001b[0mrun_trial\u001b[0m\u001b[0;34m(\u001b[0m\u001b[0mtrial\u001b[0m\u001b[0;34m,\u001b[0m \u001b[0;34m*\u001b[0m\u001b[0mfit_args\u001b[0m\u001b[0;34m,\u001b[0m \u001b[0;34m**\u001b[0m\u001b[0mfit_kwargs\u001b[0m\u001b[0;34m)\u001b[0m\u001b[0;34m\u001b[0m\u001b[0;34m\u001b[0m\u001b[0m\n\u001b[0m\u001b[1;32m    428\u001b[0m \u001b[0;34m\u001b[0m\u001b[0m\n\u001b[1;32m    429\u001b[0m     \u001b[0;32mdef\u001b[0m \u001b[0m_build_hypermodel\u001b[0m\u001b[0;34m(\u001b[0m\u001b[0mself\u001b[0m\u001b[0;34m,\u001b[0m \u001b[0mhp\u001b[0m\u001b[0;34m)\u001b[0m\u001b[0;34m:\u001b[0m\u001b[0;34m\u001b[0m\u001b[0;34m\u001b[0m\u001b[0m\n",
            "\u001b[0;32m/usr/local/lib/python3.10/dist-packages/keras_tuner/src/engine/tuner.py\u001b[0m in \u001b[0;36mrun_trial\u001b[0;34m(self, trial, *args, **kwargs)\u001b[0m\n\u001b[1;32m    312\u001b[0m             \u001b[0mcallbacks\u001b[0m\u001b[0;34m.\u001b[0m\u001b[0mappend\u001b[0m\u001b[0;34m(\u001b[0m\u001b[0mmodel_checkpoint\u001b[0m\u001b[0;34m)\u001b[0m\u001b[0;34m\u001b[0m\u001b[0;34m\u001b[0m\u001b[0m\n\u001b[1;32m    313\u001b[0m             \u001b[0mcopied_kwargs\u001b[0m\u001b[0;34m[\u001b[0m\u001b[0;34m\"callbacks\"\u001b[0m\u001b[0;34m]\u001b[0m \u001b[0;34m=\u001b[0m \u001b[0mcallbacks\u001b[0m\u001b[0;34m\u001b[0m\u001b[0;34m\u001b[0m\u001b[0m\n\u001b[0;32m--> 314\u001b[0;31m             \u001b[0mobj_value\u001b[0m \u001b[0;34m=\u001b[0m \u001b[0mself\u001b[0m\u001b[0;34m.\u001b[0m\u001b[0m_build_and_fit_model\u001b[0m\u001b[0;34m(\u001b[0m\u001b[0mtrial\u001b[0m\u001b[0;34m,\u001b[0m \u001b[0;34m*\u001b[0m\u001b[0margs\u001b[0m\u001b[0;34m,\u001b[0m \u001b[0;34m**\u001b[0m\u001b[0mcopied_kwargs\u001b[0m\u001b[0;34m)\u001b[0m\u001b[0;34m\u001b[0m\u001b[0;34m\u001b[0m\u001b[0m\n\u001b[0m\u001b[1;32m    315\u001b[0m \u001b[0;34m\u001b[0m\u001b[0m\n\u001b[1;32m    316\u001b[0m             \u001b[0mhistories\u001b[0m\u001b[0;34m.\u001b[0m\u001b[0mappend\u001b[0m\u001b[0;34m(\u001b[0m\u001b[0mobj_value\u001b[0m\u001b[0;34m)\u001b[0m\u001b[0;34m\u001b[0m\u001b[0;34m\u001b[0m\u001b[0m\n",
            "\u001b[0;32m/usr/local/lib/python3.10/dist-packages/keras_tuner/src/engine/tuner.py\u001b[0m in \u001b[0;36m_build_and_fit_model\u001b[0;34m(self, trial, *args, **kwargs)\u001b[0m\n\u001b[1;32m    231\u001b[0m         \u001b[0mhp\u001b[0m \u001b[0;34m=\u001b[0m \u001b[0mtrial\u001b[0m\u001b[0;34m.\u001b[0m\u001b[0mhyperparameters\u001b[0m\u001b[0;34m\u001b[0m\u001b[0;34m\u001b[0m\u001b[0m\n\u001b[1;32m    232\u001b[0m         \u001b[0mmodel\u001b[0m \u001b[0;34m=\u001b[0m \u001b[0mself\u001b[0m\u001b[0;34m.\u001b[0m\u001b[0m_try_build\u001b[0m\u001b[0;34m(\u001b[0m\u001b[0mhp\u001b[0m\u001b[0;34m)\u001b[0m\u001b[0;34m\u001b[0m\u001b[0;34m\u001b[0m\u001b[0m\n\u001b[0;32m--> 233\u001b[0;31m         \u001b[0mresults\u001b[0m \u001b[0;34m=\u001b[0m \u001b[0mself\u001b[0m\u001b[0;34m.\u001b[0m\u001b[0mhypermodel\u001b[0m\u001b[0;34m.\u001b[0m\u001b[0mfit\u001b[0m\u001b[0;34m(\u001b[0m\u001b[0mhp\u001b[0m\u001b[0;34m,\u001b[0m \u001b[0mmodel\u001b[0m\u001b[0;34m,\u001b[0m \u001b[0;34m*\u001b[0m\u001b[0margs\u001b[0m\u001b[0;34m,\u001b[0m \u001b[0;34m**\u001b[0m\u001b[0mkwargs\u001b[0m\u001b[0;34m)\u001b[0m\u001b[0;34m\u001b[0m\u001b[0;34m\u001b[0m\u001b[0m\n\u001b[0m\u001b[1;32m    234\u001b[0m \u001b[0;34m\u001b[0m\u001b[0m\n\u001b[1;32m    235\u001b[0m         \u001b[0;31m# Save the build config for model loading later.\u001b[0m\u001b[0;34m\u001b[0m\u001b[0;34m\u001b[0m\u001b[0m\n",
            "\u001b[0;32m/usr/local/lib/python3.10/dist-packages/keras_tuner/src/engine/hypermodel.py\u001b[0m in \u001b[0;36mfit\u001b[0;34m(self, hp, model, *args, **kwargs)\u001b[0m\n\u001b[1;32m    147\u001b[0m             \u001b[0mIf\u001b[0m \u001b[0;32mreturn\u001b[0m \u001b[0ma\u001b[0m \u001b[0mfloat\u001b[0m\u001b[0;34m,\u001b[0m \u001b[0mit\u001b[0m \u001b[0mshould\u001b[0m \u001b[0mbe\u001b[0m \u001b[0mthe\u001b[0m\u001b[0;31m \u001b[0m\u001b[0;31m`\u001b[0m\u001b[0mobjective\u001b[0m\u001b[0;31m`\u001b[0m \u001b[0mvalue\u001b[0m\u001b[0;34m.\u001b[0m\u001b[0;34m\u001b[0m\u001b[0;34m\u001b[0m\u001b[0m\n\u001b[1;32m    148\u001b[0m         \"\"\"\n\u001b[0;32m--> 149\u001b[0;31m         \u001b[0;32mreturn\u001b[0m \u001b[0mmodel\u001b[0m\u001b[0;34m.\u001b[0m\u001b[0mfit\u001b[0m\u001b[0;34m(\u001b[0m\u001b[0;34m*\u001b[0m\u001b[0margs\u001b[0m\u001b[0;34m,\u001b[0m \u001b[0;34m**\u001b[0m\u001b[0mkwargs\u001b[0m\u001b[0;34m)\u001b[0m\u001b[0;34m\u001b[0m\u001b[0;34m\u001b[0m\u001b[0m\n\u001b[0m\u001b[1;32m    150\u001b[0m \u001b[0;34m\u001b[0m\u001b[0m\n\u001b[1;32m    151\u001b[0m \u001b[0;34m\u001b[0m\u001b[0m\n",
            "\u001b[0;32m/usr/local/lib/python3.10/dist-packages/keras/src/utils/traceback_utils.py\u001b[0m in \u001b[0;36merror_handler\u001b[0;34m(*args, **kwargs)\u001b[0m\n\u001b[1;32m     63\u001b[0m         \u001b[0mfiltered_tb\u001b[0m \u001b[0;34m=\u001b[0m \u001b[0;32mNone\u001b[0m\u001b[0;34m\u001b[0m\u001b[0;34m\u001b[0m\u001b[0m\n\u001b[1;32m     64\u001b[0m         \u001b[0;32mtry\u001b[0m\u001b[0;34m:\u001b[0m\u001b[0;34m\u001b[0m\u001b[0;34m\u001b[0m\u001b[0m\n\u001b[0;32m---> 65\u001b[0;31m             \u001b[0;32mreturn\u001b[0m \u001b[0mfn\u001b[0m\u001b[0;34m(\u001b[0m\u001b[0;34m*\u001b[0m\u001b[0margs\u001b[0m\u001b[0;34m,\u001b[0m \u001b[0;34m**\u001b[0m\u001b[0mkwargs\u001b[0m\u001b[0;34m)\u001b[0m\u001b[0;34m\u001b[0m\u001b[0;34m\u001b[0m\u001b[0m\n\u001b[0m\u001b[1;32m     66\u001b[0m         \u001b[0;32mexcept\u001b[0m \u001b[0mException\u001b[0m \u001b[0;32mas\u001b[0m \u001b[0me\u001b[0m\u001b[0;34m:\u001b[0m\u001b[0;34m\u001b[0m\u001b[0;34m\u001b[0m\u001b[0m\n\u001b[1;32m     67\u001b[0m             \u001b[0mfiltered_tb\u001b[0m \u001b[0;34m=\u001b[0m \u001b[0m_process_traceback_frames\u001b[0m\u001b[0;34m(\u001b[0m\u001b[0me\u001b[0m\u001b[0;34m.\u001b[0m\u001b[0m__traceback__\u001b[0m\u001b[0;34m)\u001b[0m\u001b[0;34m\u001b[0m\u001b[0;34m\u001b[0m\u001b[0m\n",
            "\u001b[0;32m/usr/local/lib/python3.10/dist-packages/keras/src/engine/training.py\u001b[0m in \u001b[0;36mfit\u001b[0;34m(self, x, y, batch_size, epochs, verbose, callbacks, validation_split, validation_data, shuffle, class_weight, sample_weight, initial_epoch, steps_per_epoch, validation_steps, validation_batch_size, validation_freq, max_queue_size, workers, use_multiprocessing)\u001b[0m\n\u001b[1;32m   1805\u001b[0m                         ):\n\u001b[1;32m   1806\u001b[0m                             \u001b[0mcallbacks\u001b[0m\u001b[0;34m.\u001b[0m\u001b[0mon_train_batch_begin\u001b[0m\u001b[0;34m(\u001b[0m\u001b[0mstep\u001b[0m\u001b[0;34m)\u001b[0m\u001b[0;34m\u001b[0m\u001b[0;34m\u001b[0m\u001b[0m\n\u001b[0;32m-> 1807\u001b[0;31m                             \u001b[0mtmp_logs\u001b[0m \u001b[0;34m=\u001b[0m \u001b[0mself\u001b[0m\u001b[0;34m.\u001b[0m\u001b[0mtrain_function\u001b[0m\u001b[0;34m(\u001b[0m\u001b[0miterator\u001b[0m\u001b[0;34m)\u001b[0m\u001b[0;34m\u001b[0m\u001b[0;34m\u001b[0m\u001b[0m\n\u001b[0m\u001b[1;32m   1808\u001b[0m                             \u001b[0;32mif\u001b[0m \u001b[0mdata_handler\u001b[0m\u001b[0;34m.\u001b[0m\u001b[0mshould_sync\u001b[0m\u001b[0;34m:\u001b[0m\u001b[0;34m\u001b[0m\u001b[0;34m\u001b[0m\u001b[0m\n\u001b[1;32m   1809\u001b[0m                                 \u001b[0mcontext\u001b[0m\u001b[0;34m.\u001b[0m\u001b[0masync_wait\u001b[0m\u001b[0;34m(\u001b[0m\u001b[0;34m)\u001b[0m\u001b[0;34m\u001b[0m\u001b[0;34m\u001b[0m\u001b[0m\n",
            "\u001b[0;32m/usr/local/lib/python3.10/dist-packages/tensorflow/python/util/traceback_utils.py\u001b[0m in \u001b[0;36merror_handler\u001b[0;34m(*args, **kwargs)\u001b[0m\n\u001b[1;32m    148\u001b[0m     \u001b[0mfiltered_tb\u001b[0m \u001b[0;34m=\u001b[0m \u001b[0;32mNone\u001b[0m\u001b[0;34m\u001b[0m\u001b[0;34m\u001b[0m\u001b[0m\n\u001b[1;32m    149\u001b[0m     \u001b[0;32mtry\u001b[0m\u001b[0;34m:\u001b[0m\u001b[0;34m\u001b[0m\u001b[0;34m\u001b[0m\u001b[0m\n\u001b[0;32m--> 150\u001b[0;31m       \u001b[0;32mreturn\u001b[0m \u001b[0mfn\u001b[0m\u001b[0;34m(\u001b[0m\u001b[0;34m*\u001b[0m\u001b[0margs\u001b[0m\u001b[0;34m,\u001b[0m \u001b[0;34m**\u001b[0m\u001b[0mkwargs\u001b[0m\u001b[0;34m)\u001b[0m\u001b[0;34m\u001b[0m\u001b[0;34m\u001b[0m\u001b[0m\n\u001b[0m\u001b[1;32m    151\u001b[0m     \u001b[0;32mexcept\u001b[0m \u001b[0mException\u001b[0m \u001b[0;32mas\u001b[0m \u001b[0me\u001b[0m\u001b[0;34m:\u001b[0m\u001b[0;34m\u001b[0m\u001b[0;34m\u001b[0m\u001b[0m\n\u001b[1;32m    152\u001b[0m       \u001b[0mfiltered_tb\u001b[0m \u001b[0;34m=\u001b[0m \u001b[0m_process_traceback_frames\u001b[0m\u001b[0;34m(\u001b[0m\u001b[0me\u001b[0m\u001b[0;34m.\u001b[0m\u001b[0m__traceback__\u001b[0m\u001b[0;34m)\u001b[0m\u001b[0;34m\u001b[0m\u001b[0;34m\u001b[0m\u001b[0m\n",
            "\u001b[0;32m/usr/local/lib/python3.10/dist-packages/tensorflow/python/eager/polymorphic_function/polymorphic_function.py\u001b[0m in \u001b[0;36m__call__\u001b[0;34m(self, *args, **kwds)\u001b[0m\n\u001b[1;32m    830\u001b[0m \u001b[0;34m\u001b[0m\u001b[0m\n\u001b[1;32m    831\u001b[0m       \u001b[0;32mwith\u001b[0m \u001b[0mOptionalXlaContext\u001b[0m\u001b[0;34m(\u001b[0m\u001b[0mself\u001b[0m\u001b[0;34m.\u001b[0m\u001b[0m_jit_compile\u001b[0m\u001b[0;34m)\u001b[0m\u001b[0;34m:\u001b[0m\u001b[0;34m\u001b[0m\u001b[0;34m\u001b[0m\u001b[0m\n\u001b[0;32m--> 832\u001b[0;31m         \u001b[0mresult\u001b[0m \u001b[0;34m=\u001b[0m \u001b[0mself\u001b[0m\u001b[0;34m.\u001b[0m\u001b[0m_call\u001b[0m\u001b[0;34m(\u001b[0m\u001b[0;34m*\u001b[0m\u001b[0margs\u001b[0m\u001b[0;34m,\u001b[0m \u001b[0;34m**\u001b[0m\u001b[0mkwds\u001b[0m\u001b[0;34m)\u001b[0m\u001b[0;34m\u001b[0m\u001b[0;34m\u001b[0m\u001b[0m\n\u001b[0m\u001b[1;32m    833\u001b[0m \u001b[0;34m\u001b[0m\u001b[0m\n\u001b[1;32m    834\u001b[0m       \u001b[0mnew_tracing_count\u001b[0m \u001b[0;34m=\u001b[0m \u001b[0mself\u001b[0m\u001b[0;34m.\u001b[0m\u001b[0mexperimental_get_tracing_count\u001b[0m\u001b[0;34m(\u001b[0m\u001b[0;34m)\u001b[0m\u001b[0;34m\u001b[0m\u001b[0;34m\u001b[0m\u001b[0m\n",
            "\u001b[0;32m/usr/local/lib/python3.10/dist-packages/tensorflow/python/eager/polymorphic_function/polymorphic_function.py\u001b[0m in \u001b[0;36m_call\u001b[0;34m(self, *args, **kwds)\u001b[0m\n\u001b[1;32m    903\u001b[0m         \u001b[0;31m# Lifting succeeded, so variables are initialized and we can run the\u001b[0m\u001b[0;34m\u001b[0m\u001b[0;34m\u001b[0m\u001b[0m\n\u001b[1;32m    904\u001b[0m         \u001b[0;31m# no_variable_creation function.\u001b[0m\u001b[0;34m\u001b[0m\u001b[0;34m\u001b[0m\u001b[0m\n\u001b[0;32m--> 905\u001b[0;31m         return tracing_compilation.call_function(\n\u001b[0m\u001b[1;32m    906\u001b[0m             \u001b[0margs\u001b[0m\u001b[0;34m,\u001b[0m \u001b[0mkwds\u001b[0m\u001b[0;34m,\u001b[0m \u001b[0mself\u001b[0m\u001b[0;34m.\u001b[0m\u001b[0m_no_variable_creation_config\u001b[0m\u001b[0;34m\u001b[0m\u001b[0;34m\u001b[0m\u001b[0m\n\u001b[1;32m    907\u001b[0m         )\n",
            "\u001b[0;32m/usr/local/lib/python3.10/dist-packages/tensorflow/python/eager/polymorphic_function/tracing_compilation.py\u001b[0m in \u001b[0;36mcall_function\u001b[0;34m(args, kwargs, tracing_options)\u001b[0m\n\u001b[1;32m    130\u001b[0m   \u001b[0margs\u001b[0m \u001b[0;34m=\u001b[0m \u001b[0margs\u001b[0m \u001b[0;32mif\u001b[0m \u001b[0margs\u001b[0m \u001b[0;32melse\u001b[0m \u001b[0;34m(\u001b[0m\u001b[0;34m)\u001b[0m\u001b[0;34m\u001b[0m\u001b[0;34m\u001b[0m\u001b[0m\n\u001b[1;32m    131\u001b[0m   \u001b[0mkwargs\u001b[0m \u001b[0;34m=\u001b[0m \u001b[0mkwargs\u001b[0m \u001b[0;32mif\u001b[0m \u001b[0mkwargs\u001b[0m \u001b[0;32melse\u001b[0m \u001b[0;34m{\u001b[0m\u001b[0;34m}\u001b[0m\u001b[0;34m\u001b[0m\u001b[0;34m\u001b[0m\u001b[0m\n\u001b[0;32m--> 132\u001b[0;31m   function = trace_function(\n\u001b[0m\u001b[1;32m    133\u001b[0m       \u001b[0margs\u001b[0m\u001b[0;34m=\u001b[0m\u001b[0margs\u001b[0m\u001b[0;34m,\u001b[0m \u001b[0mkwargs\u001b[0m\u001b[0;34m=\u001b[0m\u001b[0mkwargs\u001b[0m\u001b[0;34m,\u001b[0m \u001b[0mtracing_options\u001b[0m\u001b[0;34m=\u001b[0m\u001b[0mtracing_options\u001b[0m\u001b[0;34m\u001b[0m\u001b[0;34m\u001b[0m\u001b[0m\n\u001b[1;32m    134\u001b[0m   )\n",
            "\u001b[0;32m/usr/local/lib/python3.10/dist-packages/tensorflow/python/eager/polymorphic_function/tracing_compilation.py\u001b[0m in \u001b[0;36mtrace_function\u001b[0;34m(args, kwargs, tracing_options)\u001b[0m\n\u001b[1;32m    176\u001b[0m       \u001b[0mkwargs\u001b[0m \u001b[0;34m=\u001b[0m \u001b[0;34m{\u001b[0m\u001b[0;34m}\u001b[0m\u001b[0;34m\u001b[0m\u001b[0;34m\u001b[0m\u001b[0m\n\u001b[1;32m    177\u001b[0m \u001b[0;34m\u001b[0m\u001b[0m\n\u001b[0;32m--> 178\u001b[0;31m     concrete_function = _maybe_define_function(\n\u001b[0m\u001b[1;32m    179\u001b[0m         \u001b[0margs\u001b[0m\u001b[0;34m,\u001b[0m \u001b[0mkwargs\u001b[0m\u001b[0;34m,\u001b[0m \u001b[0mtracing_options\u001b[0m\u001b[0;34m\u001b[0m\u001b[0;34m\u001b[0m\u001b[0m\n\u001b[1;32m    180\u001b[0m     )\n",
            "\u001b[0;32m/usr/local/lib/python3.10/dist-packages/tensorflow/python/eager/polymorphic_function/tracing_compilation.py\u001b[0m in \u001b[0;36m_maybe_define_function\u001b[0;34m(args, kwargs, tracing_options)\u001b[0m\n\u001b[1;32m    281\u001b[0m         \u001b[0;32melse\u001b[0m\u001b[0;34m:\u001b[0m\u001b[0;34m\u001b[0m\u001b[0;34m\u001b[0m\u001b[0m\n\u001b[1;32m    282\u001b[0m           \u001b[0mtarget_func_type\u001b[0m \u001b[0;34m=\u001b[0m \u001b[0mlookup_func_type\u001b[0m\u001b[0;34m\u001b[0m\u001b[0;34m\u001b[0m\u001b[0m\n\u001b[0;32m--> 283\u001b[0;31m         concrete_function = _create_concrete_function(\n\u001b[0m\u001b[1;32m    284\u001b[0m             \u001b[0mtarget_func_type\u001b[0m\u001b[0;34m,\u001b[0m \u001b[0mlookup_func_context\u001b[0m\u001b[0;34m,\u001b[0m \u001b[0mfunc_graph\u001b[0m\u001b[0;34m,\u001b[0m \u001b[0mtracing_options\u001b[0m\u001b[0;34m\u001b[0m\u001b[0;34m\u001b[0m\u001b[0m\n\u001b[1;32m    285\u001b[0m         )\n",
            "\u001b[0;32m/usr/local/lib/python3.10/dist-packages/tensorflow/python/eager/polymorphic_function/tracing_compilation.py\u001b[0m in \u001b[0;36m_create_concrete_function\u001b[0;34m(function_type, type_context, func_graph, tracing_options)\u001b[0m\n\u001b[1;32m    308\u001b[0m       \u001b[0mattributes_lib\u001b[0m\u001b[0;34m.\u001b[0m\u001b[0mDISABLE_ACD\u001b[0m\u001b[0;34m,\u001b[0m \u001b[0;32mFalse\u001b[0m\u001b[0;34m\u001b[0m\u001b[0;34m\u001b[0m\u001b[0m\n\u001b[1;32m    309\u001b[0m   )\n\u001b[0;32m--> 310\u001b[0;31m   traced_func_graph = func_graph_module.func_graph_from_py_func(\n\u001b[0m\u001b[1;32m    311\u001b[0m       \u001b[0mtracing_options\u001b[0m\u001b[0;34m.\u001b[0m\u001b[0mname\u001b[0m\u001b[0;34m,\u001b[0m\u001b[0;34m\u001b[0m\u001b[0;34m\u001b[0m\u001b[0m\n\u001b[1;32m    312\u001b[0m       \u001b[0mtracing_options\u001b[0m\u001b[0;34m.\u001b[0m\u001b[0mpython_function\u001b[0m\u001b[0;34m,\u001b[0m\u001b[0;34m\u001b[0m\u001b[0;34m\u001b[0m\u001b[0m\n",
            "\u001b[0;32m/usr/local/lib/python3.10/dist-packages/tensorflow/python/framework/func_graph.py\u001b[0m in \u001b[0;36mfunc_graph_from_py_func\u001b[0;34m(name, python_func, args, kwargs, signature, func_graph, add_control_dependencies, arg_names, op_return_value, collections, capture_by_value, create_placeholders)\u001b[0m\n\u001b[1;32m   1057\u001b[0m \u001b[0;34m\u001b[0m\u001b[0m\n\u001b[1;32m   1058\u001b[0m     \u001b[0m_\u001b[0m\u001b[0;34m,\u001b[0m \u001b[0moriginal_func\u001b[0m \u001b[0;34m=\u001b[0m \u001b[0mtf_decorator\u001b[0m\u001b[0;34m.\u001b[0m\u001b[0munwrap\u001b[0m\u001b[0;34m(\u001b[0m\u001b[0mpython_func\u001b[0m\u001b[0;34m)\u001b[0m\u001b[0;34m\u001b[0m\u001b[0;34m\u001b[0m\u001b[0m\n\u001b[0;32m-> 1059\u001b[0;31m     \u001b[0mfunc_outputs\u001b[0m \u001b[0;34m=\u001b[0m \u001b[0mpython_func\u001b[0m\u001b[0;34m(\u001b[0m\u001b[0;34m*\u001b[0m\u001b[0mfunc_args\u001b[0m\u001b[0;34m,\u001b[0m \u001b[0;34m**\u001b[0m\u001b[0mfunc_kwargs\u001b[0m\u001b[0;34m)\u001b[0m\u001b[0;34m\u001b[0m\u001b[0;34m\u001b[0m\u001b[0m\n\u001b[0m\u001b[1;32m   1060\u001b[0m \u001b[0;34m\u001b[0m\u001b[0m\n\u001b[1;32m   1061\u001b[0m     \u001b[0;31m# invariant: `func_outputs` contains only Tensors, CompositeTensors,\u001b[0m\u001b[0;34m\u001b[0m\u001b[0;34m\u001b[0m\u001b[0m\n",
            "\u001b[0;32m/usr/local/lib/python3.10/dist-packages/tensorflow/python/eager/polymorphic_function/polymorphic_function.py\u001b[0m in \u001b[0;36mwrapped_fn\u001b[0;34m(*args, **kwds)\u001b[0m\n\u001b[1;32m    596\u001b[0m         \u001b[0;31m# the function a weak reference to itself to avoid a reference cycle.\u001b[0m\u001b[0;34m\u001b[0m\u001b[0;34m\u001b[0m\u001b[0m\n\u001b[1;32m    597\u001b[0m         \u001b[0;32mwith\u001b[0m \u001b[0mOptionalXlaContext\u001b[0m\u001b[0;34m(\u001b[0m\u001b[0mcompile_with_xla\u001b[0m\u001b[0;34m)\u001b[0m\u001b[0;34m:\u001b[0m\u001b[0;34m\u001b[0m\u001b[0;34m\u001b[0m\u001b[0m\n\u001b[0;32m--> 598\u001b[0;31m           \u001b[0mout\u001b[0m \u001b[0;34m=\u001b[0m \u001b[0mweak_wrapped_fn\u001b[0m\u001b[0;34m(\u001b[0m\u001b[0;34m)\u001b[0m\u001b[0;34m.\u001b[0m\u001b[0m__wrapped__\u001b[0m\u001b[0;34m(\u001b[0m\u001b[0;34m*\u001b[0m\u001b[0margs\u001b[0m\u001b[0;34m,\u001b[0m \u001b[0;34m**\u001b[0m\u001b[0mkwds\u001b[0m\u001b[0;34m)\u001b[0m\u001b[0;34m\u001b[0m\u001b[0;34m\u001b[0m\u001b[0m\n\u001b[0m\u001b[1;32m    599\u001b[0m         \u001b[0;32mreturn\u001b[0m \u001b[0mout\u001b[0m\u001b[0;34m\u001b[0m\u001b[0;34m\u001b[0m\u001b[0m\n\u001b[1;32m    600\u001b[0m \u001b[0;34m\u001b[0m\u001b[0m\n",
            "\u001b[0;32m/usr/local/lib/python3.10/dist-packages/tensorflow/python/eager/polymorphic_function/autograph_util.py\u001b[0m in \u001b[0;36mautograph_handler\u001b[0;34m(*args, **kwargs)\u001b[0m\n\u001b[1;32m     39\u001b[0m     \u001b[0;34m\"\"\"Calls a converted version of original_func.\"\"\"\u001b[0m\u001b[0;34m\u001b[0m\u001b[0;34m\u001b[0m\u001b[0m\n\u001b[1;32m     40\u001b[0m     \u001b[0;32mtry\u001b[0m\u001b[0;34m:\u001b[0m\u001b[0;34m\u001b[0m\u001b[0;34m\u001b[0m\u001b[0m\n\u001b[0;32m---> 41\u001b[0;31m       return api.converted_call(\n\u001b[0m\u001b[1;32m     42\u001b[0m           \u001b[0moriginal_func\u001b[0m\u001b[0;34m,\u001b[0m\u001b[0;34m\u001b[0m\u001b[0;34m\u001b[0m\u001b[0m\n\u001b[1;32m     43\u001b[0m           \u001b[0margs\u001b[0m\u001b[0;34m,\u001b[0m\u001b[0;34m\u001b[0m\u001b[0;34m\u001b[0m\u001b[0m\n",
            "\u001b[0;32m/usr/local/lib/python3.10/dist-packages/tensorflow/python/autograph/impl/api.py\u001b[0m in \u001b[0;36mconverted_call\u001b[0;34m(f, args, kwargs, caller_fn_scope, options)\u001b[0m\n\u001b[1;32m    437\u001b[0m     \u001b[0;32mtry\u001b[0m\u001b[0;34m:\u001b[0m\u001b[0;34m\u001b[0m\u001b[0;34m\u001b[0m\u001b[0m\n\u001b[1;32m    438\u001b[0m       \u001b[0;32mif\u001b[0m \u001b[0mkwargs\u001b[0m \u001b[0;32mis\u001b[0m \u001b[0;32mnot\u001b[0m \u001b[0;32mNone\u001b[0m\u001b[0;34m:\u001b[0m\u001b[0;34m\u001b[0m\u001b[0;34m\u001b[0m\u001b[0m\n\u001b[0;32m--> 439\u001b[0;31m         \u001b[0mresult\u001b[0m \u001b[0;34m=\u001b[0m \u001b[0mconverted_f\u001b[0m\u001b[0;34m(\u001b[0m\u001b[0;34m*\u001b[0m\u001b[0meffective_args\u001b[0m\u001b[0;34m,\u001b[0m \u001b[0;34m**\u001b[0m\u001b[0mkwargs\u001b[0m\u001b[0;34m)\u001b[0m\u001b[0;34m\u001b[0m\u001b[0;34m\u001b[0m\u001b[0m\n\u001b[0m\u001b[1;32m    440\u001b[0m       \u001b[0;32melse\u001b[0m\u001b[0;34m:\u001b[0m\u001b[0;34m\u001b[0m\u001b[0;34m\u001b[0m\u001b[0m\n\u001b[1;32m    441\u001b[0m         \u001b[0mresult\u001b[0m \u001b[0;34m=\u001b[0m \u001b[0mconverted_f\u001b[0m\u001b[0;34m(\u001b[0m\u001b[0;34m*\u001b[0m\u001b[0meffective_args\u001b[0m\u001b[0;34m)\u001b[0m\u001b[0;34m\u001b[0m\u001b[0;34m\u001b[0m\u001b[0m\n",
            "\u001b[0;32m/usr/local/lib/python3.10/dist-packages/keras/src/engine/training.py\u001b[0m in \u001b[0;36mtf__train_function\u001b[0;34m(iterator)\u001b[0m\n\u001b[1;32m     13\u001b[0m                 \u001b[0;32mtry\u001b[0m\u001b[0;34m:\u001b[0m\u001b[0;34m\u001b[0m\u001b[0;34m\u001b[0m\u001b[0m\n\u001b[1;32m     14\u001b[0m                     \u001b[0mdo_return\u001b[0m \u001b[0;34m=\u001b[0m \u001b[0;32mTrue\u001b[0m\u001b[0;34m\u001b[0m\u001b[0;34m\u001b[0m\u001b[0m\n\u001b[0;32m---> 15\u001b[0;31m                     \u001b[0mretval_\u001b[0m \u001b[0;34m=\u001b[0m \u001b[0mag__\u001b[0m\u001b[0;34m.\u001b[0m\u001b[0mconverted_call\u001b[0m\u001b[0;34m(\u001b[0m\u001b[0mag__\u001b[0m\u001b[0;34m.\u001b[0m\u001b[0mld\u001b[0m\u001b[0;34m(\u001b[0m\u001b[0mstep_function\u001b[0m\u001b[0;34m)\u001b[0m\u001b[0;34m,\u001b[0m \u001b[0;34m(\u001b[0m\u001b[0mag__\u001b[0m\u001b[0;34m.\u001b[0m\u001b[0mld\u001b[0m\u001b[0;34m(\u001b[0m\u001b[0mself\u001b[0m\u001b[0;34m)\u001b[0m\u001b[0;34m,\u001b[0m \u001b[0mag__\u001b[0m\u001b[0;34m.\u001b[0m\u001b[0mld\u001b[0m\u001b[0;34m(\u001b[0m\u001b[0miterator\u001b[0m\u001b[0;34m)\u001b[0m\u001b[0;34m)\u001b[0m\u001b[0;34m,\u001b[0m \u001b[0;32mNone\u001b[0m\u001b[0;34m,\u001b[0m \u001b[0mfscope\u001b[0m\u001b[0;34m)\u001b[0m\u001b[0;34m\u001b[0m\u001b[0;34m\u001b[0m\u001b[0m\n\u001b[0m\u001b[1;32m     16\u001b[0m                 \u001b[0;32mexcept\u001b[0m\u001b[0;34m:\u001b[0m\u001b[0;34m\u001b[0m\u001b[0;34m\u001b[0m\u001b[0m\n\u001b[1;32m     17\u001b[0m                     \u001b[0mdo_return\u001b[0m \u001b[0;34m=\u001b[0m \u001b[0;32mFalse\u001b[0m\u001b[0;34m\u001b[0m\u001b[0;34m\u001b[0m\u001b[0m\n",
            "\u001b[0;32m/usr/local/lib/python3.10/dist-packages/tensorflow/python/autograph/impl/api.py\u001b[0m in \u001b[0;36mconverted_call\u001b[0;34m(f, args, kwargs, caller_fn_scope, options)\u001b[0m\n\u001b[1;32m    329\u001b[0m   \u001b[0;32mif\u001b[0m \u001b[0mconversion\u001b[0m\u001b[0;34m.\u001b[0m\u001b[0mis_in_allowlist_cache\u001b[0m\u001b[0;34m(\u001b[0m\u001b[0mf\u001b[0m\u001b[0;34m,\u001b[0m \u001b[0moptions\u001b[0m\u001b[0;34m)\u001b[0m\u001b[0;34m:\u001b[0m\u001b[0;34m\u001b[0m\u001b[0;34m\u001b[0m\u001b[0m\n\u001b[1;32m    330\u001b[0m     \u001b[0mlogging\u001b[0m\u001b[0;34m.\u001b[0m\u001b[0mlog\u001b[0m\u001b[0;34m(\u001b[0m\u001b[0;36m2\u001b[0m\u001b[0;34m,\u001b[0m \u001b[0;34m'Allowlisted %s: from cache'\u001b[0m\u001b[0;34m,\u001b[0m \u001b[0mf\u001b[0m\u001b[0;34m)\u001b[0m\u001b[0;34m\u001b[0m\u001b[0;34m\u001b[0m\u001b[0m\n\u001b[0;32m--> 331\u001b[0;31m     \u001b[0;32mreturn\u001b[0m \u001b[0m_call_unconverted\u001b[0m\u001b[0;34m(\u001b[0m\u001b[0mf\u001b[0m\u001b[0;34m,\u001b[0m \u001b[0margs\u001b[0m\u001b[0;34m,\u001b[0m \u001b[0mkwargs\u001b[0m\u001b[0;34m,\u001b[0m \u001b[0moptions\u001b[0m\u001b[0;34m,\u001b[0m \u001b[0;32mFalse\u001b[0m\u001b[0;34m)\u001b[0m\u001b[0;34m\u001b[0m\u001b[0;34m\u001b[0m\u001b[0m\n\u001b[0m\u001b[1;32m    332\u001b[0m \u001b[0;34m\u001b[0m\u001b[0m\n\u001b[1;32m    333\u001b[0m   \u001b[0;32mif\u001b[0m \u001b[0mag_ctx\u001b[0m\u001b[0;34m.\u001b[0m\u001b[0mcontrol_status_ctx\u001b[0m\u001b[0;34m(\u001b[0m\u001b[0;34m)\u001b[0m\u001b[0;34m.\u001b[0m\u001b[0mstatus\u001b[0m \u001b[0;34m==\u001b[0m \u001b[0mag_ctx\u001b[0m\u001b[0;34m.\u001b[0m\u001b[0mStatus\u001b[0m\u001b[0;34m.\u001b[0m\u001b[0mDISABLED\u001b[0m\u001b[0;34m:\u001b[0m\u001b[0;34m\u001b[0m\u001b[0;34m\u001b[0m\u001b[0m\n",
            "\u001b[0;32m/usr/local/lib/python3.10/dist-packages/tensorflow/python/autograph/impl/api.py\u001b[0m in \u001b[0;36m_call_unconverted\u001b[0;34m(f, args, kwargs, options, update_cache)\u001b[0m\n\u001b[1;32m    458\u001b[0m   \u001b[0;32mif\u001b[0m \u001b[0mkwargs\u001b[0m \u001b[0;32mis\u001b[0m \u001b[0;32mnot\u001b[0m \u001b[0;32mNone\u001b[0m\u001b[0;34m:\u001b[0m\u001b[0;34m\u001b[0m\u001b[0;34m\u001b[0m\u001b[0m\n\u001b[1;32m    459\u001b[0m     \u001b[0;32mreturn\u001b[0m \u001b[0mf\u001b[0m\u001b[0;34m(\u001b[0m\u001b[0;34m*\u001b[0m\u001b[0margs\u001b[0m\u001b[0;34m,\u001b[0m \u001b[0;34m**\u001b[0m\u001b[0mkwargs\u001b[0m\u001b[0;34m)\u001b[0m\u001b[0;34m\u001b[0m\u001b[0;34m\u001b[0m\u001b[0m\n\u001b[0;32m--> 460\u001b[0;31m   \u001b[0;32mreturn\u001b[0m \u001b[0mf\u001b[0m\u001b[0;34m(\u001b[0m\u001b[0;34m*\u001b[0m\u001b[0margs\u001b[0m\u001b[0;34m)\u001b[0m\u001b[0;34m\u001b[0m\u001b[0;34m\u001b[0m\u001b[0m\n\u001b[0m\u001b[1;32m    461\u001b[0m \u001b[0;34m\u001b[0m\u001b[0m\n\u001b[1;32m    462\u001b[0m \u001b[0;34m\u001b[0m\u001b[0m\n",
            "\u001b[0;32m/usr/local/lib/python3.10/dist-packages/keras/src/engine/training.py\u001b[0m in \u001b[0;36mstep_function\u001b[0;34m(model, iterator)\u001b[0m\n\u001b[1;32m   1382\u001b[0m                 )\n\u001b[1;32m   1383\u001b[0m             \u001b[0mdata\u001b[0m \u001b[0;34m=\u001b[0m \u001b[0mnext\u001b[0m\u001b[0;34m(\u001b[0m\u001b[0miterator\u001b[0m\u001b[0;34m)\u001b[0m\u001b[0;34m\u001b[0m\u001b[0;34m\u001b[0m\u001b[0m\n\u001b[0;32m-> 1384\u001b[0;31m             \u001b[0moutputs\u001b[0m \u001b[0;34m=\u001b[0m \u001b[0mmodel\u001b[0m\u001b[0;34m.\u001b[0m\u001b[0mdistribute_strategy\u001b[0m\u001b[0;34m.\u001b[0m\u001b[0mrun\u001b[0m\u001b[0;34m(\u001b[0m\u001b[0mrun_step\u001b[0m\u001b[0;34m,\u001b[0m \u001b[0margs\u001b[0m\u001b[0;34m=\u001b[0m\u001b[0;34m(\u001b[0m\u001b[0mdata\u001b[0m\u001b[0;34m,\u001b[0m\u001b[0;34m)\u001b[0m\u001b[0;34m)\u001b[0m\u001b[0;34m\u001b[0m\u001b[0;34m\u001b[0m\u001b[0m\n\u001b[0m\u001b[1;32m   1385\u001b[0m             outputs = reduce_per_replica(\n\u001b[1;32m   1386\u001b[0m                 \u001b[0moutputs\u001b[0m\u001b[0;34m,\u001b[0m\u001b[0;34m\u001b[0m\u001b[0;34m\u001b[0m\u001b[0m\n",
            "\u001b[0;32m/usr/local/lib/python3.10/dist-packages/tensorflow/python/distribute/distribute_lib.py\u001b[0m in \u001b[0;36mrun\u001b[0;34m(***failed resolving arguments***)\u001b[0m\n\u001b[1;32m   1679\u001b[0m       fn = autograph.tf_convert(\n\u001b[1;32m   1680\u001b[0m           fn, autograph_ctx.control_status_ctx(), convert_by_default=False)\n\u001b[0;32m-> 1681\u001b[0;31m       \u001b[0;32mreturn\u001b[0m \u001b[0mself\u001b[0m\u001b[0;34m.\u001b[0m\u001b[0m_extended\u001b[0m\u001b[0;34m.\u001b[0m\u001b[0mcall_for_each_replica\u001b[0m\u001b[0;34m(\u001b[0m\u001b[0mfn\u001b[0m\u001b[0;34m,\u001b[0m \u001b[0margs\u001b[0m\u001b[0;34m=\u001b[0m\u001b[0margs\u001b[0m\u001b[0;34m,\u001b[0m \u001b[0mkwargs\u001b[0m\u001b[0;34m=\u001b[0m\u001b[0mkwargs\u001b[0m\u001b[0;34m)\u001b[0m\u001b[0;34m\u001b[0m\u001b[0;34m\u001b[0m\u001b[0m\n\u001b[0m\u001b[1;32m   1682\u001b[0m \u001b[0;34m\u001b[0m\u001b[0m\n\u001b[1;32m   1683\u001b[0m   \u001b[0;32mdef\u001b[0m \u001b[0mreduce\u001b[0m\u001b[0;34m(\u001b[0m\u001b[0mself\u001b[0m\u001b[0;34m,\u001b[0m \u001b[0mreduce_op\u001b[0m\u001b[0;34m,\u001b[0m \u001b[0mvalue\u001b[0m\u001b[0;34m,\u001b[0m \u001b[0maxis\u001b[0m\u001b[0;34m)\u001b[0m\u001b[0;34m:\u001b[0m\u001b[0;34m\u001b[0m\u001b[0;34m\u001b[0m\u001b[0m\n",
            "\u001b[0;32m/usr/local/lib/python3.10/dist-packages/tensorflow/python/distribute/distribute_lib.py\u001b[0m in \u001b[0;36mcall_for_each_replica\u001b[0;34m(self, fn, args, kwargs)\u001b[0m\n\u001b[1;32m   3269\u001b[0m       \u001b[0mkwargs\u001b[0m \u001b[0;34m=\u001b[0m \u001b[0;34m{\u001b[0m\u001b[0;34m}\u001b[0m\u001b[0;34m\u001b[0m\u001b[0;34m\u001b[0m\u001b[0m\n\u001b[1;32m   3270\u001b[0m     \u001b[0;32mwith\u001b[0m \u001b[0mself\u001b[0m\u001b[0;34m.\u001b[0m\u001b[0m_container_strategy\u001b[0m\u001b[0;34m(\u001b[0m\u001b[0;34m)\u001b[0m\u001b[0;34m.\u001b[0m\u001b[0mscope\u001b[0m\u001b[0;34m(\u001b[0m\u001b[0;34m)\u001b[0m\u001b[0;34m:\u001b[0m\u001b[0;34m\u001b[0m\u001b[0;34m\u001b[0m\u001b[0m\n\u001b[0;32m-> 3271\u001b[0;31m       \u001b[0;32mreturn\u001b[0m \u001b[0mself\u001b[0m\u001b[0;34m.\u001b[0m\u001b[0m_call_for_each_replica\u001b[0m\u001b[0;34m(\u001b[0m\u001b[0mfn\u001b[0m\u001b[0;34m,\u001b[0m \u001b[0margs\u001b[0m\u001b[0;34m,\u001b[0m \u001b[0mkwargs\u001b[0m\u001b[0;34m)\u001b[0m\u001b[0;34m\u001b[0m\u001b[0;34m\u001b[0m\u001b[0m\n\u001b[0m\u001b[1;32m   3272\u001b[0m \u001b[0;34m\u001b[0m\u001b[0m\n\u001b[1;32m   3273\u001b[0m   \u001b[0;32mdef\u001b[0m \u001b[0m_call_for_each_replica\u001b[0m\u001b[0;34m(\u001b[0m\u001b[0mself\u001b[0m\u001b[0;34m,\u001b[0m \u001b[0mfn\u001b[0m\u001b[0;34m,\u001b[0m \u001b[0margs\u001b[0m\u001b[0;34m,\u001b[0m \u001b[0mkwargs\u001b[0m\u001b[0;34m)\u001b[0m\u001b[0;34m:\u001b[0m\u001b[0;34m\u001b[0m\u001b[0;34m\u001b[0m\u001b[0m\n",
            "\u001b[0;32m/usr/local/lib/python3.10/dist-packages/tensorflow/python/distribute/distribute_lib.py\u001b[0m in \u001b[0;36m_call_for_each_replica\u001b[0;34m(self, fn, args, kwargs)\u001b[0m\n\u001b[1;32m   4067\u001b[0m   \u001b[0;32mdef\u001b[0m \u001b[0m_call_for_each_replica\u001b[0m\u001b[0;34m(\u001b[0m\u001b[0mself\u001b[0m\u001b[0;34m,\u001b[0m \u001b[0mfn\u001b[0m\u001b[0;34m,\u001b[0m \u001b[0margs\u001b[0m\u001b[0;34m,\u001b[0m \u001b[0mkwargs\u001b[0m\u001b[0;34m)\u001b[0m\u001b[0;34m:\u001b[0m\u001b[0;34m\u001b[0m\u001b[0;34m\u001b[0m\u001b[0m\n\u001b[1;32m   4068\u001b[0m     \u001b[0;32mwith\u001b[0m \u001b[0mReplicaContext\u001b[0m\u001b[0;34m(\u001b[0m\u001b[0mself\u001b[0m\u001b[0;34m.\u001b[0m\u001b[0m_container_strategy\u001b[0m\u001b[0;34m(\u001b[0m\u001b[0;34m)\u001b[0m\u001b[0;34m,\u001b[0m \u001b[0mreplica_id_in_sync_group\u001b[0m\u001b[0;34m=\u001b[0m\u001b[0;36m0\u001b[0m\u001b[0;34m)\u001b[0m\u001b[0;34m:\u001b[0m\u001b[0;34m\u001b[0m\u001b[0;34m\u001b[0m\u001b[0m\n\u001b[0;32m-> 4069\u001b[0;31m       \u001b[0;32mreturn\u001b[0m \u001b[0mfn\u001b[0m\u001b[0;34m(\u001b[0m\u001b[0;34m*\u001b[0m\u001b[0margs\u001b[0m\u001b[0;34m,\u001b[0m \u001b[0;34m**\u001b[0m\u001b[0mkwargs\u001b[0m\u001b[0;34m)\u001b[0m\u001b[0;34m\u001b[0m\u001b[0;34m\u001b[0m\u001b[0m\n\u001b[0m\u001b[1;32m   4070\u001b[0m \u001b[0;34m\u001b[0m\u001b[0m\n\u001b[1;32m   4071\u001b[0m   \u001b[0;32mdef\u001b[0m \u001b[0m_reduce_to\u001b[0m\u001b[0;34m(\u001b[0m\u001b[0mself\u001b[0m\u001b[0;34m,\u001b[0m \u001b[0mreduce_op\u001b[0m\u001b[0;34m,\u001b[0m \u001b[0mvalue\u001b[0m\u001b[0;34m,\u001b[0m \u001b[0mdestinations\u001b[0m\u001b[0;34m,\u001b[0m \u001b[0moptions\u001b[0m\u001b[0;34m)\u001b[0m\u001b[0;34m:\u001b[0m\u001b[0;34m\u001b[0m\u001b[0;34m\u001b[0m\u001b[0m\n",
            "\u001b[0;32m/usr/local/lib/python3.10/dist-packages/tensorflow/python/autograph/impl/api.py\u001b[0m in \u001b[0;36mwrapper\u001b[0;34m(*args, **kwargs)\u001b[0m\n\u001b[1;32m    688\u001b[0m       \u001b[0;32mtry\u001b[0m\u001b[0;34m:\u001b[0m\u001b[0;34m\u001b[0m\u001b[0;34m\u001b[0m\u001b[0m\n\u001b[1;32m    689\u001b[0m         \u001b[0;32mwith\u001b[0m \u001b[0mconversion_ctx\u001b[0m\u001b[0;34m:\u001b[0m\u001b[0;34m\u001b[0m\u001b[0;34m\u001b[0m\u001b[0m\n\u001b[0;32m--> 690\u001b[0;31m           \u001b[0;32mreturn\u001b[0m \u001b[0mconverted_call\u001b[0m\u001b[0;34m(\u001b[0m\u001b[0mf\u001b[0m\u001b[0;34m,\u001b[0m \u001b[0margs\u001b[0m\u001b[0;34m,\u001b[0m \u001b[0mkwargs\u001b[0m\u001b[0;34m,\u001b[0m \u001b[0moptions\u001b[0m\u001b[0;34m=\u001b[0m\u001b[0moptions\u001b[0m\u001b[0;34m)\u001b[0m\u001b[0;34m\u001b[0m\u001b[0;34m\u001b[0m\u001b[0m\n\u001b[0m\u001b[1;32m    691\u001b[0m       \u001b[0;32mexcept\u001b[0m \u001b[0mException\u001b[0m \u001b[0;32mas\u001b[0m \u001b[0me\u001b[0m\u001b[0;34m:\u001b[0m  \u001b[0;31m# pylint:disable=broad-except\u001b[0m\u001b[0;34m\u001b[0m\u001b[0;34m\u001b[0m\u001b[0m\n\u001b[1;32m    692\u001b[0m         \u001b[0;32mif\u001b[0m \u001b[0mhasattr\u001b[0m\u001b[0;34m(\u001b[0m\u001b[0me\u001b[0m\u001b[0;34m,\u001b[0m \u001b[0;34m'ag_error_metadata'\u001b[0m\u001b[0;34m)\u001b[0m\u001b[0;34m:\u001b[0m\u001b[0;34m\u001b[0m\u001b[0;34m\u001b[0m\u001b[0m\n",
            "\u001b[0;32m/usr/local/lib/python3.10/dist-packages/tensorflow/python/autograph/impl/api.py\u001b[0m in \u001b[0;36mconverted_call\u001b[0;34m(f, args, kwargs, caller_fn_scope, options)\u001b[0m\n\u001b[1;32m    375\u001b[0m \u001b[0;34m\u001b[0m\u001b[0m\n\u001b[1;32m    376\u001b[0m   \u001b[0;32mif\u001b[0m \u001b[0;32mnot\u001b[0m \u001b[0moptions\u001b[0m\u001b[0;34m.\u001b[0m\u001b[0muser_requested\u001b[0m \u001b[0;32mand\u001b[0m \u001b[0mconversion\u001b[0m\u001b[0;34m.\u001b[0m\u001b[0mis_allowlisted\u001b[0m\u001b[0;34m(\u001b[0m\u001b[0mf\u001b[0m\u001b[0;34m)\u001b[0m\u001b[0;34m:\u001b[0m\u001b[0;34m\u001b[0m\u001b[0;34m\u001b[0m\u001b[0m\n\u001b[0;32m--> 377\u001b[0;31m     \u001b[0;32mreturn\u001b[0m \u001b[0m_call_unconverted\u001b[0m\u001b[0;34m(\u001b[0m\u001b[0mf\u001b[0m\u001b[0;34m,\u001b[0m \u001b[0margs\u001b[0m\u001b[0;34m,\u001b[0m \u001b[0mkwargs\u001b[0m\u001b[0;34m,\u001b[0m \u001b[0moptions\u001b[0m\u001b[0;34m)\u001b[0m\u001b[0;34m\u001b[0m\u001b[0;34m\u001b[0m\u001b[0m\n\u001b[0m\u001b[1;32m    378\u001b[0m \u001b[0;34m\u001b[0m\u001b[0m\n\u001b[1;32m    379\u001b[0m   \u001b[0;31m# internal_convert_user_code is for example turned off when issuing a dynamic\u001b[0m\u001b[0;34m\u001b[0m\u001b[0;34m\u001b[0m\u001b[0m\n",
            "\u001b[0;32m/usr/local/lib/python3.10/dist-packages/tensorflow/python/autograph/impl/api.py\u001b[0m in \u001b[0;36m_call_unconverted\u001b[0;34m(f, args, kwargs, options, update_cache)\u001b[0m\n\u001b[1;32m    457\u001b[0m \u001b[0;34m\u001b[0m\u001b[0m\n\u001b[1;32m    458\u001b[0m   \u001b[0;32mif\u001b[0m \u001b[0mkwargs\u001b[0m \u001b[0;32mis\u001b[0m \u001b[0;32mnot\u001b[0m \u001b[0;32mNone\u001b[0m\u001b[0;34m:\u001b[0m\u001b[0;34m\u001b[0m\u001b[0;34m\u001b[0m\u001b[0m\n\u001b[0;32m--> 459\u001b[0;31m     \u001b[0;32mreturn\u001b[0m \u001b[0mf\u001b[0m\u001b[0;34m(\u001b[0m\u001b[0;34m*\u001b[0m\u001b[0margs\u001b[0m\u001b[0;34m,\u001b[0m \u001b[0;34m**\u001b[0m\u001b[0mkwargs\u001b[0m\u001b[0;34m)\u001b[0m\u001b[0;34m\u001b[0m\u001b[0;34m\u001b[0m\u001b[0m\n\u001b[0m\u001b[1;32m    460\u001b[0m   \u001b[0;32mreturn\u001b[0m \u001b[0mf\u001b[0m\u001b[0;34m(\u001b[0m\u001b[0;34m*\u001b[0m\u001b[0margs\u001b[0m\u001b[0;34m)\u001b[0m\u001b[0;34m\u001b[0m\u001b[0;34m\u001b[0m\u001b[0m\n\u001b[1;32m    461\u001b[0m \u001b[0;34m\u001b[0m\u001b[0m\n",
            "\u001b[0;32m/usr/local/lib/python3.10/dist-packages/keras/src/engine/training.py\u001b[0m in \u001b[0;36mrun_step\u001b[0;34m(data)\u001b[0m\n\u001b[1;32m   1371\u001b[0m \u001b[0;34m\u001b[0m\u001b[0m\n\u001b[1;32m   1372\u001b[0m             \u001b[0;32mdef\u001b[0m \u001b[0mrun_step\u001b[0m\u001b[0;34m(\u001b[0m\u001b[0mdata\u001b[0m\u001b[0;34m)\u001b[0m\u001b[0;34m:\u001b[0m\u001b[0;34m\u001b[0m\u001b[0;34m\u001b[0m\u001b[0m\n\u001b[0;32m-> 1373\u001b[0;31m                 \u001b[0moutputs\u001b[0m \u001b[0;34m=\u001b[0m \u001b[0mmodel\u001b[0m\u001b[0;34m.\u001b[0m\u001b[0mtrain_step\u001b[0m\u001b[0;34m(\u001b[0m\u001b[0mdata\u001b[0m\u001b[0;34m)\u001b[0m\u001b[0;34m\u001b[0m\u001b[0;34m\u001b[0m\u001b[0m\n\u001b[0m\u001b[1;32m   1374\u001b[0m                 \u001b[0;31m# Ensure counter is updated only if `train_step` succeeds.\u001b[0m\u001b[0;34m\u001b[0m\u001b[0;34m\u001b[0m\u001b[0m\n\u001b[1;32m   1375\u001b[0m                 \u001b[0;32mwith\u001b[0m \u001b[0mtf\u001b[0m\u001b[0;34m.\u001b[0m\u001b[0mcontrol_dependencies\u001b[0m\u001b[0;34m(\u001b[0m\u001b[0m_minimum_control_deps\u001b[0m\u001b[0;34m(\u001b[0m\u001b[0moutputs\u001b[0m\u001b[0;34m)\u001b[0m\u001b[0;34m)\u001b[0m\u001b[0;34m:\u001b[0m\u001b[0;34m\u001b[0m\u001b[0;34m\u001b[0m\u001b[0m\n",
            "\u001b[0;32m/usr/local/lib/python3.10/dist-packages/keras/src/engine/training.py\u001b[0m in \u001b[0;36mtrain_step\u001b[0;34m(self, data)\u001b[0m\n\u001b[1;32m   1152\u001b[0m         \u001b[0mself\u001b[0m\u001b[0;34m.\u001b[0m\u001b[0m_validate_target_and_loss\u001b[0m\u001b[0;34m(\u001b[0m\u001b[0my\u001b[0m\u001b[0;34m,\u001b[0m \u001b[0mloss\u001b[0m\u001b[0;34m)\u001b[0m\u001b[0;34m\u001b[0m\u001b[0;34m\u001b[0m\u001b[0m\n\u001b[1;32m   1153\u001b[0m         \u001b[0;31m# Run backwards pass.\u001b[0m\u001b[0;34m\u001b[0m\u001b[0;34m\u001b[0m\u001b[0m\n\u001b[0;32m-> 1154\u001b[0;31m         \u001b[0mself\u001b[0m\u001b[0;34m.\u001b[0m\u001b[0moptimizer\u001b[0m\u001b[0;34m.\u001b[0m\u001b[0mminimize\u001b[0m\u001b[0;34m(\u001b[0m\u001b[0mloss\u001b[0m\u001b[0;34m,\u001b[0m \u001b[0mself\u001b[0m\u001b[0;34m.\u001b[0m\u001b[0mtrainable_variables\u001b[0m\u001b[0;34m,\u001b[0m \u001b[0mtape\u001b[0m\u001b[0;34m=\u001b[0m\u001b[0mtape\u001b[0m\u001b[0;34m)\u001b[0m\u001b[0;34m\u001b[0m\u001b[0;34m\u001b[0m\u001b[0m\n\u001b[0m\u001b[1;32m   1155\u001b[0m         \u001b[0;32mreturn\u001b[0m \u001b[0mself\u001b[0m\u001b[0;34m.\u001b[0m\u001b[0mcompute_metrics\u001b[0m\u001b[0;34m(\u001b[0m\u001b[0mx\u001b[0m\u001b[0;34m,\u001b[0m \u001b[0my\u001b[0m\u001b[0;34m,\u001b[0m \u001b[0my_pred\u001b[0m\u001b[0;34m,\u001b[0m \u001b[0msample_weight\u001b[0m\u001b[0;34m)\u001b[0m\u001b[0;34m\u001b[0m\u001b[0;34m\u001b[0m\u001b[0m\n\u001b[1;32m   1156\u001b[0m \u001b[0;34m\u001b[0m\u001b[0m\n",
            "\u001b[0;32m/usr/local/lib/python3.10/dist-packages/keras/src/optimizers/optimizer.py\u001b[0m in \u001b[0;36mminimize\u001b[0;34m(self, loss, var_list, tape)\u001b[0m\n\u001b[1;32m    541\u001b[0m           \u001b[0;32mNone\u001b[0m\u001b[0;34m\u001b[0m\u001b[0;34m\u001b[0m\u001b[0m\n\u001b[1;32m    542\u001b[0m         \"\"\"\n\u001b[0;32m--> 543\u001b[0;31m         \u001b[0mgrads_and_vars\u001b[0m \u001b[0;34m=\u001b[0m \u001b[0mself\u001b[0m\u001b[0;34m.\u001b[0m\u001b[0mcompute_gradients\u001b[0m\u001b[0;34m(\u001b[0m\u001b[0mloss\u001b[0m\u001b[0;34m,\u001b[0m \u001b[0mvar_list\u001b[0m\u001b[0;34m,\u001b[0m \u001b[0mtape\u001b[0m\u001b[0;34m)\u001b[0m\u001b[0;34m\u001b[0m\u001b[0;34m\u001b[0m\u001b[0m\n\u001b[0m\u001b[1;32m    544\u001b[0m         \u001b[0mself\u001b[0m\u001b[0;34m.\u001b[0m\u001b[0mapply_gradients\u001b[0m\u001b[0;34m(\u001b[0m\u001b[0mgrads_and_vars\u001b[0m\u001b[0;34m)\u001b[0m\u001b[0;34m\u001b[0m\u001b[0;34m\u001b[0m\u001b[0m\n\u001b[1;32m    545\u001b[0m \u001b[0;34m\u001b[0m\u001b[0m\n",
            "\u001b[0;32m/usr/local/lib/python3.10/dist-packages/keras/src/optimizers/optimizer.py\u001b[0m in \u001b[0;36mcompute_gradients\u001b[0;34m(self, loss, var_list, tape)\u001b[0m\n\u001b[1;32m    274\u001b[0m                     \u001b[0mvar_list\u001b[0m \u001b[0;34m=\u001b[0m \u001b[0mvar_list\u001b[0m\u001b[0;34m(\u001b[0m\u001b[0;34m)\u001b[0m\u001b[0;34m\u001b[0m\u001b[0;34m\u001b[0m\u001b[0m\n\u001b[1;32m    275\u001b[0m \u001b[0;34m\u001b[0m\u001b[0m\n\u001b[0;32m--> 276\u001b[0;31m         \u001b[0mgrads\u001b[0m \u001b[0;34m=\u001b[0m \u001b[0mtape\u001b[0m\u001b[0;34m.\u001b[0m\u001b[0mgradient\u001b[0m\u001b[0;34m(\u001b[0m\u001b[0mloss\u001b[0m\u001b[0;34m,\u001b[0m \u001b[0mvar_list\u001b[0m\u001b[0;34m)\u001b[0m\u001b[0;34m\u001b[0m\u001b[0;34m\u001b[0m\u001b[0m\n\u001b[0m\u001b[1;32m    277\u001b[0m         \u001b[0;32mreturn\u001b[0m \u001b[0mlist\u001b[0m\u001b[0;34m(\u001b[0m\u001b[0mzip\u001b[0m\u001b[0;34m(\u001b[0m\u001b[0mgrads\u001b[0m\u001b[0;34m,\u001b[0m \u001b[0mvar_list\u001b[0m\u001b[0;34m)\u001b[0m\u001b[0;34m)\u001b[0m\u001b[0;34m\u001b[0m\u001b[0;34m\u001b[0m\u001b[0m\n\u001b[1;32m    278\u001b[0m \u001b[0;34m\u001b[0m\u001b[0m\n",
            "\u001b[0;32m/usr/local/lib/python3.10/dist-packages/tensorflow/python/eager/backprop.py\u001b[0m in \u001b[0;36mgradient\u001b[0;34m(self, target, sources, output_gradients, unconnected_gradients)\u001b[0m\n\u001b[1;32m   1064\u001b[0m                           for x in output_gradients]\n\u001b[1;32m   1065\u001b[0m \u001b[0;34m\u001b[0m\u001b[0m\n\u001b[0;32m-> 1066\u001b[0;31m     flat_grad = imperative_grad.imperative_grad(\n\u001b[0m\u001b[1;32m   1067\u001b[0m         \u001b[0mself\u001b[0m\u001b[0;34m.\u001b[0m\u001b[0m_tape\u001b[0m\u001b[0;34m,\u001b[0m\u001b[0;34m\u001b[0m\u001b[0;34m\u001b[0m\u001b[0m\n\u001b[1;32m   1068\u001b[0m         \u001b[0mflat_targets\u001b[0m\u001b[0;34m,\u001b[0m\u001b[0;34m\u001b[0m\u001b[0;34m\u001b[0m\u001b[0m\n",
            "\u001b[0;32m/usr/local/lib/python3.10/dist-packages/tensorflow/python/eager/imperative_grad.py\u001b[0m in \u001b[0;36mimperative_grad\u001b[0;34m(tape, target, sources, output_gradients, sources_raw, unconnected_gradients)\u001b[0m\n\u001b[1;32m     65\u001b[0m         \"Unknown value for unconnected_gradients: %r\" % unconnected_gradients)\n\u001b[1;32m     66\u001b[0m \u001b[0;34m\u001b[0m\u001b[0m\n\u001b[0;32m---> 67\u001b[0;31m   return pywrap_tfe.TFE_Py_TapeGradient(\n\u001b[0m\u001b[1;32m     68\u001b[0m       \u001b[0mtape\u001b[0m\u001b[0;34m.\u001b[0m\u001b[0m_tape\u001b[0m\u001b[0;34m,\u001b[0m  \u001b[0;31m# pylint: disable=protected-access\u001b[0m\u001b[0;34m\u001b[0m\u001b[0;34m\u001b[0m\u001b[0m\n\u001b[1;32m     69\u001b[0m       \u001b[0mtarget\u001b[0m\u001b[0;34m,\u001b[0m\u001b[0;34m\u001b[0m\u001b[0;34m\u001b[0m\u001b[0m\n",
            "\u001b[0;32m/usr/local/lib/python3.10/dist-packages/tensorflow/python/eager/polymorphic_function/concrete_function.py\u001b[0m in \u001b[0;36m_backward_function\u001b[0;34m(*args)\u001b[0m\n\u001b[1;32m    309\u001b[0m     \u001b[0;32mdef\u001b[0m \u001b[0m_backward_function\u001b[0m\u001b[0;34m(\u001b[0m\u001b[0;34m*\u001b[0m\u001b[0margs\u001b[0m\u001b[0;34m)\u001b[0m\u001b[0;34m:\u001b[0m\u001b[0;34m\u001b[0m\u001b[0;34m\u001b[0m\u001b[0m\n\u001b[1;32m    310\u001b[0m       \u001b[0mcall_op\u001b[0m \u001b[0;34m=\u001b[0m \u001b[0moutputs\u001b[0m\u001b[0;34m[\u001b[0m\u001b[0;36m0\u001b[0m\u001b[0;34m]\u001b[0m\u001b[0;34m.\u001b[0m\u001b[0mop\u001b[0m\u001b[0;34m\u001b[0m\u001b[0;34m\u001b[0m\u001b[0m\n\u001b[0;32m--> 311\u001b[0;31m       \u001b[0;32mreturn\u001b[0m \u001b[0mself\u001b[0m\u001b[0;34m.\u001b[0m\u001b[0m_rewrite_forward_and_call_backward\u001b[0m\u001b[0;34m(\u001b[0m\u001b[0mcall_op\u001b[0m\u001b[0;34m,\u001b[0m \u001b[0;34m*\u001b[0m\u001b[0margs\u001b[0m\u001b[0;34m)\u001b[0m\u001b[0;34m\u001b[0m\u001b[0;34m\u001b[0m\u001b[0m\n\u001b[0m\u001b[1;32m    312\u001b[0m     \u001b[0;32mreturn\u001b[0m \u001b[0m_backward_function\u001b[0m\u001b[0;34m,\u001b[0m \u001b[0moutputs\u001b[0m\u001b[0;34m\u001b[0m\u001b[0;34m\u001b[0m\u001b[0m\n\u001b[1;32m    313\u001b[0m \u001b[0;34m\u001b[0m\u001b[0m\n",
            "\u001b[0;32m/usr/local/lib/python3.10/dist-packages/tensorflow/python/eager/polymorphic_function/concrete_function.py\u001b[0m in \u001b[0;36m_rewrite_forward_and_call_backward\u001b[0;34m(self, op, *doutputs)\u001b[0m\n\u001b[1;32m    210\u001b[0m   \u001b[0;32mdef\u001b[0m \u001b[0m_rewrite_forward_and_call_backward\u001b[0m\u001b[0;34m(\u001b[0m\u001b[0mself\u001b[0m\u001b[0;34m,\u001b[0m \u001b[0mop\u001b[0m\u001b[0;34m:\u001b[0m \u001b[0mops\u001b[0m\u001b[0;34m.\u001b[0m\u001b[0mOperation\u001b[0m\u001b[0;34m,\u001b[0m \u001b[0;34m*\u001b[0m\u001b[0mdoutputs\u001b[0m\u001b[0;34m)\u001b[0m\u001b[0;34m:\u001b[0m\u001b[0;34m\u001b[0m\u001b[0;34m\u001b[0m\u001b[0m\n\u001b[1;32m    211\u001b[0m     \u001b[0;34m\"\"\"Add outputs to the forward call and feed them to the grad function.\"\"\"\u001b[0m\u001b[0;34m\u001b[0m\u001b[0;34m\u001b[0m\u001b[0m\n\u001b[0;32m--> 212\u001b[0;31m     \u001b[0mforward_function\u001b[0m\u001b[0;34m,\u001b[0m \u001b[0mbackwards_function\u001b[0m \u001b[0;34m=\u001b[0m \u001b[0mself\u001b[0m\u001b[0;34m.\u001b[0m\u001b[0mforward_backward\u001b[0m\u001b[0;34m(\u001b[0m\u001b[0mlen\u001b[0m\u001b[0;34m(\u001b[0m\u001b[0mdoutputs\u001b[0m\u001b[0;34m)\u001b[0m\u001b[0;34m)\u001b[0m\u001b[0;34m\u001b[0m\u001b[0;34m\u001b[0m\u001b[0m\n\u001b[0m\u001b[1;32m    213\u001b[0m     \u001b[0;32mif\u001b[0m \u001b[0;32mnot\u001b[0m \u001b[0mbackwards_function\u001b[0m\u001b[0;34m.\u001b[0m\u001b[0moutputs\u001b[0m\u001b[0;34m:\u001b[0m\u001b[0;34m\u001b[0m\u001b[0;34m\u001b[0m\u001b[0m\n\u001b[1;32m    214\u001b[0m       \u001b[0;32mreturn\u001b[0m \u001b[0mbackwards_function\u001b[0m\u001b[0;34m.\u001b[0m\u001b[0mstructured_outputs\u001b[0m\u001b[0;34m\u001b[0m\u001b[0;34m\u001b[0m\u001b[0m\n",
            "\u001b[0;32m/usr/local/lib/python3.10/dist-packages/tensorflow/python/eager/polymorphic_function/concrete_function.py\u001b[0m in \u001b[0;36mforward_backward\u001b[0;34m(self, num_doutputs)\u001b[0m\n\u001b[1;32m    143\u001b[0m     \u001b[0;32mif\u001b[0m \u001b[0mforward_backward\u001b[0m \u001b[0;32mis\u001b[0m \u001b[0;32mnot\u001b[0m \u001b[0;32mNone\u001b[0m\u001b[0;34m:\u001b[0m\u001b[0;34m\u001b[0m\u001b[0;34m\u001b[0m\u001b[0m\n\u001b[1;32m    144\u001b[0m       \u001b[0;32mreturn\u001b[0m \u001b[0mforward_backward\u001b[0m\u001b[0;34m\u001b[0m\u001b[0;34m\u001b[0m\u001b[0m\n\u001b[0;32m--> 145\u001b[0;31m     \u001b[0mforward\u001b[0m\u001b[0;34m,\u001b[0m \u001b[0mbackward\u001b[0m \u001b[0;34m=\u001b[0m \u001b[0mself\u001b[0m\u001b[0;34m.\u001b[0m\u001b[0m_construct_forward_backward\u001b[0m\u001b[0;34m(\u001b[0m\u001b[0mnum_doutputs\u001b[0m\u001b[0;34m)\u001b[0m\u001b[0;34m\u001b[0m\u001b[0;34m\u001b[0m\u001b[0m\n\u001b[0m\u001b[1;32m    146\u001b[0m     \u001b[0mself\u001b[0m\u001b[0;34m.\u001b[0m\u001b[0m_cached_function_pairs\u001b[0m\u001b[0;34m[\u001b[0m\u001b[0mnum_doutputs\u001b[0m\u001b[0;34m]\u001b[0m \u001b[0;34m=\u001b[0m \u001b[0;34m(\u001b[0m\u001b[0mforward\u001b[0m\u001b[0;34m,\u001b[0m \u001b[0mbackward\u001b[0m\u001b[0;34m)\u001b[0m\u001b[0;34m\u001b[0m\u001b[0;34m\u001b[0m\u001b[0m\n\u001b[1;32m    147\u001b[0m     \u001b[0;32mreturn\u001b[0m \u001b[0mforward\u001b[0m\u001b[0;34m,\u001b[0m \u001b[0mbackward\u001b[0m\u001b[0;34m\u001b[0m\u001b[0;34m\u001b[0m\u001b[0m\n",
            "\u001b[0;32m/usr/local/lib/python3.10/dist-packages/tensorflow/python/eager/polymorphic_function/concrete_function.py\u001b[0m in \u001b[0;36m_construct_forward_backward\u001b[0;34m(self, num_doutputs)\u001b[0m\n\u001b[1;32m    186\u001b[0m       backwards_graph = func_graph_module.FuncGraph(\n\u001b[1;32m    187\u001b[0m           _backward_name(self._func_graph.name))\n\u001b[0;32m--> 188\u001b[0;31m       func_graph_module.func_graph_from_py_func(\n\u001b[0m\u001b[1;32m    189\u001b[0m           \u001b[0mname\u001b[0m\u001b[0;34m=\u001b[0m\u001b[0mbackwards_graph\u001b[0m\u001b[0;34m.\u001b[0m\u001b[0mname\u001b[0m\u001b[0;34m,\u001b[0m\u001b[0;34m\u001b[0m\u001b[0;34m\u001b[0m\u001b[0m\n\u001b[1;32m    190\u001b[0m           \u001b[0mpython_func\u001b[0m\u001b[0;34m=\u001b[0m\u001b[0m_backprop_function\u001b[0m\u001b[0;34m,\u001b[0m\u001b[0;34m\u001b[0m\u001b[0;34m\u001b[0m\u001b[0m\n",
            "\u001b[0;32m/usr/local/lib/python3.10/dist-packages/tensorflow/python/framework/func_graph.py\u001b[0m in \u001b[0;36mfunc_graph_from_py_func\u001b[0;34m(name, python_func, args, kwargs, signature, func_graph, add_control_dependencies, arg_names, op_return_value, collections, capture_by_value, create_placeholders)\u001b[0m\n\u001b[1;32m   1057\u001b[0m \u001b[0;34m\u001b[0m\u001b[0m\n\u001b[1;32m   1058\u001b[0m     \u001b[0m_\u001b[0m\u001b[0;34m,\u001b[0m \u001b[0moriginal_func\u001b[0m \u001b[0;34m=\u001b[0m \u001b[0mtf_decorator\u001b[0m\u001b[0;34m.\u001b[0m\u001b[0munwrap\u001b[0m\u001b[0;34m(\u001b[0m\u001b[0mpython_func\u001b[0m\u001b[0;34m)\u001b[0m\u001b[0;34m\u001b[0m\u001b[0;34m\u001b[0m\u001b[0m\n\u001b[0;32m-> 1059\u001b[0;31m     \u001b[0mfunc_outputs\u001b[0m \u001b[0;34m=\u001b[0m \u001b[0mpython_func\u001b[0m\u001b[0;34m(\u001b[0m\u001b[0;34m*\u001b[0m\u001b[0mfunc_args\u001b[0m\u001b[0;34m,\u001b[0m \u001b[0;34m**\u001b[0m\u001b[0mfunc_kwargs\u001b[0m\u001b[0;34m)\u001b[0m\u001b[0;34m\u001b[0m\u001b[0;34m\u001b[0m\u001b[0m\n\u001b[0m\u001b[1;32m   1060\u001b[0m \u001b[0;34m\u001b[0m\u001b[0m\n\u001b[1;32m   1061\u001b[0m     \u001b[0;31m# invariant: `func_outputs` contains only Tensors, CompositeTensors,\u001b[0m\u001b[0;34m\u001b[0m\u001b[0;34m\u001b[0m\u001b[0m\n",
            "\u001b[0;32m/usr/local/lib/python3.10/dist-packages/tensorflow/python/eager/polymorphic_function/concrete_function.py\u001b[0m in \u001b[0;36m_backprop_function\u001b[0;34m(*grad_ys)\u001b[0m\n\u001b[1;32m    177\u001b[0m     \u001b[0;32mdef\u001b[0m \u001b[0m_backprop_function\u001b[0m\u001b[0;34m(\u001b[0m\u001b[0;34m*\u001b[0m\u001b[0mgrad_ys\u001b[0m\u001b[0;34m)\u001b[0m\u001b[0;34m:\u001b[0m\u001b[0;34m\u001b[0m\u001b[0;34m\u001b[0m\u001b[0m\n\u001b[1;32m    178\u001b[0m       \u001b[0;32mwith\u001b[0m \u001b[0mops\u001b[0m\u001b[0;34m.\u001b[0m\u001b[0mdevice\u001b[0m\u001b[0;34m(\u001b[0m\u001b[0;32mNone\u001b[0m\u001b[0;34m)\u001b[0m\u001b[0;34m:\u001b[0m\u001b[0;34m\u001b[0m\u001b[0;34m\u001b[0m\u001b[0m\n\u001b[0;32m--> 179\u001b[0;31m         return gradients_util._GradientsHelper(  # pylint: disable=protected-access\n\u001b[0m\u001b[1;32m    180\u001b[0m             \u001b[0mtrainable_outputs\u001b[0m\u001b[0;34m,\u001b[0m\u001b[0;34m\u001b[0m\u001b[0;34m\u001b[0m\u001b[0m\n\u001b[1;32m    181\u001b[0m             \u001b[0mself\u001b[0m\u001b[0;34m.\u001b[0m\u001b[0m_func_graph\u001b[0m\u001b[0;34m.\u001b[0m\u001b[0minputs\u001b[0m\u001b[0;34m,\u001b[0m\u001b[0;34m\u001b[0m\u001b[0;34m\u001b[0m\u001b[0m\n",
            "\u001b[0;32m/usr/local/lib/python3.10/dist-packages/tensorflow/python/ops/gradients_util.py\u001b[0m in \u001b[0;36m_GradientsHelper\u001b[0;34m(ys, xs, grad_ys, name, colocate_gradients_with_ops, gate_gradients, aggregation_method, stop_gradients, unconnected_gradients, src_graph)\u001b[0m\n\u001b[1;32m    731\u001b[0m                 \u001b[0;31m# If grad_fn was found, do not use SymbolicGradient even for\u001b[0m\u001b[0;34m\u001b[0m\u001b[0;34m\u001b[0m\u001b[0m\n\u001b[1;32m    732\u001b[0m                 \u001b[0;31m# functions.\u001b[0m\u001b[0;34m\u001b[0m\u001b[0;34m\u001b[0m\u001b[0m\n\u001b[0;32m--> 733\u001b[0;31m                 in_grads = _MaybeCompile(grad_scope, op, func_call,\n\u001b[0m\u001b[1;32m    734\u001b[0m                                          lambda: grad_fn(op, *out_grads))\n\u001b[1;32m    735\u001b[0m               \u001b[0;32melse\u001b[0m\u001b[0;34m:\u001b[0m\u001b[0;34m\u001b[0m\u001b[0;34m\u001b[0m\u001b[0m\n",
            "\u001b[0;32m/usr/local/lib/python3.10/dist-packages/tensorflow/python/ops/gradients_util.py\u001b[0m in \u001b[0;36m_MaybeCompile\u001b[0;34m(scope, op, func, grad_fn)\u001b[0m\n\u001b[1;32m    363\u001b[0m \u001b[0;34m\u001b[0m\u001b[0m\n\u001b[1;32m    364\u001b[0m   \u001b[0;32mif\u001b[0m \u001b[0;32mnot\u001b[0m \u001b[0mxla_compile\u001b[0m\u001b[0;34m:\u001b[0m\u001b[0;34m\u001b[0m\u001b[0;34m\u001b[0m\u001b[0m\n\u001b[0;32m--> 365\u001b[0;31m     \u001b[0;32mreturn\u001b[0m \u001b[0mgrad_fn\u001b[0m\u001b[0;34m(\u001b[0m\u001b[0;34m)\u001b[0m  \u001b[0;31m# Exit early\u001b[0m\u001b[0;34m\u001b[0m\u001b[0;34m\u001b[0m\u001b[0m\n\u001b[0m\u001b[1;32m    366\u001b[0m \u001b[0;34m\u001b[0m\u001b[0m\n\u001b[1;32m    367\u001b[0m   \u001b[0;31m# If the gradients are supposed to be compiled separately, we give them a\u001b[0m\u001b[0;34m\u001b[0m\u001b[0;34m\u001b[0m\u001b[0m\n",
            "\u001b[0;32m/usr/local/lib/python3.10/dist-packages/tensorflow/python/ops/gradients_util.py\u001b[0m in \u001b[0;36m<lambda>\u001b[0;34m()\u001b[0m\n\u001b[1;32m    732\u001b[0m                 \u001b[0;31m# functions.\u001b[0m\u001b[0;34m\u001b[0m\u001b[0;34m\u001b[0m\u001b[0m\n\u001b[1;32m    733\u001b[0m                 in_grads = _MaybeCompile(grad_scope, op, func_call,\n\u001b[0;32m--> 734\u001b[0;31m                                          lambda: grad_fn(op, *out_grads))\n\u001b[0m\u001b[1;32m    735\u001b[0m               \u001b[0;32melse\u001b[0m\u001b[0;34m:\u001b[0m\u001b[0;34m\u001b[0m\u001b[0;34m\u001b[0m\u001b[0m\n\u001b[1;32m    736\u001b[0m                 \u001b[0;31m# For function call ops, we add a 'SymbolicGradient'\u001b[0m\u001b[0;34m\u001b[0m\u001b[0;34m\u001b[0m\u001b[0m\n",
            "\u001b[0;32m/usr/local/lib/python3.10/dist-packages/tensorflow/python/ops/while_v2.py\u001b[0m in \u001b[0;36m_WhileGrad\u001b[0;34m(op, *grads)\u001b[0m\n\u001b[1;32m    367\u001b[0m       body_graph.outputs, body_graph.inputs, grads) if grad is not None])\n\u001b[1;32m    368\u001b[0m \u001b[0;34m\u001b[0m\u001b[0m\n\u001b[0;32m--> 369\u001b[0;31m   body_grad_graph, args = _create_grad_func(\n\u001b[0m\u001b[1;32m    370\u001b[0m       \u001b[0mys\u001b[0m\u001b[0;34m,\u001b[0m \u001b[0mxs\u001b[0m\u001b[0;34m,\u001b[0m \u001b[0mnon_none_grads\u001b[0m\u001b[0;34m,\u001b[0m \u001b[0mcond_graph\u001b[0m\u001b[0;34m,\u001b[0m \u001b[0mbody_graph\u001b[0m\u001b[0;34m,\u001b[0m\u001b[0;34m\u001b[0m\u001b[0;34m\u001b[0m\u001b[0m\n\u001b[1;32m    371\u001b[0m       util.unique_grad_fn_name(body_graph.name), op, maximum_iterations)\n",
            "\u001b[0;32m/usr/local/lib/python3.10/dist-packages/tensorflow/python/ops/while_v2.py\u001b[0m in \u001b[0;36m_create_grad_func\u001b[0;34m(ys, xs, grads, cond_graph, body_graph, name, while_op, maximum_iterations)\u001b[0m\n\u001b[1;32m    663\u001b[0m   \u001b[0;31m# Note: The returned function does not have `args` in the list of\u001b[0m\u001b[0;34m\u001b[0m\u001b[0;34m\u001b[0m\u001b[0m\n\u001b[1;32m    664\u001b[0m   \u001b[0;31m# `external_captures`.\u001b[0m\u001b[0;34m\u001b[0m\u001b[0;34m\u001b[0m\u001b[0m\n\u001b[0;32m--> 665\u001b[0;31m   grad_func_graph = func_graph_module.func_graph_from_py_func(\n\u001b[0m\u001b[1;32m    666\u001b[0m       \u001b[0mname\u001b[0m\u001b[0;34m,\u001b[0m\u001b[0;34m\u001b[0m\u001b[0;34m\u001b[0m\u001b[0m\n\u001b[1;32m    667\u001b[0m       \u001b[0;32mlambda\u001b[0m \u001b[0;34m*\u001b[0m\u001b[0margs\u001b[0m\u001b[0;34m:\u001b[0m \u001b[0m_grad_fn\u001b[0m\u001b[0;34m(\u001b[0m\u001b[0mys\u001b[0m\u001b[0;34m,\u001b[0m \u001b[0mxs\u001b[0m\u001b[0;34m,\u001b[0m \u001b[0margs\u001b[0m\u001b[0;34m,\u001b[0m \u001b[0mbody_graph\u001b[0m\u001b[0;34m)\u001b[0m\u001b[0;34m,\u001b[0m\u001b[0;34m\u001b[0m\u001b[0;34m\u001b[0m\u001b[0m\n",
            "\u001b[0;32m/usr/local/lib/python3.10/dist-packages/tensorflow/python/framework/func_graph.py\u001b[0m in \u001b[0;36mfunc_graph_from_py_func\u001b[0;34m(name, python_func, args, kwargs, signature, func_graph, add_control_dependencies, arg_names, op_return_value, collections, capture_by_value, create_placeholders)\u001b[0m\n\u001b[1;32m   1057\u001b[0m \u001b[0;34m\u001b[0m\u001b[0m\n\u001b[1;32m   1058\u001b[0m     \u001b[0m_\u001b[0m\u001b[0;34m,\u001b[0m \u001b[0moriginal_func\u001b[0m \u001b[0;34m=\u001b[0m \u001b[0mtf_decorator\u001b[0m\u001b[0;34m.\u001b[0m\u001b[0munwrap\u001b[0m\u001b[0;34m(\u001b[0m\u001b[0mpython_func\u001b[0m\u001b[0;34m)\u001b[0m\u001b[0;34m\u001b[0m\u001b[0;34m\u001b[0m\u001b[0m\n\u001b[0;32m-> 1059\u001b[0;31m     \u001b[0mfunc_outputs\u001b[0m \u001b[0;34m=\u001b[0m \u001b[0mpython_func\u001b[0m\u001b[0;34m(\u001b[0m\u001b[0;34m*\u001b[0m\u001b[0mfunc_args\u001b[0m\u001b[0;34m,\u001b[0m \u001b[0;34m**\u001b[0m\u001b[0mfunc_kwargs\u001b[0m\u001b[0;34m)\u001b[0m\u001b[0;34m\u001b[0m\u001b[0;34m\u001b[0m\u001b[0m\n\u001b[0m\u001b[1;32m   1060\u001b[0m \u001b[0;34m\u001b[0m\u001b[0m\n\u001b[1;32m   1061\u001b[0m     \u001b[0;31m# invariant: `func_outputs` contains only Tensors, CompositeTensors,\u001b[0m\u001b[0;34m\u001b[0m\u001b[0;34m\u001b[0m\u001b[0m\n",
            "\u001b[0;32m/usr/local/lib/python3.10/dist-packages/tensorflow/python/ops/while_v2.py\u001b[0m in \u001b[0;36m<lambda>\u001b[0;34m(*args)\u001b[0m\n\u001b[1;32m    665\u001b[0m   grad_func_graph = func_graph_module.func_graph_from_py_func(\n\u001b[1;32m    666\u001b[0m       \u001b[0mname\u001b[0m\u001b[0;34m,\u001b[0m\u001b[0;34m\u001b[0m\u001b[0;34m\u001b[0m\u001b[0m\n\u001b[0;32m--> 667\u001b[0;31m       \u001b[0;32mlambda\u001b[0m \u001b[0;34m*\u001b[0m\u001b[0margs\u001b[0m\u001b[0;34m:\u001b[0m \u001b[0m_grad_fn\u001b[0m\u001b[0;34m(\u001b[0m\u001b[0mys\u001b[0m\u001b[0;34m,\u001b[0m \u001b[0mxs\u001b[0m\u001b[0;34m,\u001b[0m \u001b[0margs\u001b[0m\u001b[0;34m,\u001b[0m \u001b[0mbody_graph\u001b[0m\u001b[0;34m)\u001b[0m\u001b[0;34m,\u001b[0m\u001b[0;34m\u001b[0m\u001b[0;34m\u001b[0m\u001b[0m\n\u001b[0m\u001b[1;32m    668\u001b[0m       \u001b[0margs\u001b[0m\u001b[0;34m,\u001b[0m \u001b[0;34m{\u001b[0m\u001b[0;34m}\u001b[0m\u001b[0;34m,\u001b[0m\u001b[0;34m\u001b[0m\u001b[0;34m\u001b[0m\u001b[0m\n\u001b[1;32m    669\u001b[0m       func_graph=_WhileBodyGradFuncGraph(name, cond_graph, body_graph,\n",
            "\u001b[0;32m/usr/local/lib/python3.10/dist-packages/tensorflow/python/ops/while_v2.py\u001b[0m in \u001b[0;36m_grad_fn\u001b[0;34m(ys, xs, args, func_graph)\u001b[0m\n\u001b[1;32m    720\u001b[0m   \u001b[0;31m# after the forward While op has been rewritten in _resolve_grad_captures.\u001b[0m\u001b[0;34m\u001b[0m\u001b[0;34m\u001b[0m\u001b[0m\n\u001b[1;32m    721\u001b[0m   \u001b[0;31m# TODO(srbs): Mark GradientsHelper as public?\u001b[0m\u001b[0;34m\u001b[0m\u001b[0;34m\u001b[0m\u001b[0m\n\u001b[0;32m--> 722\u001b[0;31m   grad_outs = gradients_util._GradientsHelper(\n\u001b[0m\u001b[1;32m    723\u001b[0m       \u001b[0mys\u001b[0m\u001b[0;34m,\u001b[0m \u001b[0mxs\u001b[0m\u001b[0;34m,\u001b[0m \u001b[0mgrad_ys\u001b[0m\u001b[0;34m=\u001b[0m\u001b[0mgrad_ys\u001b[0m\u001b[0;34m,\u001b[0m \u001b[0msrc_graph\u001b[0m\u001b[0;34m=\u001b[0m\u001b[0mfunc_graph\u001b[0m\u001b[0;34m,\u001b[0m\u001b[0;34m\u001b[0m\u001b[0;34m\u001b[0m\u001b[0m\n\u001b[1;32m    724\u001b[0m       unconnected_gradients=\"zero\")\n",
            "\u001b[0;32m/usr/local/lib/python3.10/dist-packages/tensorflow/python/ops/gradients_util.py\u001b[0m in \u001b[0;36m_GradientsHelper\u001b[0;34m(ys, xs, grad_ys, name, colocate_gradients_with_ops, gate_gradients, aggregation_method, stop_gradients, unconnected_gradients, src_graph)\u001b[0m\n\u001b[1;32m    731\u001b[0m                 \u001b[0;31m# If grad_fn was found, do not use SymbolicGradient even for\u001b[0m\u001b[0;34m\u001b[0m\u001b[0;34m\u001b[0m\u001b[0m\n\u001b[1;32m    732\u001b[0m                 \u001b[0;31m# functions.\u001b[0m\u001b[0;34m\u001b[0m\u001b[0;34m\u001b[0m\u001b[0m\n\u001b[0;32m--> 733\u001b[0;31m                 in_grads = _MaybeCompile(grad_scope, op, func_call,\n\u001b[0m\u001b[1;32m    734\u001b[0m                                          lambda: grad_fn(op, *out_grads))\n\u001b[1;32m    735\u001b[0m               \u001b[0;32melse\u001b[0m\u001b[0;34m:\u001b[0m\u001b[0;34m\u001b[0m\u001b[0;34m\u001b[0m\u001b[0m\n",
            "\u001b[0;32m/usr/local/lib/python3.10/dist-packages/tensorflow/python/ops/gradients_util.py\u001b[0m in \u001b[0;36m_MaybeCompile\u001b[0;34m(scope, op, func, grad_fn)\u001b[0m\n\u001b[1;32m    363\u001b[0m \u001b[0;34m\u001b[0m\u001b[0m\n\u001b[1;32m    364\u001b[0m   \u001b[0;32mif\u001b[0m \u001b[0;32mnot\u001b[0m \u001b[0mxla_compile\u001b[0m\u001b[0;34m:\u001b[0m\u001b[0;34m\u001b[0m\u001b[0;34m\u001b[0m\u001b[0m\n\u001b[0;32m--> 365\u001b[0;31m     \u001b[0;32mreturn\u001b[0m \u001b[0mgrad_fn\u001b[0m\u001b[0;34m(\u001b[0m\u001b[0;34m)\u001b[0m  \u001b[0;31m# Exit early\u001b[0m\u001b[0;34m\u001b[0m\u001b[0;34m\u001b[0m\u001b[0m\n\u001b[0m\u001b[1;32m    366\u001b[0m \u001b[0;34m\u001b[0m\u001b[0m\n\u001b[1;32m    367\u001b[0m   \u001b[0;31m# If the gradients are supposed to be compiled separately, we give them a\u001b[0m\u001b[0;34m\u001b[0m\u001b[0;34m\u001b[0m\u001b[0m\n",
            "\u001b[0;32m/usr/local/lib/python3.10/dist-packages/tensorflow/python/ops/gradients_util.py\u001b[0m in \u001b[0;36m<lambda>\u001b[0;34m()\u001b[0m\n\u001b[1;32m    732\u001b[0m                 \u001b[0;31m# functions.\u001b[0m\u001b[0;34m\u001b[0m\u001b[0;34m\u001b[0m\u001b[0m\n\u001b[1;32m    733\u001b[0m                 in_grads = _MaybeCompile(grad_scope, op, func_call,\n\u001b[0;32m--> 734\u001b[0;31m                                          lambda: grad_fn(op, *out_grads))\n\u001b[0m\u001b[1;32m    735\u001b[0m               \u001b[0;32melse\u001b[0m\u001b[0;34m:\u001b[0m\u001b[0;34m\u001b[0m\u001b[0;34m\u001b[0m\u001b[0m\n\u001b[1;32m    736\u001b[0m                 \u001b[0;31m# For function call ops, we add a 'SymbolicGradient'\u001b[0m\u001b[0;34m\u001b[0m\u001b[0;34m\u001b[0m\u001b[0m\n",
            "\u001b[0;32m/usr/local/lib/python3.10/dist-packages/tensorflow/python/ops/math_grad.py\u001b[0m in \u001b[0;36m_MulGrad\u001b[0;34m(op, grad)\u001b[0m\n\u001b[1;32m   1432\u001b[0m     \u001b[0mgy\u001b[0m \u001b[0;34m=\u001b[0m \u001b[0;32mNone\u001b[0m\u001b[0;34m\u001b[0m\u001b[0;34m\u001b[0m\u001b[0m\n\u001b[1;32m   1433\u001b[0m   \u001b[0;32melse\u001b[0m\u001b[0;34m:\u001b[0m\u001b[0;34m\u001b[0m\u001b[0;34m\u001b[0m\u001b[0m\n\u001b[0;32m-> 1434\u001b[0;31m     \u001b[0mgy\u001b[0m \u001b[0;34m=\u001b[0m \u001b[0mgen_math_ops\u001b[0m\u001b[0;34m.\u001b[0m\u001b[0mmul\u001b[0m\u001b[0;34m(\u001b[0m\u001b[0mmath_ops\u001b[0m\u001b[0;34m.\u001b[0m\u001b[0mconj\u001b[0m\u001b[0;34m(\u001b[0m\u001b[0mx\u001b[0m\u001b[0;34m)\u001b[0m\u001b[0;34m,\u001b[0m \u001b[0mgrad\u001b[0m\u001b[0;34m)\u001b[0m\u001b[0;34m\u001b[0m\u001b[0;34m\u001b[0m\u001b[0m\n\u001b[0m\u001b[1;32m   1435\u001b[0m \u001b[0;34m\u001b[0m\u001b[0m\n\u001b[1;32m   1436\u001b[0m   \u001b[0;32mreturn\u001b[0m \u001b[0m_ReduceGradientArgs\u001b[0m\u001b[0;34m(\u001b[0m\u001b[0mx\u001b[0m\u001b[0;34m,\u001b[0m \u001b[0my\u001b[0m\u001b[0;34m,\u001b[0m \u001b[0mgx\u001b[0m\u001b[0;34m,\u001b[0m \u001b[0mgy\u001b[0m\u001b[0;34m)\u001b[0m\u001b[0;34m\u001b[0m\u001b[0;34m\u001b[0m\u001b[0m\n",
            "\u001b[0;32m/usr/local/lib/python3.10/dist-packages/tensorflow/python/ops/gen_math_ops.py\u001b[0m in \u001b[0;36mmul\u001b[0;34m(x, y, name)\u001b[0m\n\u001b[1;32m   6762\u001b[0m       \u001b[0;32mpass\u001b[0m  \u001b[0;31m# Add nodes to the TensorFlow graph.\u001b[0m\u001b[0;34m\u001b[0m\u001b[0;34m\u001b[0m\u001b[0m\n\u001b[1;32m   6763\u001b[0m   \u001b[0;31m# Add nodes to the TensorFlow graph.\u001b[0m\u001b[0;34m\u001b[0m\u001b[0;34m\u001b[0m\u001b[0m\n\u001b[0;32m-> 6764\u001b[0;31m   _, _, _op, _outputs = _op_def_library._apply_op_helper(\n\u001b[0m\u001b[1;32m   6765\u001b[0m         \"Mul\", x=x, y=y, name=name)\n\u001b[1;32m   6766\u001b[0m   \u001b[0m_result\u001b[0m \u001b[0;34m=\u001b[0m \u001b[0m_outputs\u001b[0m\u001b[0;34m[\u001b[0m\u001b[0;34m:\u001b[0m\u001b[0;34m]\u001b[0m\u001b[0;34m\u001b[0m\u001b[0;34m\u001b[0m\u001b[0m\n",
            "\u001b[0;32m/usr/local/lib/python3.10/dist-packages/tensorflow/python/framework/op_def_library.py\u001b[0m in \u001b[0;36m_apply_op_helper\u001b[0;34m(op_type_name, name, **keywords)\u001b[0m\n\u001b[1;32m    794\u001b[0m       \u001b[0;31m# Add Op to graph\u001b[0m\u001b[0;34m\u001b[0m\u001b[0;34m\u001b[0m\u001b[0m\n\u001b[1;32m    795\u001b[0m       \u001b[0;31m# pylint: disable=protected-access\u001b[0m\u001b[0;34m\u001b[0m\u001b[0;34m\u001b[0m\u001b[0m\n\u001b[0;32m--> 796\u001b[0;31m       op = g._create_op_internal(op_type_name, inputs, dtypes=None,\n\u001b[0m\u001b[1;32m    797\u001b[0m                                  \u001b[0mname\u001b[0m\u001b[0;34m=\u001b[0m\u001b[0mscope\u001b[0m\u001b[0;34m,\u001b[0m \u001b[0minput_types\u001b[0m\u001b[0;34m=\u001b[0m\u001b[0minput_types\u001b[0m\u001b[0;34m,\u001b[0m\u001b[0;34m\u001b[0m\u001b[0;34m\u001b[0m\u001b[0m\n\u001b[1;32m    798\u001b[0m                                  attrs=attr_protos, op_def=op_def)\n",
            "\u001b[0;32m/usr/local/lib/python3.10/dist-packages/tensorflow/python/ops/while_v2.py\u001b[0m in \u001b[0;36m_create_op_internal\u001b[0;34m(self, op_type, inputs, dtypes, input_types, name, attrs, op_def, compute_device)\u001b[0m\n\u001b[1;32m   1011\u001b[0m           compute_device=compute_device)\n\u001b[1;32m   1012\u001b[0m \u001b[0;34m\u001b[0m\u001b[0m\n\u001b[0;32m-> 1013\u001b[0;31m     return super(_WhileBodyGradFuncGraph, self)._create_op_internal(\n\u001b[0m\u001b[1;32m   1014\u001b[0m         \u001b[0mop_type\u001b[0m\u001b[0;34m,\u001b[0m\u001b[0;34m\u001b[0m\u001b[0;34m\u001b[0m\u001b[0m\n\u001b[1;32m   1015\u001b[0m         \u001b[0minputs\u001b[0m\u001b[0;34m,\u001b[0m\u001b[0;34m\u001b[0m\u001b[0;34m\u001b[0m\u001b[0m\n",
            "\u001b[0;32m/usr/local/lib/python3.10/dist-packages/tensorflow/python/framework/func_graph.py\u001b[0m in \u001b[0;36m_create_op_internal\u001b[0;34m(self, op_type, inputs, dtypes, input_types, name, attrs, op_def, compute_device)\u001b[0m\n\u001b[1;32m    666\u001b[0m       \u001b[0;32mif\u001b[0m \u001b[0mctxt\u001b[0m \u001b[0;32mis\u001b[0m \u001b[0;32mnot\u001b[0m \u001b[0;32mNone\u001b[0m \u001b[0;32mand\u001b[0m \u001b[0mhasattr\u001b[0m\u001b[0;34m(\u001b[0m\u001b[0mctxt\u001b[0m\u001b[0;34m,\u001b[0m \u001b[0;34m\"AddValue\"\u001b[0m\u001b[0;34m)\u001b[0m\u001b[0;34m:\u001b[0m\u001b[0;34m\u001b[0m\u001b[0;34m\u001b[0m\u001b[0m\n\u001b[1;32m    667\u001b[0m         \u001b[0minp\u001b[0m \u001b[0;34m=\u001b[0m \u001b[0mctxt\u001b[0m\u001b[0;34m.\u001b[0m\u001b[0mAddValue\u001b[0m\u001b[0;34m(\u001b[0m\u001b[0minp\u001b[0m\u001b[0;34m)\u001b[0m\u001b[0;34m\u001b[0m\u001b[0;34m\u001b[0m\u001b[0m\n\u001b[0;32m--> 668\u001b[0;31m       \u001b[0minp\u001b[0m \u001b[0;34m=\u001b[0m \u001b[0mself\u001b[0m\u001b[0;34m.\u001b[0m\u001b[0mcapture\u001b[0m\u001b[0;34m(\u001b[0m\u001b[0minp\u001b[0m\u001b[0;34m)\u001b[0m\u001b[0;34m\u001b[0m\u001b[0;34m\u001b[0m\u001b[0m\n\u001b[0m\u001b[1;32m    669\u001b[0m       \u001b[0mcaptured_inputs\u001b[0m\u001b[0;34m.\u001b[0m\u001b[0mappend\u001b[0m\u001b[0;34m(\u001b[0m\u001b[0minp\u001b[0m\u001b[0;34m)\u001b[0m\u001b[0;34m\u001b[0m\u001b[0;34m\u001b[0m\u001b[0m\n\u001b[1;32m    670\u001b[0m     return super()._create_op_internal(  # pylint: disable=protected-access\n",
            "\u001b[0;32m/usr/local/lib/python3.10/dist-packages/tensorflow/python/framework/func_graph.py\u001b[0m in \u001b[0;36mcapture\u001b[0;34m(self, tensor, name, shape)\u001b[0m\n\u001b[1;32m    673\u001b[0m \u001b[0;34m\u001b[0m\u001b[0m\n\u001b[1;32m    674\u001b[0m   \u001b[0;32mdef\u001b[0m \u001b[0mcapture\u001b[0m\u001b[0;34m(\u001b[0m\u001b[0mself\u001b[0m\u001b[0;34m,\u001b[0m \u001b[0mtensor\u001b[0m\u001b[0;34m,\u001b[0m \u001b[0mname\u001b[0m\u001b[0;34m=\u001b[0m\u001b[0;32mNone\u001b[0m\u001b[0;34m,\u001b[0m \u001b[0mshape\u001b[0m\u001b[0;34m=\u001b[0m\u001b[0;32mNone\u001b[0m\u001b[0;34m)\u001b[0m\u001b[0;34m:\u001b[0m\u001b[0;34m\u001b[0m\u001b[0;34m\u001b[0m\u001b[0m\n\u001b[0;32m--> 675\u001b[0;31m     \u001b[0;32mreturn\u001b[0m \u001b[0mself\u001b[0m\u001b[0;34m.\u001b[0m\u001b[0m_function_captures\u001b[0m\u001b[0;34m.\u001b[0m\u001b[0mcapture_by_value\u001b[0m\u001b[0;34m(\u001b[0m\u001b[0mself\u001b[0m\u001b[0;34m,\u001b[0m \u001b[0mtensor\u001b[0m\u001b[0;34m,\u001b[0m \u001b[0mname\u001b[0m\u001b[0;34m)\u001b[0m\u001b[0;34m\u001b[0m\u001b[0;34m\u001b[0m\u001b[0m\n\u001b[0m\u001b[1;32m    676\u001b[0m \u001b[0;34m\u001b[0m\u001b[0m\n\u001b[1;32m    677\u001b[0m   \u001b[0;32mdef\u001b[0m \u001b[0m_validate_in_scope\u001b[0m\u001b[0;34m(\u001b[0m\u001b[0mself\u001b[0m\u001b[0;34m,\u001b[0m \u001b[0mtensor\u001b[0m\u001b[0;34m)\u001b[0m\u001b[0;34m:\u001b[0m\u001b[0;34m\u001b[0m\u001b[0;34m\u001b[0m\u001b[0m\n",
            "\u001b[0;32m/usr/local/lib/python3.10/dist-packages/tensorflow/core/function/capture/capture_container.py\u001b[0m in \u001b[0;36mcapture_by_value\u001b[0;34m(self, graph, tensor, name)\u001b[0m\n\u001b[1;32m    152\u001b[0m       \u001b[0;31m# cond/while graphs override _capture_helper() so cannot call\u001b[0m\u001b[0;34m\u001b[0m\u001b[0;34m\u001b[0m\u001b[0m\n\u001b[1;32m    153\u001b[0m       \u001b[0;31m# self.create_placeholder_helper() here directly.\u001b[0m\u001b[0;34m\u001b[0m\u001b[0;34m\u001b[0m\u001b[0m\n\u001b[0;32m--> 154\u001b[0;31m       \u001b[0;32mreturn\u001b[0m \u001b[0mgraph\u001b[0m\u001b[0;34m.\u001b[0m\u001b[0m_capture_helper\u001b[0m\u001b[0;34m(\u001b[0m\u001b[0mtensor\u001b[0m\u001b[0;34m,\u001b[0m \u001b[0mname\u001b[0m\u001b[0;34m)\u001b[0m  \u001b[0;31m# pylint: disable=protected-access\u001b[0m\u001b[0;34m\u001b[0m\u001b[0;34m\u001b[0m\u001b[0m\n\u001b[0m\u001b[1;32m    155\u001b[0m     \u001b[0;32mreturn\u001b[0m \u001b[0mtensor\u001b[0m\u001b[0;34m\u001b[0m\u001b[0;34m\u001b[0m\u001b[0m\n\u001b[1;32m    156\u001b[0m \u001b[0;34m\u001b[0m\u001b[0m\n",
            "\u001b[0;32m/usr/local/lib/python3.10/dist-packages/tensorflow/python/ops/while_v2.py\u001b[0m in \u001b[0;36m_capture_helper\u001b[0;34m(self, tensor, name)\u001b[0m\n\u001b[1;32m   1184\u001b[0m       \u001b[0;31m# `tensor_list`.\u001b[0m\u001b[0;34m\u001b[0m\u001b[0;34m\u001b[0m\u001b[0m\n\u001b[1;32m   1185\u001b[0m       \u001b[0;32mwith\u001b[0m \u001b[0mself\u001b[0m\u001b[0;34m.\u001b[0m\u001b[0m_forward_graph\u001b[0m\u001b[0;34m.\u001b[0m\u001b[0mas_default\u001b[0m\u001b[0;34m(\u001b[0m\u001b[0;34m)\u001b[0m\u001b[0;34m:\u001b[0m\u001b[0;34m\u001b[0m\u001b[0;34m\u001b[0m\u001b[0m\n\u001b[0;32m-> 1186\u001b[0;31m         \u001b[0maccumulator\u001b[0m \u001b[0;34m=\u001b[0m \u001b[0mlist_ops\u001b[0m\u001b[0;34m.\u001b[0m\u001b[0mtensor_list_push_back\u001b[0m\u001b[0;34m(\u001b[0m\u001b[0mtensor_list\u001b[0m\u001b[0;34m,\u001b[0m \u001b[0mtensor\u001b[0m\u001b[0;34m)\u001b[0m\u001b[0;34m\u001b[0m\u001b[0;34m\u001b[0m\u001b[0m\n\u001b[0m\u001b[1;32m   1187\u001b[0m       \u001b[0;31m# Add the modified tensor list to the list of outputs. This output will be\u001b[0m\u001b[0;34m\u001b[0m\u001b[0;34m\u001b[0m\u001b[0m\n\u001b[1;32m   1188\u001b[0m       \u001b[0;31m# all the accumulated values.\u001b[0m\u001b[0;34m\u001b[0m\u001b[0;34m\u001b[0m\u001b[0m\n",
            "\u001b[0;32m/usr/local/lib/python3.10/dist-packages/tensorflow/python/ops/gen_list_ops.py\u001b[0m in \u001b[0;36mtensor_list_push_back\u001b[0;34m(input_handle, tensor, name)\u001b[0m\n\u001b[1;32m    785\u001b[0m       \u001b[0;32mpass\u001b[0m  \u001b[0;31m# Add nodes to the TensorFlow graph.\u001b[0m\u001b[0;34m\u001b[0m\u001b[0;34m\u001b[0m\u001b[0m\n\u001b[1;32m    786\u001b[0m   \u001b[0;31m# Add nodes to the TensorFlow graph.\u001b[0m\u001b[0;34m\u001b[0m\u001b[0;34m\u001b[0m\u001b[0m\n\u001b[0;32m--> 787\u001b[0;31m   _, _, _op, _outputs = _op_def_library._apply_op_helper(\n\u001b[0m\u001b[1;32m    788\u001b[0m         \u001b[0;34m\"TensorListPushBack\"\u001b[0m\u001b[0;34m,\u001b[0m \u001b[0minput_handle\u001b[0m\u001b[0;34m=\u001b[0m\u001b[0minput_handle\u001b[0m\u001b[0;34m,\u001b[0m \u001b[0mtensor\u001b[0m\u001b[0;34m=\u001b[0m\u001b[0mtensor\u001b[0m\u001b[0;34m,\u001b[0m\u001b[0;34m\u001b[0m\u001b[0;34m\u001b[0m\u001b[0m\n\u001b[1;32m    789\u001b[0m                               name=name)\n",
            "\u001b[0;32m/usr/local/lib/python3.10/dist-packages/tensorflow/python/framework/op_def_library.py\u001b[0m in \u001b[0;36m_apply_op_helper\u001b[0;34m(op_type_name, name, **keywords)\u001b[0m\n\u001b[1;32m    774\u001b[0m   \u001b[0;31m# Requires that op_def has passed validation (using the C++\u001b[0m\u001b[0;34m\u001b[0m\u001b[0;34m\u001b[0m\u001b[0m\n\u001b[1;32m    775\u001b[0m   \u001b[0;31m# ValidateOpDef() from ../framework/op_def_util.h).\u001b[0m\u001b[0;34m\u001b[0m\u001b[0;34m\u001b[0m\u001b[0m\n\u001b[0;32m--> 776\u001b[0;31m   \u001b[0;32mwith\u001b[0m \u001b[0mg\u001b[0m\u001b[0;34m.\u001b[0m\u001b[0mas_default\u001b[0m\u001b[0;34m(\u001b[0m\u001b[0;34m)\u001b[0m\u001b[0;34m,\u001b[0m \u001b[0mops\u001b[0m\u001b[0;34m.\u001b[0m\u001b[0mname_scope\u001b[0m\u001b[0;34m(\u001b[0m\u001b[0mname\u001b[0m\u001b[0;34m)\u001b[0m \u001b[0;32mas\u001b[0m \u001b[0mscope\u001b[0m\u001b[0;34m:\u001b[0m\u001b[0;34m\u001b[0m\u001b[0;34m\u001b[0m\u001b[0m\n\u001b[0m\u001b[1;32m    777\u001b[0m     \u001b[0;32mif\u001b[0m \u001b[0mfallback\u001b[0m\u001b[0;34m:\u001b[0m\u001b[0;34m\u001b[0m\u001b[0;34m\u001b[0m\u001b[0m\n\u001b[1;32m    778\u001b[0m       _ExtractInputsAndAttrs(op_type_name, op_def, allowed_list_attr_map,\n",
            "\u001b[0;32m/usr/lib/python3.10/contextlib.py\u001b[0m in \u001b[0;36m__enter__\u001b[0;34m(self)\u001b[0m\n\u001b[1;32m    133\u001b[0m         \u001b[0;32mdel\u001b[0m \u001b[0mself\u001b[0m\u001b[0;34m.\u001b[0m\u001b[0margs\u001b[0m\u001b[0;34m,\u001b[0m \u001b[0mself\u001b[0m\u001b[0;34m.\u001b[0m\u001b[0mkwds\u001b[0m\u001b[0;34m,\u001b[0m \u001b[0mself\u001b[0m\u001b[0;34m.\u001b[0m\u001b[0mfunc\u001b[0m\u001b[0;34m\u001b[0m\u001b[0;34m\u001b[0m\u001b[0m\n\u001b[1;32m    134\u001b[0m         \u001b[0;32mtry\u001b[0m\u001b[0;34m:\u001b[0m\u001b[0;34m\u001b[0m\u001b[0;34m\u001b[0m\u001b[0m\n\u001b[0;32m--> 135\u001b[0;31m             \u001b[0;32mreturn\u001b[0m \u001b[0mnext\u001b[0m\u001b[0;34m(\u001b[0m\u001b[0mself\u001b[0m\u001b[0;34m.\u001b[0m\u001b[0mgen\u001b[0m\u001b[0;34m)\u001b[0m\u001b[0;34m\u001b[0m\u001b[0;34m\u001b[0m\u001b[0m\n\u001b[0m\u001b[1;32m    136\u001b[0m         \u001b[0;32mexcept\u001b[0m \u001b[0mStopIteration\u001b[0m\u001b[0;34m:\u001b[0m\u001b[0;34m\u001b[0m\u001b[0;34m\u001b[0m\u001b[0m\n\u001b[1;32m    137\u001b[0m             \u001b[0;32mraise\u001b[0m \u001b[0mRuntimeError\u001b[0m\u001b[0;34m(\u001b[0m\u001b[0;34m\"generator didn't yield\"\u001b[0m\u001b[0;34m)\u001b[0m \u001b[0;32mfrom\u001b[0m \u001b[0;32mNone\u001b[0m\u001b[0;34m\u001b[0m\u001b[0;34m\u001b[0m\u001b[0m\n",
            "\u001b[0;32m/usr/local/lib/python3.10/dist-packages/tensorflow/python/framework/func_graph.py\u001b[0m in \u001b[0;36minner_cm\u001b[0;34m()\u001b[0m\n\u001b[1;32m    485\u001b[0m       \u001b[0mself\u001b[0m\u001b[0;34m.\u001b[0m\u001b[0m_scope_exit_callbacks\u001b[0m \u001b[0;34m=\u001b[0m \u001b[0;34m[\u001b[0m\u001b[0;34m]\u001b[0m\u001b[0;34m\u001b[0m\u001b[0;34m\u001b[0m\u001b[0m\n\u001b[1;32m    486\u001b[0m \u001b[0;34m\u001b[0m\u001b[0m\n\u001b[0;32m--> 487\u001b[0;31m       \u001b[0;32mwith\u001b[0m \u001b[0mouter_cm\u001b[0m \u001b[0;32mas\u001b[0m \u001b[0mg\u001b[0m\u001b[0;34m:\u001b[0m\u001b[0;34m\u001b[0m\u001b[0;34m\u001b[0m\u001b[0m\n\u001b[0m\u001b[1;32m    488\u001b[0m         \u001b[0;32mtry\u001b[0m\u001b[0;34m:\u001b[0m\u001b[0;34m\u001b[0m\u001b[0;34m\u001b[0m\u001b[0m\n\u001b[1;32m    489\u001b[0m           \u001b[0;32myield\u001b[0m \u001b[0mg\u001b[0m\u001b[0;34m\u001b[0m\u001b[0;34m\u001b[0m\u001b[0m\n",
            "\u001b[0;32m/usr/lib/python3.10/contextlib.py\u001b[0m in \u001b[0;36m__enter__\u001b[0;34m(self)\u001b[0m\n\u001b[1;32m    133\u001b[0m         \u001b[0;32mdel\u001b[0m \u001b[0mself\u001b[0m\u001b[0;34m.\u001b[0m\u001b[0margs\u001b[0m\u001b[0;34m,\u001b[0m \u001b[0mself\u001b[0m\u001b[0;34m.\u001b[0m\u001b[0mkwds\u001b[0m\u001b[0;34m,\u001b[0m \u001b[0mself\u001b[0m\u001b[0;34m.\u001b[0m\u001b[0mfunc\u001b[0m\u001b[0;34m\u001b[0m\u001b[0;34m\u001b[0m\u001b[0m\n\u001b[1;32m    134\u001b[0m         \u001b[0;32mtry\u001b[0m\u001b[0;34m:\u001b[0m\u001b[0;34m\u001b[0m\u001b[0;34m\u001b[0m\u001b[0m\n\u001b[0;32m--> 135\u001b[0;31m             \u001b[0;32mreturn\u001b[0m \u001b[0mnext\u001b[0m\u001b[0;34m(\u001b[0m\u001b[0mself\u001b[0m\u001b[0;34m.\u001b[0m\u001b[0mgen\u001b[0m\u001b[0;34m)\u001b[0m\u001b[0;34m\u001b[0m\u001b[0;34m\u001b[0m\u001b[0m\n\u001b[0m\u001b[1;32m    136\u001b[0m         \u001b[0;32mexcept\u001b[0m \u001b[0mStopIteration\u001b[0m\u001b[0;34m:\u001b[0m\u001b[0;34m\u001b[0m\u001b[0;34m\u001b[0m\u001b[0m\n\u001b[1;32m    137\u001b[0m             \u001b[0;32mraise\u001b[0m \u001b[0mRuntimeError\u001b[0m\u001b[0;34m(\u001b[0m\u001b[0;34m\"generator didn't yield\"\u001b[0m\u001b[0;34m)\u001b[0m \u001b[0;32mfrom\u001b[0m \u001b[0;32mNone\u001b[0m\u001b[0;34m\u001b[0m\u001b[0;34m\u001b[0m\u001b[0m\n",
            "\u001b[0;32m/usr/local/lib/python3.10/dist-packages/tensorflow/python/framework/ops.py\u001b[0m in \u001b[0;36mget_controller\u001b[0;34m(self, default)\u001b[0m\n\u001b[1;32m   4569\u001b[0m     context.context().context_switches.push(default.building_function,\n\u001b[1;32m   4570\u001b[0m                                             \u001b[0mdefault\u001b[0m\u001b[0;34m.\u001b[0m\u001b[0mas_default\u001b[0m\u001b[0;34m,\u001b[0m\u001b[0;34m\u001b[0m\u001b[0;34m\u001b[0m\u001b[0m\n\u001b[0;32m-> 4571\u001b[0;31m                                             default._device_function_stack)\n\u001b[0m\u001b[1;32m   4572\u001b[0m     \u001b[0;32mtry\u001b[0m\u001b[0;34m:\u001b[0m\u001b[0;34m\u001b[0m\u001b[0;34m\u001b[0m\u001b[0m\n\u001b[1;32m   4573\u001b[0m       with super(_DefaultGraphStack,\n",
            "\u001b[0;32m/usr/local/lib/python3.10/dist-packages/tensorflow/python/framework/ops.py\u001b[0m in \u001b[0;36m_device_function_stack\u001b[0;34m(self)\u001b[0m\n\u001b[1;32m   4162\u001b[0m       \u001b[0mself\u001b[0m\u001b[0;34m.\u001b[0m\u001b[0m_stack_state_is_thread_local\u001b[0m \u001b[0;34m=\u001b[0m \u001b[0;32mTrue\u001b[0m\u001b[0;34m\u001b[0m\u001b[0;34m\u001b[0m\u001b[0m\n\u001b[1;32m   4163\u001b[0m \u001b[0;34m\u001b[0m\u001b[0m\n\u001b[0;32m-> 4164\u001b[0;31m   \u001b[0;34m@\u001b[0m\u001b[0mproperty\u001b[0m\u001b[0;34m\u001b[0m\u001b[0;34m\u001b[0m\u001b[0m\n\u001b[0m\u001b[1;32m   4165\u001b[0m   \u001b[0;32mdef\u001b[0m \u001b[0m_device_function_stack\u001b[0m\u001b[0;34m(\u001b[0m\u001b[0mself\u001b[0m\u001b[0;34m)\u001b[0m\u001b[0;34m:\u001b[0m\u001b[0;34m\u001b[0m\u001b[0;34m\u001b[0m\u001b[0m\n\u001b[1;32m   4166\u001b[0m     \u001b[0;32mif\u001b[0m \u001b[0mself\u001b[0m\u001b[0;34m.\u001b[0m\u001b[0m_stack_state_is_thread_local\u001b[0m\u001b[0;34m:\u001b[0m\u001b[0;34m\u001b[0m\u001b[0;34m\u001b[0m\u001b[0m\n",
            "\u001b[0;31mKeyboardInterrupt\u001b[0m: "
          ]
        }
      ]
    },
    {
      "cell_type": "code",
      "source": [
        "tuner = kt.Hyperband(build_model,  # Use Hyperband for efficient tuning\n",
        "                     objective='val_accuracy',\n",
        "                     max_epochs=10,\n",
        "                     directory='my_tuning_dir',\n",
        "                     overwrite=True)\n",
        "\n",
        "tuner.search(X_train, y_train_categorical, validation_data=(X_test, y_test_categorical),class_weight=classWeight)\n",
        "\n",
        "best_model = tuner.get_best_models()[0]"
      ],
      "metadata": {
        "colab": {
          "base_uri": "https://localhost:8080/"
        },
        "id": "x1RDA6LfMeXn",
        "outputId": "96bc6b4a-d2ea-445d-a053-219db4b66730"
      },
      "execution_count": null,
      "outputs": [
        {
          "output_type": "stream",
          "name": "stdout",
          "text": [
            "Trial 30 Complete [00h 00m 50s]\n",
            "val_accuracy: 0.9652202725410461\n",
            "\n",
            "Best val_accuracy So Far: 0.9652202725410461\n",
            "Total elapsed time: 00h 11m 25s\n"
          ]
        }
      ]
    },
    {
      "cell_type": "code",
      "source": [
        "model.fit(X_train, y_train_categorical, epochs=15, validation_data=(X_test, y_test_categorical),class_weight=classWeight)\n",
        "# model.summary()\n",
        "# best_model.summary()"
      ],
      "metadata": {
        "id": "o9LuppVKwzu9"
      },
      "execution_count": null,
      "outputs": []
    },
    {
      "cell_type": "code",
      "source": [
        "predictions_raw = best_model.predict(X_test)  # Get the raw outputs\n",
        "predictions = np.argmax(predictions_raw, axis=1)  # Convert to class indices"
      ],
      "metadata": {
        "id": "UwrpmrvHkUnj",
        "colab": {
          "base_uri": "https://localhost:8080/"
        },
        "outputId": "c996c9ae-e870-4038-da79-058e81a1d7a9"
      },
      "execution_count": null,
      "outputs": [
        {
          "output_type": "stream",
          "name": "stdout",
          "text": [
            "95/95 [==============================] - 2s 8ms/step\n"
          ]
        }
      ]
    },
    {
      "cell_type": "code",
      "source": [
        "print(y_test_simplified)"
      ],
      "metadata": {
        "id": "9nB9U-DGrQTf"
      },
      "execution_count": null,
      "outputs": []
    },
    {
      "cell_type": "code",
      "source": [
        "import numpy as np\n",
        "from scipy.stats import mode\n",
        "from sklearn.metrics import accuracy_score, confusion_matrix\n",
        "accuracy = accuracy_score(y_test, predictions)\n",
        "conf_matrix = confusion_matrix(y_test, predictions)\n",
        "print(f'Accuracy: {accuracy}')\n",
        "print('Confusion Matrix:\\n', conf_matrix)"
      ],
      "metadata": {
        "id": "cpK25sWgrHvi",
        "colab": {
          "base_uri": "https://localhost:8080/"
        },
        "outputId": "bde09ff4-5dc7-475b-f99a-69b9589d702f"
      },
      "execution_count": null,
      "outputs": [
        {
          "output_type": "stream",
          "name": "stdout",
          "text": [
            "Accuracy: 0.965220271613117\n",
            "Confusion Matrix:\n",
            " [[ 895    5    4]\n",
            " [  34 1319   34]\n",
            " [   9   19  700]]\n"
          ]
        }
      ]
    },
    {
      "cell_type": "code",
      "source": [
        "y_test_simplified = np.argmax(y_test[:, 0, :], axis=1)"
      ],
      "metadata": {
        "id": "jdkMHUgFucW4"
      },
      "execution_count": null,
      "outputs": []
    },
    {
      "cell_type": "code",
      "source": [
        "print(y_test_simplified)"
      ],
      "metadata": {
        "id": "YC7LHBo2ufJG"
      },
      "execution_count": null,
      "outputs": []
    },
    {
      "cell_type": "code",
      "source": [
        "print(y_test_simplified)\n",
        "print(predictions_labels)"
      ],
      "metadata": {
        "id": "dpay5641kkEK"
      },
      "execution_count": null,
      "outputs": []
    },
    {
      "cell_type": "code",
      "source": [
        "\n",
        "converter = tf.lite.TFLiteConverter.from_keras_model(best_model)\n",
        "converter.target_spec.supported_ops = [tf.lite.OpsSet.TFLITE_BUILTINS, tf.lite.OpsSet.SELECT_TF_OPS]\n",
        "converter._experimental_lower_tensor_list_ops = False\n",
        "tflite_model = converter.convert()\n",
        "\n",
        "with open(\"model_refactord_25window.tflite\", \"wb\") as f:\n",
        "    f.write(tflite_model)"
      ],
      "metadata": {
        "id": "1D0FD1QtOzP6"
      },
      "execution_count": null,
      "outputs": []
    },
    {
      "cell_type": "markdown",
      "source": [
        "#Quantization Exporting Model"
      ],
      "metadata": {
        "id": "TJuMaW76O-rK"
      }
    },
    {
      "cell_type": "code",
      "source": [
        "\n",
        "converter = tf.lite.TFLiteConverter.from_keras_model(best_model)\n",
        "converter.optimizations = [tf.lite.Optimize.DEFAULT]\n",
        "\n",
        "def representative_data_gen():\n",
        "    for value in X_test.take:\n",
        "\n",
        "        value = np.expand_dims(value, axis=0).astype(np.float32)\n",
        "        yield [value]\n",
        "\n",
        "converter.representative_dataset = representative_data_gen\n",
        "converter.target_spec.supported_ops = [tf.lite.OpsSet.TFLITE_BUILTINS, tf.lite.OpsSet.SELECT_TF_OPS]\n",
        "converter._experimental_lower_tensor_list_ops = False\n",
        "\n",
        "tflite_model = converter.convert()\n",
        "\n",
        "# Save the converted model to a TFLite file\n",
        "with open('model.tflite', 'wb') as f:\n",
        "    f.write(tflite_model)"
      ],
      "metadata": {
        "id": "51c_DWHLEb9G"
      },
      "execution_count": null,
      "outputs": []
    },
    {
      "cell_type": "code",
      "source": [
        "print(X_train[:5])\n",
        "print(y_train[:5])"
      ],
      "metadata": {
        "id": "KH9HllZuAAwt"
      },
      "execution_count": null,
      "outputs": []
    },
    {
      "cell_type": "code",
      "source": [
        "print(X)"
      ],
      "metadata": {
        "id": "aRMY702vN6vo"
      },
      "execution_count": null,
      "outputs": []
    },
    {
      "cell_type": "markdown",
      "source": [
        "#Evaluating the Machine Learning Model"
      ],
      "metadata": {
        "id": "xM-U80CSGjsC"
      }
    },
    {
      "cell_type": "code",
      "source": [
        "from tensorflow.keras.models import load_model\n",
        "model_path = '/content/drive/MyDrive/Development_Project/model.tflite'\n",
        "\n",
        "interpreter = tf.lite.Interpreter(model_path=model_path)\n",
        "interpreter.allocate_tensors()"
      ],
      "metadata": {
        "id": "TwBNB_AcGqr2"
      },
      "execution_count": null,
      "outputs": []
    },
    {
      "cell_type": "code",
      "source": [
        "input_details = interpreter.get_input_details()\n",
        "output_details = interpreter.get_output_details()\n",
        "\n",
        "interpreter.allocate_tensors()\n",
        "\n",
        "# Print model details\n",
        "for detail in interpreter.get_tensor_details():\n",
        "    print(detail)"
      ],
      "metadata": {
        "colab": {
          "base_uri": "https://localhost:8080/"
        },
        "id": "3J2PQc1gJV_e",
        "outputId": "7b2bc844-c64b-4599-df94-9761ede11a6e"
      },
      "execution_count": null,
      "outputs": [
        {
          "output_type": "stream",
          "name": "stdout",
          "text": [
            "{'name': 'serving_default_conv1d_input:0', 'index': 0, 'shape': array([ 1, 25,  6], dtype=int32), 'shape_signature': array([-1, 25,  6], dtype=int32), 'dtype': <class 'numpy.float32'>, 'quantization': (0.0, 0), 'quantization_parameters': {'scales': array([], dtype=float32), 'zero_points': array([], dtype=int32), 'quantized_dimension': 0}, 'sparsity_parameters': {}}\n",
            "{'name': 'sequential/conv1d/BiasAdd/ReadVariableOp', 'index': 1, 'shape': array([128], dtype=int32), 'shape_signature': array([128], dtype=int32), 'dtype': <class 'numpy.float32'>, 'quantization': (0.0, 0), 'quantization_parameters': {'scales': array([], dtype=float32), 'zero_points': array([], dtype=int32), 'quantized_dimension': 0}, 'sparsity_parameters': {}}\n",
            "{'name': 'sequential/conv1d_1/BiasAdd/ReadVariableOp', 'index': 2, 'shape': array([128], dtype=int32), 'shape_signature': array([128], dtype=int32), 'dtype': <class 'numpy.float32'>, 'quantization': (0.0, 0), 'quantization_parameters': {'scales': array([], dtype=float32), 'zero_points': array([], dtype=int32), 'quantized_dimension': 0}, 'sparsity_parameters': {}}\n",
            "{'name': 'sequential/conv1d/Conv1D/Squeeze', 'index': 3, 'shape': array([3], dtype=int32), 'shape_signature': array([3], dtype=int32), 'dtype': <class 'numpy.int32'>, 'quantization': (0.0, 0), 'quantization_parameters': {'scales': array([], dtype=float32), 'zero_points': array([], dtype=int32), 'quantized_dimension': 0}, 'sparsity_parameters': {}}\n",
            "{'name': 'sequential/conv1d_1/Conv1D/Squeeze', 'index': 4, 'shape': array([3], dtype=int32), 'shape_signature': array([3], dtype=int32), 'dtype': <class 'numpy.int32'>, 'quantization': (0.0, 0), 'quantization_parameters': {'scales': array([], dtype=float32), 'zero_points': array([], dtype=int32), 'quantized_dimension': 0}, 'sparsity_parameters': {}}\n",
            "{'name': 'sequential/max_pooling1d_1/Squeeze', 'index': 5, 'shape': array([3], dtype=int32), 'shape_signature': array([3], dtype=int32), 'dtype': <class 'numpy.int32'>, 'quantization': (0.0, 0), 'quantization_parameters': {'scales': array([], dtype=float32), 'zero_points': array([], dtype=int32), 'quantized_dimension': 0}, 'sparsity_parameters': {}}\n",
            "{'name': 'sequential/conv1d/Conv1D', 'index': 6, 'shape': array([128,   1,   3,   6], dtype=int32), 'shape_signature': array([128,   1,   3,   6], dtype=int32), 'dtype': <class 'numpy.float32'>, 'quantization': (0.0, 0), 'quantization_parameters': {'scales': array([], dtype=float32), 'zero_points': array([], dtype=int32), 'quantized_dimension': 0}, 'sparsity_parameters': {}}\n",
            "{'name': 'sequential/conv1d_1/Conv1D', 'index': 7, 'shape': array([128,   1,   3, 128], dtype=int32), 'shape_signature': array([128,   1,   3, 128], dtype=int32), 'dtype': <class 'numpy.float32'>, 'quantization': (0.0, 0), 'quantization_parameters': {'scales': array([], dtype=float32), 'zero_points': array([], dtype=int32), 'quantized_dimension': 0}, 'sparsity_parameters': {}}\n",
            "{'name': 'strided_slice_2', 'index': 8, 'shape': array([3], dtype=int32), 'shape_signature': array([3], dtype=int32), 'dtype': <class 'numpy.int32'>, 'quantization': (0.0, 0), 'quantization_parameters': {'scales': array([], dtype=float32), 'zero_points': array([], dtype=int32), 'quantized_dimension': 0}, 'sparsity_parameters': {}}\n",
            "{'name': 'strided_slice_21', 'index': 9, 'shape': array([3], dtype=int32), 'shape_signature': array([3], dtype=int32), 'dtype': <class 'numpy.int32'>, 'quantization': (0.0, 0), 'quantization_parameters': {'scales': array([], dtype=float32), 'zero_points': array([], dtype=int32), 'quantized_dimension': 0}, 'sparsity_parameters': {}}\n",
            "{'name': 'strided_slice_22', 'index': 10, 'shape': array([3], dtype=int32), 'shape_signature': array([3], dtype=int32), 'dtype': <class 'numpy.int32'>, 'quantization': (0.0, 0), 'quantization_parameters': {'scales': array([], dtype=float32), 'zero_points': array([], dtype=int32), 'quantized_dimension': 0}, 'sparsity_parameters': {}}\n",
            "{'name': 'TensorArrayV2_1/num_elements', 'index': 11, 'shape': array([], dtype=int32), 'shape_signature': array([], dtype=int32), 'dtype': <class 'numpy.int32'>, 'quantization': (0.0, 0), 'quantization_parameters': {'scales': array([], dtype=float32), 'zero_points': array([], dtype=int32), 'quantized_dimension': 0}, 'sparsity_parameters': {}}\n",
            "{'name': 'TensorArrayUnstack/TensorListFromTensor/element_shape', 'index': 12, 'shape': array([2], dtype=int32), 'shape_signature': array([2], dtype=int32), 'dtype': <class 'numpy.int32'>, 'quantization': (0.0, 0), 'quantization_parameters': {'scales': array([], dtype=float32), 'zero_points': array([], dtype=int32), 'quantized_dimension': 0}, 'sparsity_parameters': {}}\n",
            "{'name': 'time', 'index': 13, 'shape': array([], dtype=int32), 'shape_signature': array([], dtype=int32), 'dtype': <class 'numpy.int32'>, 'quantization': (0.0, 0), 'quantization_parameters': {'scales': array([], dtype=float32), 'zero_points': array([], dtype=int32), 'quantized_dimension': 0}, 'sparsity_parameters': {}}\n",
            "{'name': 'transpose/perm', 'index': 14, 'shape': array([3], dtype=int32), 'shape_signature': array([3], dtype=int32), 'dtype': <class 'numpy.int32'>, 'quantization': (0.0, 0), 'quantization_parameters': {'scales': array([], dtype=float32), 'zero_points': array([], dtype=int32), 'quantized_dimension': 0}, 'sparsity_parameters': {}}\n",
            "{'name': 'strided_slice', 'index': 15, 'shape': array([], dtype=int32), 'shape_signature': array([], dtype=int32), 'dtype': <class 'numpy.int32'>, 'quantization': (0.0, 0), 'quantization_parameters': {'scales': array([], dtype=float32), 'zero_points': array([], dtype=int32), 'quantized_dimension': 0}, 'sparsity_parameters': {}}\n",
            "{'name': 'sequential/batch_normalization/batchnorm/sub', 'index': 16, 'shape': array([128], dtype=int32), 'shape_signature': array([128], dtype=int32), 'dtype': <class 'numpy.float32'>, 'quantization': (0.0, 0), 'quantization_parameters': {'scales': array([], dtype=float32), 'zero_points': array([], dtype=int32), 'quantized_dimension': 0}, 'sparsity_parameters': {}}\n",
            "{'name': 'sequential/batch_normalization/batchnorm/mul', 'index': 17, 'shape': array([128], dtype=int32), 'shape_signature': array([128], dtype=int32), 'dtype': <class 'numpy.float32'>, 'quantization': (0.0, 0), 'quantization_parameters': {'scales': array([], dtype=float32), 'zero_points': array([], dtype=int32), 'quantized_dimension': 0}, 'sparsity_parameters': {}}\n",
            "{'name': 'sequential/batch_normalization_1/batchnorm/sub', 'index': 18, 'shape': array([128], dtype=int32), 'shape_signature': array([128], dtype=int32), 'dtype': <class 'numpy.float32'>, 'quantization': (0.0, 0), 'quantization_parameters': {'scales': array([], dtype=float32), 'zero_points': array([], dtype=int32), 'quantized_dimension': 0}, 'sparsity_parameters': {}}\n",
            "{'name': 'sequential/batch_normalization_1/batchnorm/mul', 'index': 19, 'shape': array([128], dtype=int32), 'shape_signature': array([128], dtype=int32), 'dtype': <class 'numpy.float32'>, 'quantization': (0.0, 0), 'quantization_parameters': {'scales': array([], dtype=float32), 'zero_points': array([], dtype=int32), 'quantized_dimension': 0}, 'sparsity_parameters': {}}\n",
            "{'name': 'sequential/lstm/Read_2/ReadVariableOp', 'index': 20, 'shape': array([512], dtype=int32), 'shape_signature': array([512], dtype=int32), 'dtype': <class 'numpy.float32'>, 'quantization': (0.0, 0), 'quantization_parameters': {'scales': array([], dtype=float32), 'zero_points': array([], dtype=int32), 'quantized_dimension': 0}, 'sparsity_parameters': {}}\n",
            "{'name': 'sequential/lstm_1/Read_2/ReadVariableOp', 'index': 21, 'shape': array([80], dtype=int32), 'shape_signature': array([80], dtype=int32), 'dtype': <class 'numpy.float32'>, 'quantization': (0.0, 0), 'quantization_parameters': {'scales': array([], dtype=float32), 'zero_points': array([], dtype=int32), 'quantized_dimension': 0}, 'sparsity_parameters': {}}\n",
            "{'name': 'sequential/dense/BiasAdd/ReadVariableOp', 'index': 22, 'shape': array([100], dtype=int32), 'shape_signature': array([100], dtype=int32), 'dtype': <class 'numpy.float32'>, 'quantization': (0.0, 0), 'quantization_parameters': {'scales': array([], dtype=float32), 'zero_points': array([], dtype=int32), 'quantized_dimension': 0}, 'sparsity_parameters': {}}\n",
            "{'name': 'sequential/dense_1/BiasAdd/ReadVariableOp', 'index': 23, 'shape': array([3], dtype=int32), 'shape_signature': array([3], dtype=int32), 'dtype': <class 'numpy.float32'>, 'quantization': (0.0, 0), 'quantization_parameters': {'scales': array([], dtype=float32), 'zero_points': array([], dtype=int32), 'quantized_dimension': 0}, 'sparsity_parameters': {}}\n",
            "{'name': 'sequential/max_pooling1d/ExpandDims/dim', 'index': 24, 'shape': array([], dtype=int32), 'shape_signature': array([], dtype=int32), 'dtype': <class 'numpy.int32'>, 'quantization': (0.0, 0), 'quantization_parameters': {'scales': array([], dtype=float32), 'zero_points': array([], dtype=int32), 'quantized_dimension': 0}, 'sparsity_parameters': {}}\n",
            "{'name': 'sequential/lstm_1/zeros/packed/1', 'index': 25, 'shape': array([], dtype=int32), 'shape_signature': array([], dtype=int32), 'dtype': <class 'numpy.int32'>, 'quantization': (0.0, 0), 'quantization_parameters': {'scales': array([], dtype=float32), 'zero_points': array([], dtype=int32), 'quantized_dimension': 0}, 'sparsity_parameters': {}}\n",
            "{'name': 'sequential/lstm/zeros/packed/1', 'index': 26, 'shape': array([], dtype=int32), 'shape_signature': array([], dtype=int32), 'dtype': <class 'numpy.int32'>, 'quantization': (0.0, 0), 'quantization_parameters': {'scales': array([], dtype=float32), 'zero_points': array([], dtype=int32), 'quantized_dimension': 0}, 'sparsity_parameters': {}}\n",
            "{'name': 'sequential/lstm/zeros/Const', 'index': 27, 'shape': array([], dtype=int32), 'shape_signature': array([], dtype=int32), 'dtype': <class 'numpy.float32'>, 'quantization': (0.0, 0), 'quantization_parameters': {'scales': array([], dtype=float32), 'zero_points': array([], dtype=int32), 'quantized_dimension': 0}, 'sparsity_parameters': {}}\n",
            "{'name': 'sequential/lstm/strided_slice/stack_1', 'index': 28, 'shape': array([1], dtype=int32), 'shape_signature': array([1], dtype=int32), 'dtype': <class 'numpy.int32'>, 'quantization': (0.0, 0), 'quantization_parameters': {'scales': array([], dtype=float32), 'zero_points': array([], dtype=int32), 'quantized_dimension': 0}, 'sparsity_parameters': {}}\n",
            "{'name': 'sequential/lstm/strided_slice/stack', 'index': 29, 'shape': array([1], dtype=int32), 'shape_signature': array([1], dtype=int32), 'dtype': <class 'numpy.int32'>, 'quantization': (0.0, 0), 'quantization_parameters': {'scales': array([], dtype=float32), 'zero_points': array([], dtype=int32), 'quantized_dimension': 0}, 'sparsity_parameters': {}}\n",
            "{'name': 'sequential/flatten/Const', 'index': 30, 'shape': array([2], dtype=int32), 'shape_signature': array([2], dtype=int32), 'dtype': <class 'numpy.int32'>, 'quantization': (0.0, 0), 'quantization_parameters': {'scales': array([], dtype=float32), 'zero_points': array([], dtype=int32), 'quantized_dimension': 0}, 'sparsity_parameters': {}}\n",
            "{'name': 'sequential/conv1d/Conv1D/ExpandDims/dim', 'index': 31, 'shape': array([], dtype=int32), 'shape_signature': array([], dtype=int32), 'dtype': <class 'numpy.int32'>, 'quantization': (0.0, 0), 'quantization_parameters': {'scales': array([], dtype=float32), 'zero_points': array([], dtype=int32), 'quantized_dimension': 0}, 'sparsity_parameters': {}}\n",
            "{'name': 'sequential/dense/MatMul', 'index': 32, 'shape': array([100,  20], dtype=int32), 'shape_signature': array([100,  20], dtype=int32), 'dtype': <class 'numpy.float32'>, 'quantization': (0.0, 0), 'quantization_parameters': {'scales': array([], dtype=float32), 'zero_points': array([], dtype=int32), 'quantized_dimension': 0}, 'sparsity_parameters': {}}\n",
            "{'name': 'sequential/dense_1/MatMul', 'index': 33, 'shape': array([  3, 100], dtype=int32), 'shape_signature': array([  3, 100], dtype=int32), 'dtype': <class 'numpy.float32'>, 'quantization': (0.0, 0), 'quantization_parameters': {'scales': array([], dtype=float32), 'zero_points': array([], dtype=int32), 'quantized_dimension': 0}, 'sparsity_parameters': {}}\n",
            "{'name': 'sequential/conv1d/Conv1D/ExpandDims', 'index': 34, 'shape': array([ 1,  1, 25,  6], dtype=int32), 'shape_signature': array([-1,  1, 25,  6], dtype=int32), 'dtype': <class 'numpy.float32'>, 'quantization': (0.0, 0), 'quantization_parameters': {'scales': array([], dtype=float32), 'zero_points': array([], dtype=int32), 'quantized_dimension': 0}, 'sparsity_parameters': {}}\n",
            "{'name': 'sequential/conv1d/BiasAdd;sequential/conv1d/Conv1D/Squeeze;sequential/conv1d/BiasAdd/ReadVariableOp;sequential/conv1d_1/Conv1D;sequential/conv1d/Conv1D', 'index': 35, 'shape': array([  1,   1,  25, 128], dtype=int32), 'shape_signature': array([ -1,   1,  25, 128], dtype=int32), 'dtype': <class 'numpy.float32'>, 'quantization': (0.0, 0), 'quantization_parameters': {'scales': array([], dtype=float32), 'zero_points': array([], dtype=int32), 'quantized_dimension': 0}, 'sparsity_parameters': {}}\n",
            "{'name': 'sequential/conv1d/Tanh;sequential/conv1d/BiasAdd;sequential/conv1d/Conv1D/Squeeze;sequential/conv1d/BiasAdd/ReadVariableOp', 'index': 36, 'shape': array([  1,   1,  25, 128], dtype=int32), 'shape_signature': array([ -1,   1,  25, 128], dtype=int32), 'dtype': <class 'numpy.float32'>, 'quantization': (0.0, 0), 'quantization_parameters': {'scales': array([], dtype=float32), 'zero_points': array([], dtype=int32), 'quantized_dimension': 0}, 'sparsity_parameters': {}}\n",
            "{'name': 'sequential/batch_normalization/batchnorm/mul_1;sequential/conv1d/Conv1D/Squeeze;sequential/conv1d/Tanh;sequential/conv1d/BiasAdd;sequential/conv1d/BiasAdd/ReadVariableOp;sequential/batch_normalization/batchnorm/mul', 'index': 37, 'shape': array([  1,   1,  25, 128], dtype=int32), 'shape_signature': array([ -1,   1,  25, 128], dtype=int32), 'dtype': <class 'numpy.float32'>, 'quantization': (0.0, 0), 'quantization_parameters': {'scales': array([], dtype=float32), 'zero_points': array([], dtype=int32), 'quantized_dimension': 0}, 'sparsity_parameters': {}}\n",
            "{'name': 'sequential/batch_normalization/batchnorm/add_1;sequential/conv1d/Conv1D/Squeeze;sequential/batch_normalization/batchnorm/mul_1;sequential/conv1d/Tanh;sequential/conv1d/BiasAdd;sequential/conv1d/BiasAdd/ReadVariableOp;sequential/batch_normalization/batchnorm/mul;sequential/batch_normalization/batchnorm/sub', 'index': 38, 'shape': array([  1,   1,  25, 128], dtype=int32), 'shape_signature': array([ -1,   1,  25, 128], dtype=int32), 'dtype': <class 'numpy.float32'>, 'quantization': (0.0, 0), 'quantization_parameters': {'scales': array([], dtype=float32), 'zero_points': array([], dtype=int32), 'quantized_dimension': 0}, 'sparsity_parameters': {}}\n",
            "{'name': 'sequential/batch_normalization/batchnorm/add_1;sequential/conv1d/Conv1D/Squeeze;sequential/batch_normalization/batchnorm/mul_1;sequential/conv1d/Tanh;sequential/conv1d/BiasAdd;sequential/conv1d/BiasAdd/ReadVariableOp;sequential/batch_normalization/batchnorm/mul;sequential/batch_normalization/batchnorm/sub1', 'index': 39, 'shape': array([  1,  25, 128], dtype=int32), 'shape_signature': array([ -1,  25, 128], dtype=int32), 'dtype': <class 'numpy.float32'>, 'quantization': (0.0, 0), 'quantization_parameters': {'scales': array([], dtype=float32), 'zero_points': array([], dtype=int32), 'quantized_dimension': 0}, 'sparsity_parameters': {}}\n",
            "{'name': 'sequential/max_pooling1d/ExpandDims', 'index': 40, 'shape': array([  1,  25,   1, 128], dtype=int32), 'shape_signature': array([ -1,  25,   1, 128], dtype=int32), 'dtype': <class 'numpy.float32'>, 'quantization': (0.0, 0), 'quantization_parameters': {'scales': array([], dtype=float32), 'zero_points': array([], dtype=int32), 'quantized_dimension': 0}, 'sparsity_parameters': {}}\n",
            "{'name': 'sequential/max_pooling1d/MaxPool', 'index': 41, 'shape': array([  1,  12,   1, 128], dtype=int32), 'shape_signature': array([ -1,  12,   1, 128], dtype=int32), 'dtype': <class 'numpy.float32'>, 'quantization': (0.0, 0), 'quantization_parameters': {'scales': array([], dtype=float32), 'zero_points': array([], dtype=int32), 'quantized_dimension': 0}, 'sparsity_parameters': {}}\n",
            "{'name': 'sequential/max_pooling1d/Squeeze', 'index': 42, 'shape': array([  1,  12, 128], dtype=int32), 'shape_signature': array([ -1,  12, 128], dtype=int32), 'dtype': <class 'numpy.float32'>, 'quantization': (0.0, 0), 'quantization_parameters': {'scales': array([], dtype=float32), 'zero_points': array([], dtype=int32), 'quantized_dimension': 0}, 'sparsity_parameters': {}}\n",
            "{'name': 'sequential/conv1d_1/Conv1D/ExpandDims', 'index': 43, 'shape': array([  1,   1,  12, 128], dtype=int32), 'shape_signature': array([ -1,   1,  12, 128], dtype=int32), 'dtype': <class 'numpy.float32'>, 'quantization': (0.0, 0), 'quantization_parameters': {'scales': array([], dtype=float32), 'zero_points': array([], dtype=int32), 'quantized_dimension': 0}, 'sparsity_parameters': {}}\n",
            "{'name': 'sequential/conv1d_1/BiasAdd;sequential/conv1d_1/Conv1D/Squeeze;sequential/conv1d_1/BiasAdd/ReadVariableOp;sequential/conv1d_1/Conv1D', 'index': 44, 'shape': array([  1,   1,  12, 128], dtype=int32), 'shape_signature': array([ -1,   1,  12, 128], dtype=int32), 'dtype': <class 'numpy.float32'>, 'quantization': (0.0, 0), 'quantization_parameters': {'scales': array([], dtype=float32), 'zero_points': array([], dtype=int32), 'quantized_dimension': 0}, 'sparsity_parameters': {}}\n",
            "{'name': 'sequential/conv1d_1/Tanh;sequential/conv1d_1/BiasAdd;sequential/conv1d_1/Conv1D/Squeeze;sequential/conv1d_1/BiasAdd/ReadVariableOp', 'index': 45, 'shape': array([  1,   1,  12, 128], dtype=int32), 'shape_signature': array([ -1,   1,  12, 128], dtype=int32), 'dtype': <class 'numpy.float32'>, 'quantization': (0.0, 0), 'quantization_parameters': {'scales': array([], dtype=float32), 'zero_points': array([], dtype=int32), 'quantized_dimension': 0}, 'sparsity_parameters': {}}\n",
            "{'name': 'sequential/batch_normalization_1/batchnorm/mul_1;sequential/conv1d_1/Conv1D/Squeeze;sequential/conv1d_1/Tanh;sequential/conv1d_1/BiasAdd;sequential/conv1d_1/BiasAdd/ReadVariableOp;sequential/batch_normalization_1/batchnorm/mul', 'index': 46, 'shape': array([  1,   1,  12, 128], dtype=int32), 'shape_signature': array([ -1,   1,  12, 128], dtype=int32), 'dtype': <class 'numpy.float32'>, 'quantization': (0.0, 0), 'quantization_parameters': {'scales': array([], dtype=float32), 'zero_points': array([], dtype=int32), 'quantized_dimension': 0}, 'sparsity_parameters': {}}\n",
            "{'name': 'sequential/batch_normalization_1/batchnorm/add_1;sequential/conv1d_1/Conv1D/Squeeze;sequential/batch_normalization_1/batchnorm/mul_1;sequential/conv1d_1/Tanh;sequential/conv1d_1/BiasAdd;sequential/conv1d_1/BiasAdd/ReadVariableOp;sequential/batch_normalization_1/batchnorm/mul;sequential/batch_normalization_1/batchnorm/sub', 'index': 47, 'shape': array([  1,   1,  12, 128], dtype=int32), 'shape_signature': array([ -1,   1,  12, 128], dtype=int32), 'dtype': <class 'numpy.float32'>, 'quantization': (0.0, 0), 'quantization_parameters': {'scales': array([], dtype=float32), 'zero_points': array([], dtype=int32), 'quantized_dimension': 0}, 'sparsity_parameters': {}}\n",
            "{'name': 'sequential/batch_normalization_1/batchnorm/add_1;sequential/conv1d_1/Conv1D/Squeeze;sequential/batch_normalization_1/batchnorm/mul_1;sequential/conv1d_1/Tanh;sequential/conv1d_1/BiasAdd;sequential/conv1d_1/BiasAdd/ReadVariableOp;sequential/batch_normalization_1/batchnorm/mul;sequential/batch_normalization_1/batchnorm/sub1', 'index': 48, 'shape': array([  1,  12, 128], dtype=int32), 'shape_signature': array([ -1,  12, 128], dtype=int32), 'dtype': <class 'numpy.float32'>, 'quantization': (0.0, 0), 'quantization_parameters': {'scales': array([], dtype=float32), 'zero_points': array([], dtype=int32), 'quantized_dimension': 0}, 'sparsity_parameters': {}}\n",
            "{'name': 'sequential/max_pooling1d_1/ExpandDims', 'index': 49, 'shape': array([  1,  12,   1, 128], dtype=int32), 'shape_signature': array([ -1,  12,   1, 128], dtype=int32), 'dtype': <class 'numpy.float32'>, 'quantization': (0.0, 0), 'quantization_parameters': {'scales': array([], dtype=float32), 'zero_points': array([], dtype=int32), 'quantized_dimension': 0}, 'sparsity_parameters': {}}\n",
            "{'name': 'sequential/max_pooling1d_1/MaxPool', 'index': 50, 'shape': array([  1,   6,   1, 128], dtype=int32), 'shape_signature': array([ -1,   6,   1, 128], dtype=int32), 'dtype': <class 'numpy.float32'>, 'quantization': (0.0, 0), 'quantization_parameters': {'scales': array([], dtype=float32), 'zero_points': array([], dtype=int32), 'quantized_dimension': 0}, 'sparsity_parameters': {}}\n",
            "{'name': 'sequential/max_pooling1d_1/Squeeze1', 'index': 51, 'shape': array([  1,   6, 128], dtype=int32), 'shape_signature': array([ -1,   6, 128], dtype=int32), 'dtype': <class 'numpy.float32'>, 'quantization': (0.0, 0), 'quantization_parameters': {'scales': array([], dtype=float32), 'zero_points': array([], dtype=int32), 'quantized_dimension': 0}, 'sparsity_parameters': {}}\n",
            "{'name': 'sequential/lstm/Shape', 'index': 52, 'shape': array([3], dtype=int32), 'shape_signature': array([3], dtype=int32), 'dtype': <class 'numpy.int32'>, 'quantization': (0.0, 0), 'quantization_parameters': {'scales': array([], dtype=float32), 'zero_points': array([], dtype=int32), 'quantized_dimension': 0}, 'sparsity_parameters': {}}\n",
            "{'name': 'sequential/lstm/strided_slice', 'index': 53, 'shape': array([], dtype=int32), 'shape_signature': array([], dtype=int32), 'dtype': <class 'numpy.int32'>, 'quantization': (0.0, 0), 'quantization_parameters': {'scales': array([], dtype=float32), 'zero_points': array([], dtype=int32), 'quantized_dimension': 0}, 'sparsity_parameters': {}}\n",
            "{'name': 'sequential/lstm/zeros/packed', 'index': 54, 'shape': array([2], dtype=int32), 'shape_signature': array([2], dtype=int32), 'dtype': <class 'numpy.int32'>, 'quantization': (0.0, 0), 'quantization_parameters': {'scales': array([], dtype=float32), 'zero_points': array([], dtype=int32), 'quantized_dimension': 0}, 'sparsity_parameters': {}}\n",
            "{'name': 'sequential/lstm/zeros', 'index': 55, 'shape': array([  1, 128], dtype=int32), 'shape_signature': array([ -1, 128], dtype=int32), 'dtype': <class 'numpy.float32'>, 'quantization': (0.0, 0), 'quantization_parameters': {'scales': array([], dtype=float32), 'zero_points': array([], dtype=int32), 'quantized_dimension': 0}, 'sparsity_parameters': {}}\n",
            "{'name': 'transpose', 'index': 56, 'shape': array([  6,   1, 128], dtype=int32), 'shape_signature': array([  6,  -1, 128], dtype=int32), 'dtype': <class 'numpy.float32'>, 'quantization': (0.0, 0), 'quantization_parameters': {'scales': array([], dtype=float32), 'zero_points': array([], dtype=int32), 'quantized_dimension': 0}, 'sparsity_parameters': {}}\n",
            "{'name': 'TensorArrayV2_1', 'index': 57, 'shape': array([], dtype=int32), 'shape_signature': array([], dtype=int32), 'dtype': <class 'numpy.object_'>, 'quantization': (0.0, 0), 'quantization_parameters': {'scales': array([], dtype=float32), 'zero_points': array([], dtype=int32), 'quantized_dimension': 0}, 'sparsity_parameters': {}}\n",
            "{'name': 'while', 'index': 58, 'shape': array([], dtype=int32), 'shape_signature': array([], dtype=int32), 'dtype': <class 'numpy.int32'>, 'quantization': (0.0, 0), 'quantization_parameters': {'scales': array([], dtype=float32), 'zero_points': array([], dtype=int32), 'quantized_dimension': 0}, 'sparsity_parameters': {}}\n",
            "{'name': 'while1', 'index': 59, 'shape': array([], dtype=int32), 'shape_signature': array([], dtype=int32), 'dtype': <class 'numpy.int32'>, 'quantization': (0.0, 0), 'quantization_parameters': {'scales': array([], dtype=float32), 'zero_points': array([], dtype=int32), 'quantized_dimension': 0}, 'sparsity_parameters': {}}\n",
            "{'name': 'while2', 'index': 60, 'shape': array([], dtype=int32), 'shape_signature': array([], dtype=int32), 'dtype': <class 'numpy.object_'>, 'quantization': (0.0, 0), 'quantization_parameters': {'scales': array([], dtype=float32), 'zero_points': array([], dtype=int32), 'quantized_dimension': 0}, 'sparsity_parameters': {}}\n",
            "{'name': 'while3', 'index': 61, 'shape': array([  1, 128], dtype=int32), 'shape_signature': array([ -1, 128], dtype=int32), 'dtype': <class 'numpy.float32'>, 'quantization': (0.0, 0), 'quantization_parameters': {'scales': array([], dtype=float32), 'zero_points': array([], dtype=int32), 'quantized_dimension': 0}, 'sparsity_parameters': {}}\n",
            "{'name': 'while4', 'index': 62, 'shape': array([  1, 128], dtype=int32), 'shape_signature': array([ -1, 128], dtype=int32), 'dtype': <class 'numpy.float32'>, 'quantization': (0.0, 0), 'quantization_parameters': {'scales': array([], dtype=float32), 'zero_points': array([], dtype=int32), 'quantized_dimension': 0}, 'sparsity_parameters': {}}\n",
            "{'name': 'while5', 'index': 63, 'shape': array([  6,   1, 128], dtype=int32), 'shape_signature': array([  6,  -1, 128], dtype=int32), 'dtype': <class 'numpy.float32'>, 'quantization': (0.0, 0), 'quantization_parameters': {'scales': array([], dtype=float32), 'zero_points': array([], dtype=int32), 'quantized_dimension': 0}, 'sparsity_parameters': {}}\n",
            "{'name': 'TensorArrayV2Stack/TensorListStack', 'index': 64, 'shape': array([  1,   1, 128], dtype=int32), 'shape_signature': array([ -1,  -1, 128], dtype=int32), 'dtype': <class 'numpy.float32'>, 'quantization': (0.0, 0), 'quantization_parameters': {'scales': array([], dtype=float32), 'zero_points': array([], dtype=int32), 'quantized_dimension': 0}, 'sparsity_parameters': {}}\n",
            "{'name': 'transpose_1', 'index': 65, 'shape': array([  1,   1, 128], dtype=int32), 'shape_signature': array([ -1,  -1, 128], dtype=int32), 'dtype': <class 'numpy.float32'>, 'quantization': (0.0, 0), 'quantization_parameters': {'scales': array([], dtype=float32), 'zero_points': array([], dtype=int32), 'quantized_dimension': 0}, 'sparsity_parameters': {}}\n",
            "{'name': 'sequential/lstm_1/Shape', 'index': 66, 'shape': array([3], dtype=int32), 'shape_signature': array([3], dtype=int32), 'dtype': <class 'numpy.int32'>, 'quantization': (0.0, 0), 'quantization_parameters': {'scales': array([], dtype=float32), 'zero_points': array([], dtype=int32), 'quantized_dimension': 0}, 'sparsity_parameters': {}}\n",
            "{'name': 'sequential/lstm_1/strided_slice', 'index': 67, 'shape': array([], dtype=int32), 'shape_signature': array([], dtype=int32), 'dtype': <class 'numpy.int32'>, 'quantization': (0.0, 0), 'quantization_parameters': {'scales': array([], dtype=float32), 'zero_points': array([], dtype=int32), 'quantized_dimension': 0}, 'sparsity_parameters': {}}\n",
            "{'name': 'sequential/lstm_1/zeros/packed', 'index': 68, 'shape': array([2], dtype=int32), 'shape_signature': array([2], dtype=int32), 'dtype': <class 'numpy.int32'>, 'quantization': (0.0, 0), 'quantization_parameters': {'scales': array([], dtype=float32), 'zero_points': array([], dtype=int32), 'quantized_dimension': 0}, 'sparsity_parameters': {}}\n",
            "{'name': 'sequential/lstm_1/zeros', 'index': 69, 'shape': array([ 1, 20], dtype=int32), 'shape_signature': array([-1, 20], dtype=int32), 'dtype': <class 'numpy.float32'>, 'quantization': (0.0, 0), 'quantization_parameters': {'scales': array([], dtype=float32), 'zero_points': array([], dtype=int32), 'quantized_dimension': 0}, 'sparsity_parameters': {}}\n",
            "{'name': 'TensorArrayV2_11', 'index': 70, 'shape': array([], dtype=int32), 'shape_signature': array([], dtype=int32), 'dtype': <class 'numpy.object_'>, 'quantization': (0.0, 0), 'quantization_parameters': {'scales': array([], dtype=float32), 'zero_points': array([], dtype=int32), 'quantized_dimension': 0}, 'sparsity_parameters': {}}\n",
            "{'name': 'Shape', 'index': 71, 'shape': array([3], dtype=int32), 'shape_signature': array([3], dtype=int32), 'dtype': <class 'numpy.int32'>, 'quantization': (0.0, 0), 'quantization_parameters': {'scales': array([], dtype=float32), 'zero_points': array([], dtype=int32), 'quantized_dimension': 0}, 'sparsity_parameters': {}}\n",
            "{'name': 'strided_slice1', 'index': 72, 'shape': array([], dtype=int32), 'shape_signature': array([], dtype=int32), 'dtype': <class 'numpy.int32'>, 'quantization': (0.0, 0), 'quantization_parameters': {'scales': array([], dtype=float32), 'zero_points': array([], dtype=int32), 'quantized_dimension': 0}, 'sparsity_parameters': {}}\n",
            "{'name': 'while6', 'index': 73, 'shape': array([], dtype=int32), 'shape_signature': array([], dtype=int32), 'dtype': <class 'numpy.int32'>, 'quantization': (0.0, 0), 'quantization_parameters': {'scales': array([], dtype=float32), 'zero_points': array([], dtype=int32), 'quantized_dimension': 0}, 'sparsity_parameters': {}}\n",
            "{'name': 'while7', 'index': 74, 'shape': array([], dtype=int32), 'shape_signature': array([], dtype=int32), 'dtype': <class 'numpy.int32'>, 'quantization': (0.0, 0), 'quantization_parameters': {'scales': array([], dtype=float32), 'zero_points': array([], dtype=int32), 'quantized_dimension': 0}, 'sparsity_parameters': {}}\n",
            "{'name': 'while8', 'index': 75, 'shape': array([], dtype=int32), 'shape_signature': array([], dtype=int32), 'dtype': <class 'numpy.object_'>, 'quantization': (0.0, 0), 'quantization_parameters': {'scales': array([], dtype=float32), 'zero_points': array([], dtype=int32), 'quantized_dimension': 0}, 'sparsity_parameters': {}}\n",
            "{'name': 'while9', 'index': 76, 'shape': array([ 1, 20], dtype=int32), 'shape_signature': array([-1, 20], dtype=int32), 'dtype': <class 'numpy.float32'>, 'quantization': (0.0, 0), 'quantization_parameters': {'scales': array([], dtype=float32), 'zero_points': array([], dtype=int32), 'quantized_dimension': 0}, 'sparsity_parameters': {}}\n",
            "{'name': 'while10', 'index': 77, 'shape': array([ 1, 20], dtype=int32), 'shape_signature': array([-1, 20], dtype=int32), 'dtype': <class 'numpy.float32'>, 'quantization': (0.0, 0), 'quantization_parameters': {'scales': array([], dtype=float32), 'zero_points': array([], dtype=int32), 'quantized_dimension': 0}, 'sparsity_parameters': {}}\n",
            "{'name': 'while11', 'index': 78, 'shape': array([], dtype=int32), 'shape_signature': array([], dtype=int32), 'dtype': <class 'numpy.int32'>, 'quantization': (0.0, 0), 'quantization_parameters': {'scales': array([], dtype=float32), 'zero_points': array([], dtype=int32), 'quantized_dimension': 0}, 'sparsity_parameters': {}}\n",
            "{'name': 'while12', 'index': 79, 'shape': array([  1,   1, 128], dtype=int32), 'shape_signature': array([ -1,  -1, 128], dtype=int32), 'dtype': <class 'numpy.float32'>, 'quantization': (0.0, 0), 'quantization_parameters': {'scales': array([], dtype=float32), 'zero_points': array([], dtype=int32), 'quantized_dimension': 0}, 'sparsity_parameters': {}}\n",
            "{'name': 'TensorArrayV2Stack/TensorListStack1', 'index': 80, 'shape': array([ 1,  1, 20], dtype=int32), 'shape_signature': array([ 1, -1, 20], dtype=int32), 'dtype': <class 'numpy.float32'>, 'quantization': (0.0, 0), 'quantization_parameters': {'scales': array([], dtype=float32), 'zero_points': array([], dtype=int32), 'quantized_dimension': 0}, 'sparsity_parameters': {}}\n",
            "{'name': 'strided_slice_23', 'index': 81, 'shape': array([ 1, 20], dtype=int32), 'shape_signature': array([-1, 20], dtype=int32), 'dtype': <class 'numpy.float32'>, 'quantization': (0.0, 0), 'quantization_parameters': {'scales': array([], dtype=float32), 'zero_points': array([], dtype=int32), 'quantized_dimension': 0}, 'sparsity_parameters': {}}\n",
            "{'name': 'sequential/flatten/Reshape', 'index': 82, 'shape': array([ 1, 20], dtype=int32), 'shape_signature': array([-1, 20], dtype=int32), 'dtype': <class 'numpy.float32'>, 'quantization': (0.0, 0), 'quantization_parameters': {'scales': array([], dtype=float32), 'zero_points': array([], dtype=int32), 'quantized_dimension': 0}, 'sparsity_parameters': {}}\n",
            "{'name': 'sequential/dense/MatMul;sequential/dense/Relu;sequential/dense/BiasAdd', 'index': 83, 'shape': array([  1, 100], dtype=int32), 'shape_signature': array([ -1, 100], dtype=int32), 'dtype': <class 'numpy.float32'>, 'quantization': (0.0, 0), 'quantization_parameters': {'scales': array([], dtype=float32), 'zero_points': array([], dtype=int32), 'quantized_dimension': 0}, 'sparsity_parameters': {}}\n",
            "{'name': 'sequential/dense_1/MatMul;sequential/dense_1/BiasAdd', 'index': 84, 'shape': array([1, 3], dtype=int32), 'shape_signature': array([-1,  3], dtype=int32), 'dtype': <class 'numpy.float32'>, 'quantization': (0.0, 0), 'quantization_parameters': {'scales': array([], dtype=float32), 'zero_points': array([], dtype=int32), 'quantized_dimension': 0}, 'sparsity_parameters': {}}\n",
            "{'name': 'StatefulPartitionedCall:0', 'index': 85, 'shape': array([1, 3], dtype=int32), 'shape_signature': array([-1,  3], dtype=int32), 'dtype': <class 'numpy.float32'>, 'quantization': (0.0, 0), 'quantization_parameters': {'scales': array([], dtype=float32), 'zero_points': array([], dtype=int32), 'quantized_dimension': 0}, 'sparsity_parameters': {}}\n",
            "{'name': 'Conv_hwcn_weights', 'index': 98, 'shape': array([ 18, 128], dtype=int32), 'shape_signature': array([ 18, 128], dtype=int32), 'dtype': <class 'numpy.float32'>, 'quantization': (0.0, 0), 'quantization_parameters': {'scales': array([], dtype=float32), 'zero_points': array([], dtype=int32), 'quantized_dimension': 0}, 'sparsity_parameters': {}}\n",
            "{'name': 'Conv_hwcn_weights', 'index': 99, 'shape': array([384, 128], dtype=int32), 'shape_signature': array([384, 128], dtype=int32), 'dtype': <class 'numpy.float32'>, 'quantization': (0.0, 0), 'quantization_parameters': {'scales': array([], dtype=float32), 'zero_points': array([], dtype=int32), 'quantized_dimension': 0}, 'sparsity_parameters': {}}\n"
          ]
        }
      ]
    },
    {
      "cell_type": "code",
      "source": [
        "from tensorflow.keras.models import Sequential\n",
        "from tensorflow.keras.layers import InputLayer, Conv1D, MaxPooling1D, LSTM, Dense, Flatten, BatchNormalization\n",
        "from tensorflow.keras.activations import tanh, relu\n",
        "\n",
        "model = Sequential([\n",
        "    InputLayer(input_shape=(25, 6)),\n",
        "    Conv1D(filters=128, kernel_size=3, activation='tanh', padding='same'),\n",
        "    BatchNormalization(),\n",
        "    MaxPooling1D(pool_size=2, strides=2),\n",
        "    Conv1D(filters=128, kernel_size=3, activation='tanh', padding='same'),\n",
        "    BatchNormalization(),\n",
        "    MaxPooling1D(pool_size=2, strides=2),\n",
        "    LSTM(128),\n",
        "    Flatten(),\n",
        "    Dense(100, activation='relu'),\n",
        "    Dense(3, activation='softmax')\n",
        "])\n",
        "\n",
        "model.summary()\n",
        "\n"
      ],
      "metadata": {
        "colab": {
          "base_uri": "https://localhost:8080/"
        },
        "id": "-KxhUFB8MqfE",
        "outputId": "4f3e8909-3b4a-4828-ff51-6f194fb29418"
      },
      "execution_count": null,
      "outputs": [
        {
          "output_type": "stream",
          "name": "stdout",
          "text": [
            "Model: \"sequential_4\"\n",
            "_________________________________________________________________\n",
            " Layer (type)                Output Shape              Param #   \n",
            "=================================================================\n",
            " conv1d_8 (Conv1D)           (None, 25, 128)           2432      \n",
            "                                                                 \n",
            " batch_normalization_8 (Bat  (None, 25, 128)           512       \n",
            " chNormalization)                                                \n",
            "                                                                 \n",
            " max_pooling1d_8 (MaxPoolin  (None, 12, 128)           0         \n",
            " g1D)                                                            \n",
            "                                                                 \n",
            " conv1d_9 (Conv1D)           (None, 12, 128)           49280     \n",
            "                                                                 \n",
            " batch_normalization_9 (Bat  (None, 12, 128)           512       \n",
            " chNormalization)                                                \n",
            "                                                                 \n",
            " max_pooling1d_9 (MaxPoolin  (None, 6, 128)            0         \n",
            " g1D)                                                            \n",
            "                                                                 \n",
            " lstm_5 (LSTM)               (None, 128)               131584    \n",
            "                                                                 \n",
            " flatten_4 (Flatten)         (None, 128)               0         \n",
            "                                                                 \n",
            " dense_8 (Dense)             (None, 100)               12900     \n",
            "                                                                 \n",
            " dense_9 (Dense)             (None, 3)                 303       \n",
            "                                                                 \n",
            "=================================================================\n",
            "Total params: 197523 (771.57 KB)\n",
            "Trainable params: 197011 (769.57 KB)\n",
            "Non-trainable params: 512 (2.00 KB)\n",
            "_________________________________________________________________\n"
          ]
        }
      ]
    },
    {
      "cell_type": "code",
      "source": [
        "import matplotlib.pyplot as plt\n",
        "\n",
        "model.compile(optimizer='adam', loss='categorical_crossentropy', metrics=['accuracy'])\n",
        "history = model.fit(X_train, y_train_categorical, epochs=10, validation_data=(X_test, y_test_categorical), batch_size=32)\n",
        "\n",
        "plt.figure(figsize=(12, 5))\n",
        "plt.subplot(1, 2, 1)\n",
        "plt.plot(history.history['accuracy'], label='Train Accuracy')\n",
        "plt.plot(history.history['val_accuracy'], label='Validation Accuracy')\n",
        "plt.title('Model Accuracy')\n",
        "plt.xlabel('Epoch')\n",
        "plt.ylabel('Accuracy')\n",
        "plt.legend()\n",
        "\n",
        "plt.subplot(1, 2, 2)\n",
        "plt.plot(history.history['loss'], label='Train Loss')\n",
        "plt.plot(history.history['val_loss'], label='Validation Loss')\n",
        "plt.title('Model Loss')\n",
        "plt.xlabel('Epoch')\n",
        "plt.ylabel('Loss')\n",
        "plt.legend()\n",
        "\n",
        "plt.tight_layout()\n",
        "plt.show()"
      ],
      "metadata": {
        "colab": {
          "base_uri": "https://localhost:8080/",
          "height": 803
        },
        "id": "R-nWKz2fOCHc",
        "outputId": "5df7e2d3-ba6b-4a99-a85f-8cb62f15b676"
      },
      "execution_count": null,
      "outputs": [
        {
          "output_type": "stream",
          "name": "stdout",
          "text": [
            "Epoch 1/10\n",
            "95/95 [==============================] - 7s 23ms/step - loss: 0.0421 - accuracy: 0.9785 - val_loss: 0.5019 - val_accuracy: 0.8741\n",
            "Epoch 2/10\n",
            "95/95 [==============================] - 1s 11ms/step - loss: 0.0408 - accuracy: 0.9798 - val_loss: 0.9827 - val_accuracy: 0.7887\n",
            "Epoch 3/10\n",
            "95/95 [==============================] - 1s 10ms/step - loss: 0.0372 - accuracy: 0.9821 - val_loss: 0.0490 - val_accuracy: 0.9765\n",
            "Epoch 4/10\n",
            "95/95 [==============================] - 1s 10ms/step - loss: 0.0533 - accuracy: 0.9758 - val_loss: 0.4747 - val_accuracy: 0.8519\n",
            "Epoch 5/10\n",
            "95/95 [==============================] - 1s 10ms/step - loss: 0.0398 - accuracy: 0.9821 - val_loss: 0.0903 - val_accuracy: 0.9573\n",
            "Epoch 6/10\n",
            "95/95 [==============================] - 1s 10ms/step - loss: 0.0436 - accuracy: 0.9805 - val_loss: 0.0858 - val_accuracy: 0.9573\n",
            "Epoch 7/10\n",
            "95/95 [==============================] - 1s 10ms/step - loss: 0.0311 - accuracy: 0.9838 - val_loss: 0.1759 - val_accuracy: 0.9609\n",
            "Epoch 8/10\n",
            "95/95 [==============================] - 1s 10ms/step - loss: 0.0293 - accuracy: 0.9854 - val_loss: 0.3697 - val_accuracy: 0.9029\n",
            "Epoch 9/10\n",
            "95/95 [==============================] - 1s 10ms/step - loss: 0.0330 - accuracy: 0.9838 - val_loss: 0.1621 - val_accuracy: 0.9387\n",
            "Epoch 10/10\n",
            "95/95 [==============================] - 1s 10ms/step - loss: 0.0317 - accuracy: 0.9848 - val_loss: 0.1645 - val_accuracy: 0.9328\n"
          ]
        },
        {
          "output_type": "display_data",
          "data": {
            "text/plain": [
              "<Figure size 1200x500 with 2 Axes>"
            ],
            "image/png": "[encoded data removed]"
          },
          "metadata": {}
        }
      ]
    },
    {
      "cell_type": "code",
      "source": [
        "import numpy as np\n",
        "import matplotlib.pyplot as plt\n",
        "import seaborn as sns\n",
        "from sklearn.metrics import confusion_matrix"
      ],
      "metadata": {
        "id": "lERH4uYxTjvq"
      },
      "execution_count": null,
      "outputs": []
    },
    {
      "cell_type": "code",
      "source": [
        "y_pred = model.predict(X_test)\n",
        "y_pred_classes = np.argmax(y_pred, axis=1)\n",
        "y_true_classes = np.argmax(y_test_categorical, axis=1)\n",
        "\n",
        "cm = confusion_matrix(y_true_classes, y_pred_classes)\n",
        "plt.figure(figsize=(10, 7))\n",
        "sns.heatmap(cm, annot=True, fmt='d', cmap='Blues', xticklabels=['Class 1', 'Class 2', 'Class 3'], yticklabels=['Class 1', 'Class 2', 'Class 3'])\n",
        "plt.xlabel('Predicted Labels')\n",
        "plt.ylabel('True Labels')\n",
        "plt.title('Confusion Matrix')\n",
        "plt.show()"
      ],
      "metadata": {
        "colab": {
          "base_uri": "https://localhost:8080/",
          "height": 658
        },
        "id": "lDl0ZaqYTgG_",
        "outputId": "c308b1a6-3926-45d9-c320-81a1252005e5"
      },
      "execution_count": null,
      "outputs": [
        {
          "output_type": "stream",
          "name": "stdout",
          "text": [
            "95/95 [==============================] - 1s 2ms/step\n"
          ]
        },
        {
          "output_type": "display_data",
          "data": {
            "text/plain": [
              "<Figure size 1000x700 with 2 Axes>"
            ],
            "image/png": "[encoded data removed]"
          },
          "metadata": {}
        }
      ]
    },
    {
      "cell_type": "code",
      "source": [
        "from sklearn.metrics import confusion_matrix, precision_recall_fscore_support"
      ],
      "metadata": {
        "id": "0cSy1OK3WB28"
      },
      "execution_count": null,
      "outputs": []
    },
    {
      "cell_type": "code",
      "source": [
        "metrics = precision_recall_fscore_support(y_true_classes, y_pred_classes, average=None, labels=[0, 1, 2])\n",
        "accuracies = np.diag(cm) / np.sum(cm, axis=1)\n",
        "\n",
        "activities = ['Crossover', 'Between the Legs','In and Out']\n",
        "\n",
        "\n",
        "results = pd.DataFrame({\n",
        "    'Activity': activities,\n",
        "    'Accuracy': accuracies,\n",
        "    'Recall': metrics[1],\n",
        "    'Precision': metrics[0],\n",
        "    'F1 score': metrics[2]\n",
        "})\n",
        "\n",
        "\n",
        "overall_metrics = precision_recall_fscore_support(y_true_classes, y_pred_classes, average='weighted')\n",
        "overall_accuracy = np.sum(np.diag(cm)) / np.sum(cm)\n",
        "overall_results = pd.DataFrame({\n",
        "    'Activity': ['Overall'],\n",
        "    'Accuracy': [overall_accuracy],\n",
        "    'Recall': [overall_metrics[1]],\n",
        "    'Precision': [overall_metrics[0]],\n",
        "    'F1 score': [overall_metrics[2]]\n",
        "})\n",
        "\n",
        "results = pd.concat([results, overall_results], ignore_index=True)\n"
      ],
      "metadata": {
        "id": "4WrSakt6Vmv0"
      },
      "execution_count": null,
      "outputs": []
    },
    {
      "cell_type": "code",
      "source": [
        "results['Accuracy'] = (results['Accuracy'] * 100).round(1).astype(str) + '%'\n",
        "results['Recall'] = (results['Recall'] * 100).round(1).astype(str) + '%'\n",
        "results['Precision'] = (results['Precision'] * 100).round(1).astype(str) + '%'\n",
        "results['F1 score'] = (results['F1 score'] * 100).round(1).astype(str) + '%'\n",
        "\n",
        "print(results)\n"
      ],
      "metadata": {
        "colab": {
          "base_uri": "https://localhost:8080/"
        },
        "id": "kiOpCBErV1B8",
        "outputId": "1ede44c4-08c1-4379-b163-1ce2e1fd1f17"
      },
      "execution_count": null,
      "outputs": [
        {
          "output_type": "stream",
          "name": "stdout",
          "text": [
            "           Activity Accuracy Recall Precision F1 score\n",
            "0         Crossover    98.8%  98.8%     84.6%    91.2%\n",
            "1  Between the Legs    92.3%  92.3%     97.4%    94.8%\n",
            "2        In and Out    88.3%  88.3%     98.9%    93.3%\n",
            "3           Overall    93.3%  93.3%     94.0%    93.3%\n"
          ]
        }
      ]
    }
  ],
  "metadata": {
    "colab": {
      "provenance": [],
      "collapsed_sections": [
        "OCtwsGyB6Y5b",
        "1s6Pg_FPIcT9",
        "u0FoZZENBq_A",
        "P1lWDqfMEoFm",
        "rmqflxEmE4Ja",
        "eEvG3v2WS5FQ",
        "0kp_AijKaiA_",
        "NOJ46yhhwfeQ",
        "ozvuPJn0wptO",
        "bIk7Nyr2ptrv",
        "PoIYn4DXpwhY",
        "is3Hax5iA1nH",
        "-19BZKb0qwmJ",
        "VrOoOL3I50et"
      ],
      "history_visible": true,
      "gpuType": "T4",
      "mount_file_id": "1oglg7EJlqlXwGF1dmEQUmY1JJY3aZ6-y",
      "authorship_tag": "ABX9TyONQlKY6rtLarKl6S7G0sp4",
      "include_colab_link": true
    },
    "kernelspec": {
      "display_name": "Python 3",
      "name": "python3"
    },
    "language_info": {
      "name": "python"
    },
    "accelerator": "GPU"
  },
  "nbformat": 4,
  "nbformat_minor": 0
}